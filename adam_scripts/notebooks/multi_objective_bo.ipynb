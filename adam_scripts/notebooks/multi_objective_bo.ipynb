{
 "cells": [
  {
   "cell_type": "markdown",
   "metadata": {
    "originalKey": "61330204-a407-449f-af77-fcd868546651"
   },
   "source": [
    "## Noisy, Parallel, Multi-Objective BO in BoTorch with qEHVI, qNEHVI, and qNParEGO\n",
    "\n",
    "In this tutorial, we illustrate how to implement a simple multi-objective (MO) Bayesian Optimization (BO) closed loop in BoTorch.\n",
    "\n",
    "In general, we recommend using [Ax](https://ax.dev) for a simple BO setup like this one, since this will simplify your setup (including the amount of code you need to write) considerably. See [here](https://ax.dev/tutorials/multiobjective_optimization.html) for an Ax tutorial on MOBO. If desired, you can use a custom BoTorch model in Ax, following the [Using BoTorch with Ax](./custom_botorch_model_in_ax) tutorial. Given a `MultiObjective`, Ax will default to the $q$NEHVI acquisiton function. If desired, this can also be customized by adding `\"botorch_acqf_class\": <desired_botorch_acquisition_function_class>,` to the `model_kwargs`.\n",
    "\n",
    "We use the parallel ParEGO ($q$ParEGO) [1], parallel Expected Hypervolume Improvement ($q$EHVI) [1], and parallel Noisy Expected Hypervolume Improvement ($q$NEHVI) [2]  acquisition functions to optimize a synthetic BraninCurrin problem test function with additive Gaussian observation noise over a 2-parameter search space [0,1]^2. See  `botorch/test_functions/multi_objective.py` for details on BraninCurrin. The noise standard deviations are 15.19 and 0.63 for each objective, respectively.\n",
    "\n",
    "Since botorch assumes a maximization of all objectives, we seek to find the Pareto frontier, the set of optimal trade-offs where improving one metric means deteriorating another.\n",
    "\n",
    "[1] [S. Daulton, M. Balandat, and E. Bakshy. Differentiable Expected Hypervolume Improvement for Parallel Multi-Objective Bayesian Optimization. Advances in Neural Information Processing Systems 33, 2020.](https://arxiv.org/abs/2006.05078)\n",
    "\n",
    "[2] [S. Daulton, M. Balandat, and E. Bakshy. Parallel Bayesian Optimization of Multiple Noisy Objectives with Expected Hypervolume Improvement. Advances in Neural Information Processing Systems 34, 2021.](https://arxiv.org/abs/2105.08195)\n",
    "\n",
    "**For batch optimization (or in noisy settings), we strongly recommend using $q$NEHVI rather than $q$EHVI because it is far more efficient than $q$EHVI and mathematically equivalent in the noiseless setting.**"
   ]
  },
  {
   "cell_type": "code",
   "execution_count": 2,
   "metadata": {},
   "outputs": [],
   "source": [
    "from typing import Dict, Optional, List, Union, Iterable, Sequence, Sized\n",
    "\n",
    "from botorch.test_functions import Branin\n",
    "from botorch.test_functions.base import MultiObjectiveTestProblem\n",
    "\n",
    "from torch import Tensor\n",
    "from torch.nn import Module\n",
    "\n",
    "import plotly.graph_objects as go\n",
    "import pandas as pd\n",
    "import numpy as np\n",
    "from botorch.utils.multi_objective.box_decompositions.non_dominated import FastNondominatedPartitioning"
   ]
  },
  {
   "cell_type": "code",
   "execution_count": 3,
   "metadata": {},
   "outputs": [],
   "source": [
    "# https://stackoverflow.com/questions/32791911/fast-calculation-of-pareto-front-in-python\n",
    "\n",
    "# Faster than is_pareto_efficient_simple, but less readable.\n",
    "def is_pareto_efficient(costs, return_mask = True):\n",
    "    \"\"\"\n",
    "    Find the pareto-efficient points\n",
    "    :param costs: An (n_points, n_costs) array\n",
    "    :param return_mask: True to return a mask\n",
    "    :return: An array of indices of pareto-efficient points.\n",
    "        If return_mask is True, this will be an (n_points, ) boolean array\n",
    "        Otherwise it will be a (n_efficient_points, ) integer array of indices.\n",
    "    \"\"\"\n",
    "    is_efficient = np.arange(costs.shape[0])\n",
    "    n_points = costs.shape[0]\n",
    "    next_point_index = 0  # Next index in the is_efficient array to search for\n",
    "    while next_point_index<len(costs):\n",
    "        nondominated_point_mask = np.any(costs<costs[next_point_index], axis=1)\n",
    "        nondominated_point_mask[next_point_index] = True\n",
    "        is_efficient = is_efficient[nondominated_point_mask]  # Remove dominated points\n",
    "        costs = costs[nondominated_point_mask]\n",
    "        next_point_index = np.sum(nondominated_point_mask[:next_point_index])+1\n",
    "    if return_mask:\n",
    "        is_efficient_mask = np.zeros(n_points, dtype = bool)\n",
    "        is_efficient_mask[is_efficient] = True\n",
    "        return is_efficient_mask\n",
    "    else:\n",
    "        return is_efficient"
   ]
  },
  {
   "cell_type": "markdown",
   "metadata": {},
   "source": [
    "### Set dtype and device\n",
    "Note: $q$EHVI and $q$NEHVI aggressively exploit parallel hardware and are both much faster when run on a GPU. See [1, 2] for details."
   ]
  },
  {
   "cell_type": "code",
   "execution_count": 4,
   "metadata": {},
   "outputs": [],
   "source": [
    "import os\n",
    "import torch\n",
    "\n",
    "\n",
    "tkwargs = {\n",
    "    \"dtype\": torch.double,\n",
    "    \"device\": torch.device(\"cuda\" if torch.cuda.is_available() else \"cpu\"),\n",
    "}\n",
    "SMOKE_TEST = os.environ.get(\"SMOKE_TEST\")"
   ]
  },
  {
   "cell_type": "markdown",
   "metadata": {},
   "source": [
    "## 1d input example"
   ]
  },
  {
   "cell_type": "code",
   "execution_count": 5,
   "metadata": {},
   "outputs": [],
   "source": [
    "def det_transform(y_0, X):\n",
    "    return (-y_0 + 1 + 0.2*np.sin(30 * X[..., 0]) + 0.2)/1.4\n",
    "\n",
    "class onedimexample(MultiObjectiveTestProblem):\n",
    "    dim = 1\n",
    "    num_objectives = 2\n",
    "    _bounds = [(0.0, 1.0)]\n",
    "    _ref_point = [2.0, 2.0]\n",
    "    _max_hv = 3.5691902586474744  # this is approximated with N=10000 evaluation\n",
    "\n",
    "    def __init__(self, noise_std: Optional[float] = None, negate: bool = False) -> None:\n",
    "        super().__init__(noise_std=noise_std, negate=negate)\n",
    "\n",
    "    def evaluate_true(self, X: Tensor) -> Tensor:\n",
    "        y_0 = X[..., 0] * X[..., 0] * X[..., 0]\n",
    "        y_1 = det_transform(y_0, X)\n",
    "        return torch.stack([y_0, y_1], dim=-1)"
   ]
  },
  {
   "cell_type": "code",
   "execution_count": 6,
   "metadata": {},
   "outputs": [],
   "source": [
    "problem = onedimexample(negate=True).to(**tkwargs)"
   ]
  },
  {
   "cell_type": "code",
   "execution_count": 7,
   "metadata": {},
   "outputs": [],
   "source": [
    "# Read data from a csv\n",
    "# z_data = pd.read_csv('https://raw.githubusercontent.com/plotly/datasets/master/api_docs/mt_bruno_elevation.csv')\n",
    "N = 100\n",
    "x = torch.linspace(0., 1., N).reshape(-1, 1)\n",
    "# y = torch.linspace(0., 1., N)\n",
    "# xy = torch.cartesian_prod(x, y)\n",
    "z = problem(x)"
   ]
  },
  {
   "cell_type": "code",
   "execution_count": 8,
   "metadata": {},
   "outputs": [],
   "source": [
    "a = is_pareto_efficient(-np.array(z), return_mask = True)"
   ]
  },
  {
   "cell_type": "code",
   "execution_count": 9,
   "metadata": {},
   "outputs": [
    {
     "data": {
      "text/plain": [
       "30"
      ]
     },
     "execution_count": 9,
     "metadata": {},
     "output_type": "execute_result"
    }
   ],
   "source": [
    "a.sum()"
   ]
  },
  {
   "cell_type": "code",
   "execution_count": 10,
   "metadata": {},
   "outputs": [
    {
     "data": {
      "text/plain": [
       "array([ True, False, False, False, False, False, False, False, False,\n",
       "       False, False,  True,  True,  True,  True,  True,  True, False,\n",
       "       False, False, False, False, False, False, False, False, False,\n",
       "       False, False, False, False, False, False, False, False,  True,\n",
       "        True,  True, False, False, False, False, False, False, False,\n",
       "       False, False, False, False, False, False, False, False, False,\n",
       "        True,  True,  True,  True,  True, False, False, False, False,\n",
       "       False, False, False, False, False, False, False, False, False,\n",
       "       False,  True,  True,  True,  True,  True,  True,  True, False,\n",
       "       False, False, False, False, False, False, False, False, False,\n",
       "       False, False,  True,  True,  True,  True,  True,  True,  True,\n",
       "        True])"
      ]
     },
     "execution_count": 10,
     "metadata": {},
     "output_type": "execute_result"
    }
   ],
   "source": [
    "a"
   ]
  },
  {
   "cell_type": "code",
   "execution_count": 11,
   "metadata": {},
   "outputs": [
    {
     "data": {
      "text/plain": [
       "tensor([[0.7073],\n",
       "        [0.3113],\n",
       "        [0.1259],\n",
       "        [0.8539],\n",
       "        [0.8947],\n",
       "        [0.0392],\n",
       "        [0.4709],\n",
       "        [0.6831],\n",
       "        [0.9031]])"
      ]
     },
     "execution_count": 11,
     "metadata": {},
     "output_type": "execute_result"
    }
   ],
   "source": [
    "Tensor([[0.7073],\n",
    "        [0.3113],\n",
    "        [0.1259],\n",
    "        [0.8539],\n",
    "        [0.8947],\n",
    "        [0.0392],\n",
    "        [0.4709],\n",
    "        [0.6831],\n",
    "        [0.9031]])"
   ]
  },
  {
   "cell_type": "code",
   "execution_count": 30,
   "metadata": {
    "scrolled": false
   },
   "outputs": [
    {
     "data": {
      "application/vnd.plotly.v1+json": {
       "config": {
        "plotlyServerURL": "https://plot.ly"
       },
       "data": [
        {
         "mode": "lines",
         "name": "f_0(x)",
         "type": "scatter",
         "x": [
          0,
          0.010101010091602802,
          0.020202020183205605,
          0.03030303120613098,
          0.04040404036641121,
          0.05050504952669144,
          0.06060606241226196,
          0.07070706784725189,
          0.08080808073282242,
          0.09090909361839294,
          0.10101009905338287,
          0.1111111119389534,
          0.12121212482452393,
          0.13131313025951385,
          0.14141413569450378,
          0.1515151560306549,
          0.16161616146564484,
          0.17171716690063477,
          0.1818181872367859,
          0.19191919267177582,
          0.20202019810676575,
          0.21212121844291687,
          0.2222222238779068,
          0.23232322931289673,
          0.24242424964904785,
          0.252525269985199,
          0.2626262605190277,
          0.27272728085517883,
          0.28282830119132996,
          0.2929292917251587,
          0.3030303120613098,
          0.31313133239746094,
          0.3232323229312897,
          0.3333333432674408,
          0.34343433380126953,
          0.35353535413742065,
          0.3636363744735718,
          0.3737373650074005,
          0.38383838534355164,
          0.39393937587738037,
          0.4040403962135315,
          0.4141414165496826,
          0.42424240708351135,
          0.4343434274196625,
          0.4444444477558136,
          0.45454543828964233,
          0.46464645862579346,
          0.4747474789619446,
          0.4848484992980957,
          0.4949495196342468,
          0.505050539970398,
          0.5151515007019043,
          0.5252525210380554,
          0.5353535413742065,
          0.5454545617103577,
          0.5555555820465088,
          0.5656565427780151,
          0.5757575631141663,
          0.5858585834503174,
          0.5959595441818237,
          0.6060605645179749,
          0.616161584854126,
          0.6262626051902771,
          0.6363636255264282,
          0.6464646458625793,
          0.6565656661987305,
          0.6666666865348816,
          0.6767677068710327,
          0.6868686676025391,
          0.6969696879386902,
          0.7070707082748413,
          0.7171717286109924,
          0.7272727489471436,
          0.7373737692832947,
          0.7474747896194458,
          0.7575757503509521,
          0.7676767706871033,
          0.7777777910232544,
          0.7878788113594055,
          0.7979798316955566,
          0.808080792427063,
          0.8181818127632141,
          0.8282828330993652,
          0.8383837938308716,
          0.8484848141670227,
          0.8585858345031738,
          0.868686854839325,
          0.8787878751754761,
          0.8888888955116272,
          0.8989899158477783,
          0.9090909361839294,
          0.9191919565200806,
          0.9292929172515869,
          0.939393937587738,
          0.9494949579238892,
          0.9595959782600403,
          0.9696969985961914,
          0.9797979593276978,
          0.9898989796638489,
          1
         ],
         "y": [
          0,
          -1.0306101785317878e-06,
          -8.244881428254303e-06,
          -2.7826476070913486e-05,
          -6.595905142603442e-05,
          -0.00012882625742349774,
          -0.0002226118085673079,
          -0.0003534992574714124,
          -0.0005276724114082754,
          -0.0007513148593716323,
          -0.001030610059387982,
          -0.0013717421097680926,
          -0.0017808944685384631,
          -0.0022642503026872873,
          -0.0028279940597712994,
          -0.003478309605270624,
          -0.004221379291266203,
          -0.0050633870996534824,
          -0.006010518874973059,
          -0.007068955339491367,
          -0.008244880475103855,
          -0.00954448152333498,
          -0.010973936878144741,
          -0.012539433315396309,
          -0.014247155748307705,
          -0.016103286296129227,
          -0.0181140024214983,
          -0.020285500213503838,
          -0.022623958066105843,
          -0.025135550647974014,
          -0.027826476842164993,
          -0.03070291131734848,
          -0.03377103433012962,
          -0.037037041038274765,
          -0.04050709679722786,
          -0.044187407940626144,
          -0.04808415099978447,
          -0.05220349133014679,
          -0.05655164271593094,
          -0.06113475561141968,
          -0.06595904380083084,
          -0.07103068381547928,
          -0.07635583728551865,
          -0.08194071799516678,
          -0.08779149502515793,
          -0.09391434490680695,
          -0.10031546652317047,
          -0.10700104385614395,
          -0.11397724598646164,
          -0.12125027179718018,
          -0.1288262903690338,
          -0.13671144843101501,
          -0.1449120193719864,
          -0.153434157371521,
          -0.1622840017080307,
          -0.17146778106689453,
          -0.18099161982536316,
          -0.190861776471138,
          -0.20108440518379211,
          -0.21166563034057617,
          -0.22261175513267517,
          -0.2339288890361786,
          -0.24562323093414307,
          -0.25770094990730286,
          -0.270168274641037,
          -0.28303131461143494,
          -0.2962963283061981,
          -0.309969425201416,
          -0.3240567743778229,
          -0.3385646939277649,
          -0.35349926352500916,
          -0.3688667118549347,
          -0.38467320799827576,
          -0.4009249210357666,
          -0.41762804985046387,
          -0.43478864431381226,
          -0.4524131417274475,
          -0.47050756216049194,
          -0.489078164100647,
          -0.5081310272216797,
          -0.5276723504066467,
          -0.5477085113525391,
          -0.5682454705238342,
          -0.5892893671989441,
          -0.6108466982841492,
          -0.632923424243927,
          -0.6555257439613342,
          -0.6786598563194275,
          -0.7023319602012634,
          -0.7265482544898987,
          -0.7513148784637451,
          -0.7766380310058594,
          -0.8025237321853638,
          -0.8289784789085388,
          -0.8560083508491516,
          -0.8836194276809692,
          -0.9118179678916931,
          -0.9406099915504456,
          -0.9700019955635071,
          -1
         ]
        },
        {
         "mode": "lines",
         "name": "f_1(x)",
         "type": "scatter",
         "x": [
          0,
          0.010101010091602802,
          0.020202020183205605,
          0.03030303120613098,
          0.04040404036641121,
          0.05050504952669144,
          0.06060606241226196,
          0.07070706784725189,
          0.08080808073282242,
          0.09090909361839294,
          0.10101009905338287,
          0.1111111119389534,
          0.12121212482452393,
          0.13131313025951385,
          0.14141413569450378,
          0.1515151560306549,
          0.16161616146564484,
          0.17171716690063477,
          0.1818181872367859,
          0.19191919267177582,
          0.20202019810676575,
          0.21212121844291687,
          0.2222222238779068,
          0.23232322931289673,
          0.24242424964904785,
          0.252525269985199,
          0.2626262605190277,
          0.27272728085517883,
          0.28282830119132996,
          0.2929292917251587,
          0.3030303120613098,
          0.31313133239746094,
          0.3232323229312897,
          0.3333333432674408,
          0.34343433380126953,
          0.35353535413742065,
          0.3636363744735718,
          0.3737373650074005,
          0.38383838534355164,
          0.39393937587738037,
          0.4040403962135315,
          0.4141414165496826,
          0.42424240708351135,
          0.4343434274196625,
          0.4444444477558136,
          0.45454543828964233,
          0.46464645862579346,
          0.4747474789619446,
          0.4848484992980957,
          0.4949495196342468,
          0.505050539970398,
          0.5151515007019043,
          0.5252525210380554,
          0.5353535413742065,
          0.5454545617103577,
          0.5555555820465088,
          0.5656565427780151,
          0.5757575631141663,
          0.5858585834503174,
          0.5959595441818237,
          0.6060605645179749,
          0.616161584854126,
          0.6262626051902771,
          0.6363636255264282,
          0.6464646458625793,
          0.6565656661987305,
          0.6666666865348816,
          0.6767677068710327,
          0.6868686676025391,
          0.6969696879386902,
          0.7070707082748413,
          0.7171717286109924,
          0.7272727489471436,
          0.7373737692832947,
          0.7474747896194458,
          0.7575757503509521,
          0.7676767706871033,
          0.7777777910232544,
          0.7878788113594055,
          0.7979798316955566,
          0.808080792427063,
          0.8181818127632141,
          0.8282828330993652,
          0.8383837938308716,
          0.8484848141670227,
          0.8585858345031738,
          0.868686854839325,
          0.8787878751754761,
          0.8888888955116272,
          0.8989899158477783,
          0.9090909361839294,
          0.9191919565200806,
          0.9292929172515869,
          0.939393937587738,
          0.9494949579238892,
          0.9595959782600403,
          0.9696969985961914,
          0.9797979593276978,
          0.9898989796638489,
          1
         ],
         "y": [
          -0.8571429252624512,
          -0.8997727632522583,
          -0.9385132789611816,
          -0.9698294997215271,
          -0.9908618330955505,
          -0.9996868968009949,
          -0.9954918622970581,
          -0.9786486029624939,
          -0.9506788849830627,
          -0.9141159057617188,
          -0.8722724318504333,
          -0.8289390802383423,
          -0.7880379557609558,
          -0.7532652020454407,
          -0.727753758430481,
          -0.7137871384620667,
          -0.7125914096832275,
          -0.7242227792739868,
          -0.7475621700286865,
          -0.7804164886474609,
          -0.8197185397148132,
          -0.8618060350418091,
          -0.9027544856071472,
          -0.9387351870536804,
          -0.966362714767456,
          -0.983004093170166,
          -0.9870175123214722,
          -0.9779019951820374,
          -0.9563423991203308,
          -0.9241467714309692,
          -0.884081244468689,
          -0.8396170139312744,
          -0.7946144938468933,
          -0.7529705762863159,
          -0.7182629704475403,
          -0.6934241652488708,
          -0.680473804473877,
          -0.6803339123725891,
          -0.6927446722984314,
          -0.7162876129150391,
          -0.7485148906707764,
          -0.7861708998680115,
          -0.82548987865448,
          -0.8625379204750061,
          -0.893570601940155,
          -0.9153751134872437,
          -0.9255613684654236,
          -0.9227800369262695,
          -0.9068451523780823,
          -0.8787500858306885,
          -0.8405774235725403,
          -0.7953081727027893,
          -0.7465497255325317,
          -0.6982071399688721,
          -0.654126763343811,
          -0.6177447438240051,
          -0.5917747020721436,
          -0.5779584646224976,
          -0.5769084095954895,
          -0.588050127029419,
          -0.6096754670143127,
          -0.6390970349311829,
          -0.672892153263092,
          -0.7072159051895142,
          -0.7381500005722046,
          -0.7620592713356018,
          -0.7759234309196472,
          -0.7776113152503967,
          -0.7660745978355408,
          -0.7414432764053345,
          -0.7050129175186157,
          -0.6591272950172424,
          -0.6069627404212952,
          -0.5522395372390747,
          -0.4988825023174286,
          -0.45066237449645996,
          -0.4108511209487915,
          -0.38192570209503174,
          -0.36533957719802856,
          -0.3613910973072052,
          -0.36919525265693665,
          -0.38676467537879944,
          -0.4111897647380829,
          -0.4389035701751709,
          -0.4660062789916992,
          -0.4886208772659302,
          -0.5032446980476379,
          -0.5070697665214539,
          -0.4982372224330902,
          -0.4760066568851471,
          -0.4408233165740967,
          -0.39427682757377625,
          -0.33895620703697205,
          -0.2782130837440491,
          -0.21585652232170105,
          -0.155804842710495,
          -0.10172922164201736,
          -0.05671745166182518,
          -0.022992247715592384,
          -0.0017097699455916882
         ]
        },
        {
         "mode": "markers",
         "name": "Pareto points",
         "type": "scatter",
         "x": [
          0,
          0.1111111119389534,
          0.12121212482452393,
          0.13131313025951385,
          0.14141413569450378,
          0.1515151560306549,
          0.16161616146564484,
          0.35353535413742065,
          0.3636363744735718,
          0.3737373650074005,
          0.5454545617103577,
          0.5555555820465088,
          0.5656565427780151,
          0.5757575631141663,
          0.5858585834503174,
          0.7373737692832947,
          0.7474747896194458,
          0.7575757503509521,
          0.7676767706871033,
          0.7777777910232544,
          0.7878788113594055,
          0.7979798316955566,
          0.9292929172515869,
          0.939393937587738,
          0.9494949579238892,
          0.9595959782600403,
          0.9696969985961914,
          0.9797979593276978,
          0.9898989796638489,
          1,
          0,
          0.1111111119389534,
          0.12121212482452393,
          0.13131313025951385,
          0.14141413569450378,
          0.1515151560306549,
          0.16161616146564484,
          0.35353535413742065,
          0.3636363744735718,
          0.3737373650074005,
          0.5454545617103577,
          0.5555555820465088,
          0.5656565427780151,
          0.5757575631141663,
          0.5858585834503174,
          0.7373737692832947,
          0.7474747896194458,
          0.7575757503509521,
          0.7676767706871033,
          0.7777777910232544,
          0.7878788113594055,
          0.7979798316955566,
          0.9292929172515869,
          0.939393937587738,
          0.9494949579238892,
          0.9595959782600403,
          0.9696969985961914,
          0.9797979593276978,
          0.9898989796638489,
          1
         ],
         "y": [
          0,
          -0.0013717421097680926,
          -0.0017808944685384631,
          -0.0022642503026872873,
          -0.0028279940597712994,
          -0.003478309605270624,
          -0.004221379291266203,
          -0.044187407940626144,
          -0.04808415099978447,
          -0.05220349133014679,
          -0.1622840017080307,
          -0.17146778106689453,
          -0.18099161982536316,
          -0.190861776471138,
          -0.20108440518379211,
          -0.4009249210357666,
          -0.41762804985046387,
          -0.43478864431381226,
          -0.4524131417274475,
          -0.47050756216049194,
          -0.489078164100647,
          -0.5081310272216797,
          -0.8025237321853638,
          -0.8289784789085388,
          -0.8560083508491516,
          -0.8836194276809692,
          -0.9118179678916931,
          -0.9406099915504456,
          -0.9700019955635071,
          -1,
          -0.8571429252624512,
          -0.8289390802383423,
          -0.7880379557609558,
          -0.7532652020454407,
          -0.727753758430481,
          -0.7137871384620667,
          -0.7125914096832275,
          -0.6934241652488708,
          -0.680473804473877,
          -0.6803339123725891,
          -0.654126763343811,
          -0.6177447438240051,
          -0.5917747020721436,
          -0.5779584646224976,
          -0.5769084095954895,
          -0.5522395372390747,
          -0.4988825023174286,
          -0.45066237449645996,
          -0.4108511209487915,
          -0.38192570209503174,
          -0.36533957719802856,
          -0.3613910973072052,
          -0.33895620703697205,
          -0.2782130837440491,
          -0.21585652232170105,
          -0.155804842710495,
          -0.10172922164201736,
          -0.05671745166182518,
          -0.022992247715592384,
          -0.0017097699455916882
         ]
        },
        {
         "mode": "markers+text",
         "name": "Points queried",
         "text": [
          "1",
          "2",
          "3",
          "4",
          "5",
          "6",
          "7",
          "8",
          "9",
          "10",
          "11",
          "12",
          "13",
          "14",
          "15",
          "16",
          "17",
          "18",
          "19",
          "20",
          "1",
          "2",
          "3",
          "4",
          "5",
          "6",
          "7",
          "8",
          "9",
          "10",
          "11",
          "12",
          "13",
          "14",
          "15",
          "16",
          "17",
          "18",
          "19",
          "20"
         ],
         "textposition": "top left",
         "type": "scatter",
         "x": [
          0.9954000115394592,
          0.7893999814987183,
          0,
          0.9588000178337097,
          0.7581999897956848,
          1,
          0.9757000207901001,
          0.9422000050544739,
          0.07590000331401825,
          0.3677999973297119,
          0.5812000036239624,
          0.7721999883651733,
          0.7455000281333923,
          0.9337000250816345,
          0.9505000114440918,
          0.9670000076293945,
          0.9847999811172485,
          0.7960000038146973,
          0.5525000095367432,
          0.15489999949932098,
          0.9954000115394592,
          0.7893999814987183,
          0,
          0.9588000178337097,
          0.7581999897956848,
          1,
          0.9757000207901001,
          0.9422000050544739,
          0.07590000331401825,
          0.3677999973297119,
          0.5812000036239624,
          0.7721999883651733,
          0.7455000281333923,
          0.9337000250816345,
          0.9505000114440918,
          0.9670000076293945,
          0.9847999811172485,
          0.7960000038146973,
          0.5525000095367432,
          0.15489999949932098
         ],
         "y": [
          -0.9862633943557739,
          -0.4919164180755615,
          0,
          -0.8814224004745483,
          -0.43586432933807373,
          -1,
          -0.9288572072982788,
          -0.8364294171333313,
          -0.00043724552961066365,
          -0.04975482076406479,
          -0.19632555544376373,
          -0.46045729517936707,
          -0.4143267571926117,
          -0.8139956593513489,
          -0.8587294816970825,
          -0.904231071472168,
          -0.9550895690917969,
          -0.5043583512306213,
          -0.16865408420562744,
          -0.003716672072187066,
          -0.009832190349698067,
          -0.3639451265335083,
          -0.8571429252624512,
          -0.1603652536869049,
          -0.44792822003364563,
          -0.0017097699455916882,
          -0.07372128963470459,
          -0.2608836889266968,
          -0.9655206799507141,
          -0.6788520216941833,
          -0.5758156180381775,
          -0.3964400887489319,
          -0.5090230107307434,
          -0.3129030168056488,
          -0.20971481502056122,
          -0.11539476364850998,
          -0.03850724175572395,
          -0.3611947298049927,
          -0.6277592182159424,
          -0.7119362950325012
         ]
        }
       ],
       "layout": {
        "height": 500,
        "margin": {
         "b": 65,
         "l": 65,
         "r": 50,
         "t": 90
        },
        "template": {
         "data": {
          "bar": [
           {
            "error_x": {
             "color": "#2a3f5f"
            },
            "error_y": {
             "color": "#2a3f5f"
            },
            "marker": {
             "line": {
              "color": "#E5ECF6",
              "width": 0.5
             },
             "pattern": {
              "fillmode": "overlay",
              "size": 10,
              "solidity": 0.2
             }
            },
            "type": "bar"
           }
          ],
          "barpolar": [
           {
            "marker": {
             "line": {
              "color": "#E5ECF6",
              "width": 0.5
             },
             "pattern": {
              "fillmode": "overlay",
              "size": 10,
              "solidity": 0.2
             }
            },
            "type": "barpolar"
           }
          ],
          "carpet": [
           {
            "aaxis": {
             "endlinecolor": "#2a3f5f",
             "gridcolor": "white",
             "linecolor": "white",
             "minorgridcolor": "white",
             "startlinecolor": "#2a3f5f"
            },
            "baxis": {
             "endlinecolor": "#2a3f5f",
             "gridcolor": "white",
             "linecolor": "white",
             "minorgridcolor": "white",
             "startlinecolor": "#2a3f5f"
            },
            "type": "carpet"
           }
          ],
          "choropleth": [
           {
            "colorbar": {
             "outlinewidth": 0,
             "ticks": ""
            },
            "type": "choropleth"
           }
          ],
          "contour": [
           {
            "colorbar": {
             "outlinewidth": 0,
             "ticks": ""
            },
            "colorscale": [
             [
              0,
              "#0d0887"
             ],
             [
              0.1111111111111111,
              "#46039f"
             ],
             [
              0.2222222222222222,
              "#7201a8"
             ],
             [
              0.3333333333333333,
              "#9c179e"
             ],
             [
              0.4444444444444444,
              "#bd3786"
             ],
             [
              0.5555555555555556,
              "#d8576b"
             ],
             [
              0.6666666666666666,
              "#ed7953"
             ],
             [
              0.7777777777777778,
              "#fb9f3a"
             ],
             [
              0.8888888888888888,
              "#fdca26"
             ],
             [
              1,
              "#f0f921"
             ]
            ],
            "type": "contour"
           }
          ],
          "contourcarpet": [
           {
            "colorbar": {
             "outlinewidth": 0,
             "ticks": ""
            },
            "type": "contourcarpet"
           }
          ],
          "heatmap": [
           {
            "colorbar": {
             "outlinewidth": 0,
             "ticks": ""
            },
            "colorscale": [
             [
              0,
              "#0d0887"
             ],
             [
              0.1111111111111111,
              "#46039f"
             ],
             [
              0.2222222222222222,
              "#7201a8"
             ],
             [
              0.3333333333333333,
              "#9c179e"
             ],
             [
              0.4444444444444444,
              "#bd3786"
             ],
             [
              0.5555555555555556,
              "#d8576b"
             ],
             [
              0.6666666666666666,
              "#ed7953"
             ],
             [
              0.7777777777777778,
              "#fb9f3a"
             ],
             [
              0.8888888888888888,
              "#fdca26"
             ],
             [
              1,
              "#f0f921"
             ]
            ],
            "type": "heatmap"
           }
          ],
          "heatmapgl": [
           {
            "colorbar": {
             "outlinewidth": 0,
             "ticks": ""
            },
            "colorscale": [
             [
              0,
              "#0d0887"
             ],
             [
              0.1111111111111111,
              "#46039f"
             ],
             [
              0.2222222222222222,
              "#7201a8"
             ],
             [
              0.3333333333333333,
              "#9c179e"
             ],
             [
              0.4444444444444444,
              "#bd3786"
             ],
             [
              0.5555555555555556,
              "#d8576b"
             ],
             [
              0.6666666666666666,
              "#ed7953"
             ],
             [
              0.7777777777777778,
              "#fb9f3a"
             ],
             [
              0.8888888888888888,
              "#fdca26"
             ],
             [
              1,
              "#f0f921"
             ]
            ],
            "type": "heatmapgl"
           }
          ],
          "histogram": [
           {
            "marker": {
             "pattern": {
              "fillmode": "overlay",
              "size": 10,
              "solidity": 0.2
             }
            },
            "type": "histogram"
           }
          ],
          "histogram2d": [
           {
            "colorbar": {
             "outlinewidth": 0,
             "ticks": ""
            },
            "colorscale": [
             [
              0,
              "#0d0887"
             ],
             [
              0.1111111111111111,
              "#46039f"
             ],
             [
              0.2222222222222222,
              "#7201a8"
             ],
             [
              0.3333333333333333,
              "#9c179e"
             ],
             [
              0.4444444444444444,
              "#bd3786"
             ],
             [
              0.5555555555555556,
              "#d8576b"
             ],
             [
              0.6666666666666666,
              "#ed7953"
             ],
             [
              0.7777777777777778,
              "#fb9f3a"
             ],
             [
              0.8888888888888888,
              "#fdca26"
             ],
             [
              1,
              "#f0f921"
             ]
            ],
            "type": "histogram2d"
           }
          ],
          "histogram2dcontour": [
           {
            "colorbar": {
             "outlinewidth": 0,
             "ticks": ""
            },
            "colorscale": [
             [
              0,
              "#0d0887"
             ],
             [
              0.1111111111111111,
              "#46039f"
             ],
             [
              0.2222222222222222,
              "#7201a8"
             ],
             [
              0.3333333333333333,
              "#9c179e"
             ],
             [
              0.4444444444444444,
              "#bd3786"
             ],
             [
              0.5555555555555556,
              "#d8576b"
             ],
             [
              0.6666666666666666,
              "#ed7953"
             ],
             [
              0.7777777777777778,
              "#fb9f3a"
             ],
             [
              0.8888888888888888,
              "#fdca26"
             ],
             [
              1,
              "#f0f921"
             ]
            ],
            "type": "histogram2dcontour"
           }
          ],
          "mesh3d": [
           {
            "colorbar": {
             "outlinewidth": 0,
             "ticks": ""
            },
            "type": "mesh3d"
           }
          ],
          "parcoords": [
           {
            "line": {
             "colorbar": {
              "outlinewidth": 0,
              "ticks": ""
             }
            },
            "type": "parcoords"
           }
          ],
          "pie": [
           {
            "automargin": true,
            "type": "pie"
           }
          ],
          "scatter": [
           {
            "fillpattern": {
             "fillmode": "overlay",
             "size": 10,
             "solidity": 0.2
            },
            "type": "scatter"
           }
          ],
          "scatter3d": [
           {
            "line": {
             "colorbar": {
              "outlinewidth": 0,
              "ticks": ""
             }
            },
            "marker": {
             "colorbar": {
              "outlinewidth": 0,
              "ticks": ""
             }
            },
            "type": "scatter3d"
           }
          ],
          "scattercarpet": [
           {
            "marker": {
             "colorbar": {
              "outlinewidth": 0,
              "ticks": ""
             }
            },
            "type": "scattercarpet"
           }
          ],
          "scattergeo": [
           {
            "marker": {
             "colorbar": {
              "outlinewidth": 0,
              "ticks": ""
             }
            },
            "type": "scattergeo"
           }
          ],
          "scattergl": [
           {
            "marker": {
             "colorbar": {
              "outlinewidth": 0,
              "ticks": ""
             }
            },
            "type": "scattergl"
           }
          ],
          "scattermapbox": [
           {
            "marker": {
             "colorbar": {
              "outlinewidth": 0,
              "ticks": ""
             }
            },
            "type": "scattermapbox"
           }
          ],
          "scatterpolar": [
           {
            "marker": {
             "colorbar": {
              "outlinewidth": 0,
              "ticks": ""
             }
            },
            "type": "scatterpolar"
           }
          ],
          "scatterpolargl": [
           {
            "marker": {
             "colorbar": {
              "outlinewidth": 0,
              "ticks": ""
             }
            },
            "type": "scatterpolargl"
           }
          ],
          "scatterternary": [
           {
            "marker": {
             "colorbar": {
              "outlinewidth": 0,
              "ticks": ""
             }
            },
            "type": "scatterternary"
           }
          ],
          "surface": [
           {
            "colorbar": {
             "outlinewidth": 0,
             "ticks": ""
            },
            "colorscale": [
             [
              0,
              "#0d0887"
             ],
             [
              0.1111111111111111,
              "#46039f"
             ],
             [
              0.2222222222222222,
              "#7201a8"
             ],
             [
              0.3333333333333333,
              "#9c179e"
             ],
             [
              0.4444444444444444,
              "#bd3786"
             ],
             [
              0.5555555555555556,
              "#d8576b"
             ],
             [
              0.6666666666666666,
              "#ed7953"
             ],
             [
              0.7777777777777778,
              "#fb9f3a"
             ],
             [
              0.8888888888888888,
              "#fdca26"
             ],
             [
              1,
              "#f0f921"
             ]
            ],
            "type": "surface"
           }
          ],
          "table": [
           {
            "cells": {
             "fill": {
              "color": "#EBF0F8"
             },
             "line": {
              "color": "white"
             }
            },
            "header": {
             "fill": {
              "color": "#C8D4E3"
             },
             "line": {
              "color": "white"
             }
            },
            "type": "table"
           }
          ]
         },
         "layout": {
          "annotationdefaults": {
           "arrowcolor": "#2a3f5f",
           "arrowhead": 0,
           "arrowwidth": 1
          },
          "autotypenumbers": "strict",
          "coloraxis": {
           "colorbar": {
            "outlinewidth": 0,
            "ticks": ""
           }
          },
          "colorscale": {
           "diverging": [
            [
             0,
             "#8e0152"
            ],
            [
             0.1,
             "#c51b7d"
            ],
            [
             0.2,
             "#de77ae"
            ],
            [
             0.3,
             "#f1b6da"
            ],
            [
             0.4,
             "#fde0ef"
            ],
            [
             0.5,
             "#f7f7f7"
            ],
            [
             0.6,
             "#e6f5d0"
            ],
            [
             0.7,
             "#b8e186"
            ],
            [
             0.8,
             "#7fbc41"
            ],
            [
             0.9,
             "#4d9221"
            ],
            [
             1,
             "#276419"
            ]
           ],
           "sequential": [
            [
             0,
             "#0d0887"
            ],
            [
             0.1111111111111111,
             "#46039f"
            ],
            [
             0.2222222222222222,
             "#7201a8"
            ],
            [
             0.3333333333333333,
             "#9c179e"
            ],
            [
             0.4444444444444444,
             "#bd3786"
            ],
            [
             0.5555555555555556,
             "#d8576b"
            ],
            [
             0.6666666666666666,
             "#ed7953"
            ],
            [
             0.7777777777777778,
             "#fb9f3a"
            ],
            [
             0.8888888888888888,
             "#fdca26"
            ],
            [
             1,
             "#f0f921"
            ]
           ],
           "sequentialminus": [
            [
             0,
             "#0d0887"
            ],
            [
             0.1111111111111111,
             "#46039f"
            ],
            [
             0.2222222222222222,
             "#7201a8"
            ],
            [
             0.3333333333333333,
             "#9c179e"
            ],
            [
             0.4444444444444444,
             "#bd3786"
            ],
            [
             0.5555555555555556,
             "#d8576b"
            ],
            [
             0.6666666666666666,
             "#ed7953"
            ],
            [
             0.7777777777777778,
             "#fb9f3a"
            ],
            [
             0.8888888888888888,
             "#fdca26"
            ],
            [
             1,
             "#f0f921"
            ]
           ]
          },
          "colorway": [
           "#636efa",
           "#EF553B",
           "#00cc96",
           "#ab63fa",
           "#FFA15A",
           "#19d3f3",
           "#FF6692",
           "#B6E880",
           "#FF97FF",
           "#FECB52"
          ],
          "font": {
           "color": "#2a3f5f"
          },
          "geo": {
           "bgcolor": "white",
           "lakecolor": "white",
           "landcolor": "#E5ECF6",
           "showlakes": true,
           "showland": true,
           "subunitcolor": "white"
          },
          "hoverlabel": {
           "align": "left"
          },
          "hovermode": "closest",
          "mapbox": {
           "style": "light"
          },
          "paper_bgcolor": "white",
          "plot_bgcolor": "#E5ECF6",
          "polar": {
           "angularaxis": {
            "gridcolor": "white",
            "linecolor": "white",
            "ticks": ""
           },
           "bgcolor": "#E5ECF6",
           "radialaxis": {
            "gridcolor": "white",
            "linecolor": "white",
            "ticks": ""
           }
          },
          "scene": {
           "xaxis": {
            "backgroundcolor": "#E5ECF6",
            "gridcolor": "white",
            "gridwidth": 2,
            "linecolor": "white",
            "showbackground": true,
            "ticks": "",
            "zerolinecolor": "white"
           },
           "yaxis": {
            "backgroundcolor": "#E5ECF6",
            "gridcolor": "white",
            "gridwidth": 2,
            "linecolor": "white",
            "showbackground": true,
            "ticks": "",
            "zerolinecolor": "white"
           },
           "zaxis": {
            "backgroundcolor": "#E5ECF6",
            "gridcolor": "white",
            "gridwidth": 2,
            "linecolor": "white",
            "showbackground": true,
            "ticks": "",
            "zerolinecolor": "white"
           }
          },
          "shapedefaults": {
           "line": {
            "color": "#2a3f5f"
           }
          },
          "ternary": {
           "aaxis": {
            "gridcolor": "white",
            "linecolor": "white",
            "ticks": ""
           },
           "baxis": {
            "gridcolor": "white",
            "linecolor": "white",
            "ticks": ""
           },
           "bgcolor": "#E5ECF6",
           "caxis": {
            "gridcolor": "white",
            "linecolor": "white",
            "ticks": ""
           }
          },
          "title": {
           "x": 0.05
          },
          "xaxis": {
           "automargin": true,
           "gridcolor": "white",
           "linecolor": "white",
           "ticks": "",
           "title": {
            "standoff": 15
           },
           "zerolinecolor": "white",
           "zerolinewidth": 2
          },
          "yaxis": {
           "automargin": true,
           "gridcolor": "white",
           "linecolor": "white",
           "ticks": "",
           "title": {
            "standoff": 15
           },
           "zerolinecolor": "white",
           "zerolinewidth": 2
          }
         }
        },
        "width": 500
       }
      },
      "text/html": [
       "<div>                            <div id=\"b01c48ea-3f51-4ad4-ab40-e23ae123b771\" class=\"plotly-graph-div\" style=\"height:500px; width:500px;\"></div>            <script type=\"text/javascript\">                require([\"plotly\"], function(Plotly) {                    window.PLOTLYENV=window.PLOTLYENV || {};                                    if (document.getElementById(\"b01c48ea-3f51-4ad4-ab40-e23ae123b771\")) {                    Plotly.newPlot(                        \"b01c48ea-3f51-4ad4-ab40-e23ae123b771\",                        [{\"mode\":\"lines\",\"name\":\"f_0(x)\",\"x\":[0.0,0.010101010091602802,0.020202020183205605,0.03030303120613098,0.04040404036641121,0.05050504952669144,0.06060606241226196,0.07070706784725189,0.08080808073282242,0.09090909361839294,0.10101009905338287,0.1111111119389534,0.12121212482452393,0.13131313025951385,0.14141413569450378,0.1515151560306549,0.16161616146564484,0.17171716690063477,0.1818181872367859,0.19191919267177582,0.20202019810676575,0.21212121844291687,0.2222222238779068,0.23232322931289673,0.24242424964904785,0.252525269985199,0.2626262605190277,0.27272728085517883,0.28282830119132996,0.2929292917251587,0.3030303120613098,0.31313133239746094,0.3232323229312897,0.3333333432674408,0.34343433380126953,0.35353535413742065,0.3636363744735718,0.3737373650074005,0.38383838534355164,0.39393937587738037,0.4040403962135315,0.4141414165496826,0.42424240708351135,0.4343434274196625,0.4444444477558136,0.45454543828964233,0.46464645862579346,0.4747474789619446,0.4848484992980957,0.4949495196342468,0.505050539970398,0.5151515007019043,0.5252525210380554,0.5353535413742065,0.5454545617103577,0.5555555820465088,0.5656565427780151,0.5757575631141663,0.5858585834503174,0.5959595441818237,0.6060605645179749,0.616161584854126,0.6262626051902771,0.6363636255264282,0.6464646458625793,0.6565656661987305,0.6666666865348816,0.6767677068710327,0.6868686676025391,0.6969696879386902,0.7070707082748413,0.7171717286109924,0.7272727489471436,0.7373737692832947,0.7474747896194458,0.7575757503509521,0.7676767706871033,0.7777777910232544,0.7878788113594055,0.7979798316955566,0.808080792427063,0.8181818127632141,0.8282828330993652,0.8383837938308716,0.8484848141670227,0.8585858345031738,0.868686854839325,0.8787878751754761,0.8888888955116272,0.8989899158477783,0.9090909361839294,0.9191919565200806,0.9292929172515869,0.939393937587738,0.9494949579238892,0.9595959782600403,0.9696969985961914,0.9797979593276978,0.9898989796638489,1.0],\"y\":[-0.0,-1.0306101785317878e-06,-8.244881428254303e-06,-2.7826476070913486e-05,-6.595905142603442e-05,-0.00012882625742349774,-0.0002226118085673079,-0.0003534992574714124,-0.0005276724114082754,-0.0007513148593716323,-0.001030610059387982,-0.0013717421097680926,-0.0017808944685384631,-0.0022642503026872873,-0.0028279940597712994,-0.003478309605270624,-0.004221379291266203,-0.0050633870996534824,-0.006010518874973059,-0.007068955339491367,-0.008244880475103855,-0.00954448152333498,-0.010973936878144741,-0.012539433315396309,-0.014247155748307705,-0.016103286296129227,-0.0181140024214983,-0.020285500213503838,-0.022623958066105843,-0.025135550647974014,-0.027826476842164993,-0.03070291131734848,-0.03377103433012962,-0.037037041038274765,-0.04050709679722786,-0.044187407940626144,-0.04808415099978447,-0.05220349133014679,-0.05655164271593094,-0.06113475561141968,-0.06595904380083084,-0.07103068381547928,-0.07635583728551865,-0.08194071799516678,-0.08779149502515793,-0.09391434490680695,-0.10031546652317047,-0.10700104385614395,-0.11397724598646164,-0.12125027179718018,-0.1288262903690338,-0.13671144843101501,-0.1449120193719864,-0.153434157371521,-0.1622840017080307,-0.17146778106689453,-0.18099161982536316,-0.190861776471138,-0.20108440518379211,-0.21166563034057617,-0.22261175513267517,-0.2339288890361786,-0.24562323093414307,-0.25770094990730286,-0.270168274641037,-0.28303131461143494,-0.2962963283061981,-0.309969425201416,-0.3240567743778229,-0.3385646939277649,-0.35349926352500916,-0.3688667118549347,-0.38467320799827576,-0.4009249210357666,-0.41762804985046387,-0.43478864431381226,-0.4524131417274475,-0.47050756216049194,-0.489078164100647,-0.5081310272216797,-0.5276723504066467,-0.5477085113525391,-0.5682454705238342,-0.5892893671989441,-0.6108466982841492,-0.632923424243927,-0.6555257439613342,-0.6786598563194275,-0.7023319602012634,-0.7265482544898987,-0.7513148784637451,-0.7766380310058594,-0.8025237321853638,-0.8289784789085388,-0.8560083508491516,-0.8836194276809692,-0.9118179678916931,-0.9406099915504456,-0.9700019955635071,-1.0],\"type\":\"scatter\"},{\"mode\":\"lines\",\"name\":\"f_1(x)\",\"x\":[0.0,0.010101010091602802,0.020202020183205605,0.03030303120613098,0.04040404036641121,0.05050504952669144,0.06060606241226196,0.07070706784725189,0.08080808073282242,0.09090909361839294,0.10101009905338287,0.1111111119389534,0.12121212482452393,0.13131313025951385,0.14141413569450378,0.1515151560306549,0.16161616146564484,0.17171716690063477,0.1818181872367859,0.19191919267177582,0.20202019810676575,0.21212121844291687,0.2222222238779068,0.23232322931289673,0.24242424964904785,0.252525269985199,0.2626262605190277,0.27272728085517883,0.28282830119132996,0.2929292917251587,0.3030303120613098,0.31313133239746094,0.3232323229312897,0.3333333432674408,0.34343433380126953,0.35353535413742065,0.3636363744735718,0.3737373650074005,0.38383838534355164,0.39393937587738037,0.4040403962135315,0.4141414165496826,0.42424240708351135,0.4343434274196625,0.4444444477558136,0.45454543828964233,0.46464645862579346,0.4747474789619446,0.4848484992980957,0.4949495196342468,0.505050539970398,0.5151515007019043,0.5252525210380554,0.5353535413742065,0.5454545617103577,0.5555555820465088,0.5656565427780151,0.5757575631141663,0.5858585834503174,0.5959595441818237,0.6060605645179749,0.616161584854126,0.6262626051902771,0.6363636255264282,0.6464646458625793,0.6565656661987305,0.6666666865348816,0.6767677068710327,0.6868686676025391,0.6969696879386902,0.7070707082748413,0.7171717286109924,0.7272727489471436,0.7373737692832947,0.7474747896194458,0.7575757503509521,0.7676767706871033,0.7777777910232544,0.7878788113594055,0.7979798316955566,0.808080792427063,0.8181818127632141,0.8282828330993652,0.8383837938308716,0.8484848141670227,0.8585858345031738,0.868686854839325,0.8787878751754761,0.8888888955116272,0.8989899158477783,0.9090909361839294,0.9191919565200806,0.9292929172515869,0.939393937587738,0.9494949579238892,0.9595959782600403,0.9696969985961914,0.9797979593276978,0.9898989796638489,1.0],\"y\":[-0.8571429252624512,-0.8997727632522583,-0.9385132789611816,-0.9698294997215271,-0.9908618330955505,-0.9996868968009949,-0.9954918622970581,-0.9786486029624939,-0.9506788849830627,-0.9141159057617188,-0.8722724318504333,-0.8289390802383423,-0.7880379557609558,-0.7532652020454407,-0.727753758430481,-0.7137871384620667,-0.7125914096832275,-0.7242227792739868,-0.7475621700286865,-0.7804164886474609,-0.8197185397148132,-0.8618060350418091,-0.9027544856071472,-0.9387351870536804,-0.966362714767456,-0.983004093170166,-0.9870175123214722,-0.9779019951820374,-0.9563423991203308,-0.9241467714309692,-0.884081244468689,-0.8396170139312744,-0.7946144938468933,-0.7529705762863159,-0.7182629704475403,-0.6934241652488708,-0.680473804473877,-0.6803339123725891,-0.6927446722984314,-0.7162876129150391,-0.7485148906707764,-0.7861708998680115,-0.82548987865448,-0.8625379204750061,-0.893570601940155,-0.9153751134872437,-0.9255613684654236,-0.9227800369262695,-0.9068451523780823,-0.8787500858306885,-0.8405774235725403,-0.7953081727027893,-0.7465497255325317,-0.6982071399688721,-0.654126763343811,-0.6177447438240051,-0.5917747020721436,-0.5779584646224976,-0.5769084095954895,-0.588050127029419,-0.6096754670143127,-0.6390970349311829,-0.672892153263092,-0.7072159051895142,-0.7381500005722046,-0.7620592713356018,-0.7759234309196472,-0.7776113152503967,-0.7660745978355408,-0.7414432764053345,-0.7050129175186157,-0.6591272950172424,-0.6069627404212952,-0.5522395372390747,-0.4988825023174286,-0.45066237449645996,-0.4108511209487915,-0.38192570209503174,-0.36533957719802856,-0.3613910973072052,-0.36919525265693665,-0.38676467537879944,-0.4111897647380829,-0.4389035701751709,-0.4660062789916992,-0.4886208772659302,-0.5032446980476379,-0.5070697665214539,-0.4982372224330902,-0.4760066568851471,-0.4408233165740967,-0.39427682757377625,-0.33895620703697205,-0.2782130837440491,-0.21585652232170105,-0.155804842710495,-0.10172922164201736,-0.05671745166182518,-0.022992247715592384,-0.0017097699455916882],\"type\":\"scatter\"},{\"mode\":\"markers\",\"name\":\"Pareto points\",\"x\":[0.0,0.1111111119389534,0.12121212482452393,0.13131313025951385,0.14141413569450378,0.1515151560306549,0.16161616146564484,0.35353535413742065,0.3636363744735718,0.3737373650074005,0.5454545617103577,0.5555555820465088,0.5656565427780151,0.5757575631141663,0.5858585834503174,0.7373737692832947,0.7474747896194458,0.7575757503509521,0.7676767706871033,0.7777777910232544,0.7878788113594055,0.7979798316955566,0.9292929172515869,0.939393937587738,0.9494949579238892,0.9595959782600403,0.9696969985961914,0.9797979593276978,0.9898989796638489,1.0,0.0,0.1111111119389534,0.12121212482452393,0.13131313025951385,0.14141413569450378,0.1515151560306549,0.16161616146564484,0.35353535413742065,0.3636363744735718,0.3737373650074005,0.5454545617103577,0.5555555820465088,0.5656565427780151,0.5757575631141663,0.5858585834503174,0.7373737692832947,0.7474747896194458,0.7575757503509521,0.7676767706871033,0.7777777910232544,0.7878788113594055,0.7979798316955566,0.9292929172515869,0.939393937587738,0.9494949579238892,0.9595959782600403,0.9696969985961914,0.9797979593276978,0.9898989796638489,1.0],\"y\":[-0.0,-0.0013717421097680926,-0.0017808944685384631,-0.0022642503026872873,-0.0028279940597712994,-0.003478309605270624,-0.004221379291266203,-0.044187407940626144,-0.04808415099978447,-0.05220349133014679,-0.1622840017080307,-0.17146778106689453,-0.18099161982536316,-0.190861776471138,-0.20108440518379211,-0.4009249210357666,-0.41762804985046387,-0.43478864431381226,-0.4524131417274475,-0.47050756216049194,-0.489078164100647,-0.5081310272216797,-0.8025237321853638,-0.8289784789085388,-0.8560083508491516,-0.8836194276809692,-0.9118179678916931,-0.9406099915504456,-0.9700019955635071,-1.0,-0.8571429252624512,-0.8289390802383423,-0.7880379557609558,-0.7532652020454407,-0.727753758430481,-0.7137871384620667,-0.7125914096832275,-0.6934241652488708,-0.680473804473877,-0.6803339123725891,-0.654126763343811,-0.6177447438240051,-0.5917747020721436,-0.5779584646224976,-0.5769084095954895,-0.5522395372390747,-0.4988825023174286,-0.45066237449645996,-0.4108511209487915,-0.38192570209503174,-0.36533957719802856,-0.3613910973072052,-0.33895620703697205,-0.2782130837440491,-0.21585652232170105,-0.155804842710495,-0.10172922164201736,-0.05671745166182518,-0.022992247715592384,-0.0017097699455916882],\"type\":\"scatter\"},{\"mode\":\"markers+text\",\"name\":\"Points queried\",\"text\":[\"1\",\"2\",\"3\",\"4\",\"5\",\"6\",\"7\",\"8\",\"9\",\"10\",\"11\",\"12\",\"13\",\"14\",\"15\",\"16\",\"17\",\"18\",\"19\",\"20\",\"1\",\"2\",\"3\",\"4\",\"5\",\"6\",\"7\",\"8\",\"9\",\"10\",\"11\",\"12\",\"13\",\"14\",\"15\",\"16\",\"17\",\"18\",\"19\",\"20\"],\"textposition\":\"top left\",\"x\":[0.9954000115394592,0.7893999814987183,0.0,0.9588000178337097,0.7581999897956848,1.0,0.9757000207901001,0.9422000050544739,0.07590000331401825,0.3677999973297119,0.5812000036239624,0.7721999883651733,0.7455000281333923,0.9337000250816345,0.9505000114440918,0.9670000076293945,0.9847999811172485,0.7960000038146973,0.5525000095367432,0.15489999949932098,0.9954000115394592,0.7893999814987183,0.0,0.9588000178337097,0.7581999897956848,1.0,0.9757000207901001,0.9422000050544739,0.07590000331401825,0.3677999973297119,0.5812000036239624,0.7721999883651733,0.7455000281333923,0.9337000250816345,0.9505000114440918,0.9670000076293945,0.9847999811172485,0.7960000038146973,0.5525000095367432,0.15489999949932098],\"y\":[-0.9862633943557739,-0.4919164180755615,-0.0,-0.8814224004745483,-0.43586432933807373,-1.0,-0.9288572072982788,-0.8364294171333313,-0.00043724552961066365,-0.04975482076406479,-0.19632555544376373,-0.46045729517936707,-0.4143267571926117,-0.8139956593513489,-0.8587294816970825,-0.904231071472168,-0.9550895690917969,-0.5043583512306213,-0.16865408420562744,-0.003716672072187066,-0.009832190349698067,-0.3639451265335083,-0.8571429252624512,-0.1603652536869049,-0.44792822003364563,-0.0017097699455916882,-0.07372128963470459,-0.2608836889266968,-0.9655206799507141,-0.6788520216941833,-0.5758156180381775,-0.3964400887489319,-0.5090230107307434,-0.3129030168056488,-0.20971481502056122,-0.11539476364850998,-0.03850724175572395,-0.3611947298049927,-0.6277592182159424,-0.7119362950325012],\"type\":\"scatter\"}],                        {\"template\":{\"data\":{\"histogram2dcontour\":[{\"type\":\"histogram2dcontour\",\"colorbar\":{\"outlinewidth\":0,\"ticks\":\"\"},\"colorscale\":[[0.0,\"#0d0887\"],[0.1111111111111111,\"#46039f\"],[0.2222222222222222,\"#7201a8\"],[0.3333333333333333,\"#9c179e\"],[0.4444444444444444,\"#bd3786\"],[0.5555555555555556,\"#d8576b\"],[0.6666666666666666,\"#ed7953\"],[0.7777777777777778,\"#fb9f3a\"],[0.8888888888888888,\"#fdca26\"],[1.0,\"#f0f921\"]]}],\"choropleth\":[{\"type\":\"choropleth\",\"colorbar\":{\"outlinewidth\":0,\"ticks\":\"\"}}],\"histogram2d\":[{\"type\":\"histogram2d\",\"colorbar\":{\"outlinewidth\":0,\"ticks\":\"\"},\"colorscale\":[[0.0,\"#0d0887\"],[0.1111111111111111,\"#46039f\"],[0.2222222222222222,\"#7201a8\"],[0.3333333333333333,\"#9c179e\"],[0.4444444444444444,\"#bd3786\"],[0.5555555555555556,\"#d8576b\"],[0.6666666666666666,\"#ed7953\"],[0.7777777777777778,\"#fb9f3a\"],[0.8888888888888888,\"#fdca26\"],[1.0,\"#f0f921\"]]}],\"heatmap\":[{\"type\":\"heatmap\",\"colorbar\":{\"outlinewidth\":0,\"ticks\":\"\"},\"colorscale\":[[0.0,\"#0d0887\"],[0.1111111111111111,\"#46039f\"],[0.2222222222222222,\"#7201a8\"],[0.3333333333333333,\"#9c179e\"],[0.4444444444444444,\"#bd3786\"],[0.5555555555555556,\"#d8576b\"],[0.6666666666666666,\"#ed7953\"],[0.7777777777777778,\"#fb9f3a\"],[0.8888888888888888,\"#fdca26\"],[1.0,\"#f0f921\"]]}],\"heatmapgl\":[{\"type\":\"heatmapgl\",\"colorbar\":{\"outlinewidth\":0,\"ticks\":\"\"},\"colorscale\":[[0.0,\"#0d0887\"],[0.1111111111111111,\"#46039f\"],[0.2222222222222222,\"#7201a8\"],[0.3333333333333333,\"#9c179e\"],[0.4444444444444444,\"#bd3786\"],[0.5555555555555556,\"#d8576b\"],[0.6666666666666666,\"#ed7953\"],[0.7777777777777778,\"#fb9f3a\"],[0.8888888888888888,\"#fdca26\"],[1.0,\"#f0f921\"]]}],\"contourcarpet\":[{\"type\":\"contourcarpet\",\"colorbar\":{\"outlinewidth\":0,\"ticks\":\"\"}}],\"contour\":[{\"type\":\"contour\",\"colorbar\":{\"outlinewidth\":0,\"ticks\":\"\"},\"colorscale\":[[0.0,\"#0d0887\"],[0.1111111111111111,\"#46039f\"],[0.2222222222222222,\"#7201a8\"],[0.3333333333333333,\"#9c179e\"],[0.4444444444444444,\"#bd3786\"],[0.5555555555555556,\"#d8576b\"],[0.6666666666666666,\"#ed7953\"],[0.7777777777777778,\"#fb9f3a\"],[0.8888888888888888,\"#fdca26\"],[1.0,\"#f0f921\"]]}],\"surface\":[{\"type\":\"surface\",\"colorbar\":{\"outlinewidth\":0,\"ticks\":\"\"},\"colorscale\":[[0.0,\"#0d0887\"],[0.1111111111111111,\"#46039f\"],[0.2222222222222222,\"#7201a8\"],[0.3333333333333333,\"#9c179e\"],[0.4444444444444444,\"#bd3786\"],[0.5555555555555556,\"#d8576b\"],[0.6666666666666666,\"#ed7953\"],[0.7777777777777778,\"#fb9f3a\"],[0.8888888888888888,\"#fdca26\"],[1.0,\"#f0f921\"]]}],\"mesh3d\":[{\"type\":\"mesh3d\",\"colorbar\":{\"outlinewidth\":0,\"ticks\":\"\"}}],\"scatter\":[{\"fillpattern\":{\"fillmode\":\"overlay\",\"size\":10,\"solidity\":0.2},\"type\":\"scatter\"}],\"parcoords\":[{\"type\":\"parcoords\",\"line\":{\"colorbar\":{\"outlinewidth\":0,\"ticks\":\"\"}}}],\"scatterpolargl\":[{\"type\":\"scatterpolargl\",\"marker\":{\"colorbar\":{\"outlinewidth\":0,\"ticks\":\"\"}}}],\"bar\":[{\"error_x\":{\"color\":\"#2a3f5f\"},\"error_y\":{\"color\":\"#2a3f5f\"},\"marker\":{\"line\":{\"color\":\"#E5ECF6\",\"width\":0.5},\"pattern\":{\"fillmode\":\"overlay\",\"size\":10,\"solidity\":0.2}},\"type\":\"bar\"}],\"scattergeo\":[{\"type\":\"scattergeo\",\"marker\":{\"colorbar\":{\"outlinewidth\":0,\"ticks\":\"\"}}}],\"scatterpolar\":[{\"type\":\"scatterpolar\",\"marker\":{\"colorbar\":{\"outlinewidth\":0,\"ticks\":\"\"}}}],\"histogram\":[{\"marker\":{\"pattern\":{\"fillmode\":\"overlay\",\"size\":10,\"solidity\":0.2}},\"type\":\"histogram\"}],\"scattergl\":[{\"type\":\"scattergl\",\"marker\":{\"colorbar\":{\"outlinewidth\":0,\"ticks\":\"\"}}}],\"scatter3d\":[{\"type\":\"scatter3d\",\"line\":{\"colorbar\":{\"outlinewidth\":0,\"ticks\":\"\"}},\"marker\":{\"colorbar\":{\"outlinewidth\":0,\"ticks\":\"\"}}}],\"scattermapbox\":[{\"type\":\"scattermapbox\",\"marker\":{\"colorbar\":{\"outlinewidth\":0,\"ticks\":\"\"}}}],\"scatterternary\":[{\"type\":\"scatterternary\",\"marker\":{\"colorbar\":{\"outlinewidth\":0,\"ticks\":\"\"}}}],\"scattercarpet\":[{\"type\":\"scattercarpet\",\"marker\":{\"colorbar\":{\"outlinewidth\":0,\"ticks\":\"\"}}}],\"carpet\":[{\"aaxis\":{\"endlinecolor\":\"#2a3f5f\",\"gridcolor\":\"white\",\"linecolor\":\"white\",\"minorgridcolor\":\"white\",\"startlinecolor\":\"#2a3f5f\"},\"baxis\":{\"endlinecolor\":\"#2a3f5f\",\"gridcolor\":\"white\",\"linecolor\":\"white\",\"minorgridcolor\":\"white\",\"startlinecolor\":\"#2a3f5f\"},\"type\":\"carpet\"}],\"table\":[{\"cells\":{\"fill\":{\"color\":\"#EBF0F8\"},\"line\":{\"color\":\"white\"}},\"header\":{\"fill\":{\"color\":\"#C8D4E3\"},\"line\":{\"color\":\"white\"}},\"type\":\"table\"}],\"barpolar\":[{\"marker\":{\"line\":{\"color\":\"#E5ECF6\",\"width\":0.5},\"pattern\":{\"fillmode\":\"overlay\",\"size\":10,\"solidity\":0.2}},\"type\":\"barpolar\"}],\"pie\":[{\"automargin\":true,\"type\":\"pie\"}]},\"layout\":{\"autotypenumbers\":\"strict\",\"colorway\":[\"#636efa\",\"#EF553B\",\"#00cc96\",\"#ab63fa\",\"#FFA15A\",\"#19d3f3\",\"#FF6692\",\"#B6E880\",\"#FF97FF\",\"#FECB52\"],\"font\":{\"color\":\"#2a3f5f\"},\"hovermode\":\"closest\",\"hoverlabel\":{\"align\":\"left\"},\"paper_bgcolor\":\"white\",\"plot_bgcolor\":\"#E5ECF6\",\"polar\":{\"bgcolor\":\"#E5ECF6\",\"angularaxis\":{\"gridcolor\":\"white\",\"linecolor\":\"white\",\"ticks\":\"\"},\"radialaxis\":{\"gridcolor\":\"white\",\"linecolor\":\"white\",\"ticks\":\"\"}},\"ternary\":{\"bgcolor\":\"#E5ECF6\",\"aaxis\":{\"gridcolor\":\"white\",\"linecolor\":\"white\",\"ticks\":\"\"},\"baxis\":{\"gridcolor\":\"white\",\"linecolor\":\"white\",\"ticks\":\"\"},\"caxis\":{\"gridcolor\":\"white\",\"linecolor\":\"white\",\"ticks\":\"\"}},\"coloraxis\":{\"colorbar\":{\"outlinewidth\":0,\"ticks\":\"\"}},\"colorscale\":{\"sequential\":[[0.0,\"#0d0887\"],[0.1111111111111111,\"#46039f\"],[0.2222222222222222,\"#7201a8\"],[0.3333333333333333,\"#9c179e\"],[0.4444444444444444,\"#bd3786\"],[0.5555555555555556,\"#d8576b\"],[0.6666666666666666,\"#ed7953\"],[0.7777777777777778,\"#fb9f3a\"],[0.8888888888888888,\"#fdca26\"],[1.0,\"#f0f921\"]],\"sequentialminus\":[[0.0,\"#0d0887\"],[0.1111111111111111,\"#46039f\"],[0.2222222222222222,\"#7201a8\"],[0.3333333333333333,\"#9c179e\"],[0.4444444444444444,\"#bd3786\"],[0.5555555555555556,\"#d8576b\"],[0.6666666666666666,\"#ed7953\"],[0.7777777777777778,\"#fb9f3a\"],[0.8888888888888888,\"#fdca26\"],[1.0,\"#f0f921\"]],\"diverging\":[[0,\"#8e0152\"],[0.1,\"#c51b7d\"],[0.2,\"#de77ae\"],[0.3,\"#f1b6da\"],[0.4,\"#fde0ef\"],[0.5,\"#f7f7f7\"],[0.6,\"#e6f5d0\"],[0.7,\"#b8e186\"],[0.8,\"#7fbc41\"],[0.9,\"#4d9221\"],[1,\"#276419\"]]},\"xaxis\":{\"gridcolor\":\"white\",\"linecolor\":\"white\",\"ticks\":\"\",\"title\":{\"standoff\":15},\"zerolinecolor\":\"white\",\"automargin\":true,\"zerolinewidth\":2},\"yaxis\":{\"gridcolor\":\"white\",\"linecolor\":\"white\",\"ticks\":\"\",\"title\":{\"standoff\":15},\"zerolinecolor\":\"white\",\"automargin\":true,\"zerolinewidth\":2},\"scene\":{\"xaxis\":{\"backgroundcolor\":\"#E5ECF6\",\"gridcolor\":\"white\",\"linecolor\":\"white\",\"showbackground\":true,\"ticks\":\"\",\"zerolinecolor\":\"white\",\"gridwidth\":2},\"yaxis\":{\"backgroundcolor\":\"#E5ECF6\",\"gridcolor\":\"white\",\"linecolor\":\"white\",\"showbackground\":true,\"ticks\":\"\",\"zerolinecolor\":\"white\",\"gridwidth\":2},\"zaxis\":{\"backgroundcolor\":\"#E5ECF6\",\"gridcolor\":\"white\",\"linecolor\":\"white\",\"showbackground\":true,\"ticks\":\"\",\"zerolinecolor\":\"white\",\"gridwidth\":2}},\"shapedefaults\":{\"line\":{\"color\":\"#2a3f5f\"}},\"annotationdefaults\":{\"arrowcolor\":\"#2a3f5f\",\"arrowhead\":0,\"arrowwidth\":1},\"geo\":{\"bgcolor\":\"white\",\"landcolor\":\"#E5ECF6\",\"subunitcolor\":\"white\",\"showland\":true,\"showlakes\":true,\"lakecolor\":\"white\"},\"title\":{\"x\":0.05},\"mapbox\":{\"style\":\"light\"}}},\"margin\":{\"l\":65,\"r\":50,\"b\":65,\"t\":90},\"width\":500,\"height\":500},                        {\"responsive\": true}                    ).then(function(){\n",
       "                            \n",
       "var gd = document.getElementById('b01c48ea-3f51-4ad4-ab40-e23ae123b771');\n",
       "var x = new MutationObserver(function (mutations, observer) {{\n",
       "        var display = window.getComputedStyle(gd).display;\n",
       "        if (!display || display === 'none') {{\n",
       "            console.log([gd, 'removed!']);\n",
       "            Plotly.purge(gd);\n",
       "            observer.disconnect();\n",
       "        }}\n",
       "}});\n",
       "\n",
       "// Listen for the removal of the full notebook cells\n",
       "var notebookContainer = gd.closest('#notebook-container');\n",
       "if (notebookContainer) {{\n",
       "    x.observe(notebookContainer, {childList: true});\n",
       "}}\n",
       "\n",
       "// Listen for the clearing of the current output cell\n",
       "var outputEl = gd.closest('.output');\n",
       "if (outputEl) {{\n",
       "    x.observe(outputEl, {childList: true});\n",
       "}}\n",
       "\n",
       "                        })                };                });            </script>        </div>"
      ]
     },
     "metadata": {},
     "output_type": "display_data"
    }
   ],
   "source": [
    "\n",
    "xs = Tensor([\n",
    "#         [0.8947],\n",
    "#         [0.0392],\n",
    "#         [0.4709],\n",
    "#         [0.6831],\n",
    "#         [0.9031],\n",
    "#         [0.2534],\n",
    "#         [0.6834],\n",
    "#         [0.8981],\n",
    "#         [0.1028],\n",
    "#         [0.8616],\n",
    "[0.9954],\n",
    "        [0.7894],\n",
    "        [0.0000],\n",
    "        [0.9588],\n",
    "        [0.7582],\n",
    "        [1.0000],\n",
    "        [0.9757],\n",
    "        [0.9422],\n",
    "        [0.0759],\n",
    "        [0.3678],\n",
    "        [0.5812],\n",
    "        [0.7722],\n",
    "        [0.7455],\n",
    "        [0.9337],\n",
    "        [0.9505],\n",
    "        [0.9670],\n",
    "        [0.9848],\n",
    "        [0.7960],\n",
    "        [0.5525],\n",
    "        [0.1549]\n",
    "])\n",
    "ys = problem(xs)\n",
    "\n",
    "fig = go.Figure(data=[\n",
    "#     go.Surface(z=z[:, 0].reshape(N, N), x=x, y=y),\n",
    "    go.Scatter(y=z[:, 0], x=x[:, 0], mode='lines', name='f_0(x)'),\n",
    "    go.Scatter(y=z[:, 1], x=x[:, 0], mode='lines', name='f_1(x)'),\n",
    "    go.Scatter(y=torch.cat([z[a, 0], z[a, 1]], dim=0), \n",
    "               x=torch.cat([x[a, 0], x[a, 0]], dim=0), mode='markers', name='Pareto points'),\n",
    "    go.Scatter(y=torch.cat([ys[:, 0], ys[:, 1]], dim=0), \n",
    "               x=torch.cat([xs[:, 0], xs[:, 0]], dim=0), \n",
    "               mode='markers+text', name='Points queried',\n",
    "               text=2*list(range(1, 21)),\n",
    "               textposition=\"top left\"),\n",
    "])\n",
    "fig.update_layout(width=500, height=500,\n",
    "                  margin=dict(l=65, r=50, b=65, t=90))\n",
    "fig.show()"
   ]
  },
  {
   "cell_type": "code",
   "execution_count": 33,
   "metadata": {},
   "outputs": [
    {
     "data": {
      "application/vnd.plotly.v1+json": {
       "config": {
        "plotlyServerURL": "https://plot.ly"
       },
       "data": [
        {
         "mode": "markers",
         "name": "Pareto points",
         "type": "scatter",
         "x": [
          0,
          -1.0306101785317878e-06,
          -8.244881428254303e-06,
          -2.7826476070913486e-05,
          -6.595905142603442e-05,
          -0.00012882625742349774,
          -0.0002226118085673079,
          -0.0003534992574714124,
          -0.0005276724114082754,
          -0.0007513148593716323,
          -0.001030610059387982,
          -0.0013717421097680926,
          -0.0017808944685384631,
          -0.0022642503026872873,
          -0.0028279940597712994,
          -0.003478309605270624,
          -0.004221379291266203,
          -0.0050633870996534824,
          -0.006010518874973059,
          -0.007068955339491367,
          -0.008244880475103855,
          -0.00954448152333498,
          -0.010973936878144741,
          -0.012539433315396309,
          -0.014247155748307705,
          -0.016103286296129227,
          -0.0181140024214983,
          -0.020285500213503838,
          -0.022623958066105843,
          -0.025135550647974014,
          -0.027826476842164993,
          -0.03070291131734848,
          -0.03377103433012962,
          -0.037037041038274765,
          -0.04050709679722786,
          -0.044187407940626144,
          -0.04808415099978447,
          -0.05220349133014679,
          -0.05655164271593094,
          -0.06113475561141968,
          -0.06595904380083084,
          -0.07103068381547928,
          -0.07635583728551865,
          -0.08194071799516678,
          -0.08779149502515793,
          -0.09391434490680695,
          -0.10031546652317047,
          -0.10700104385614395,
          -0.11397724598646164,
          -0.12125027179718018,
          -0.1288262903690338,
          -0.13671144843101501,
          -0.1449120193719864,
          -0.153434157371521,
          -0.1622840017080307,
          -0.17146778106689453,
          -0.18099161982536316,
          -0.190861776471138,
          -0.20108440518379211,
          -0.21166563034057617,
          -0.22261175513267517,
          -0.2339288890361786,
          -0.24562323093414307,
          -0.25770094990730286,
          -0.270168274641037,
          -0.28303131461143494,
          -0.2962963283061981,
          -0.309969425201416,
          -0.3240567743778229,
          -0.3385646939277649,
          -0.35349926352500916,
          -0.3688667118549347,
          -0.38467320799827576,
          -0.4009249210357666,
          -0.41762804985046387,
          -0.43478864431381226,
          -0.4524131417274475,
          -0.47050756216049194,
          -0.489078164100647,
          -0.5081310272216797,
          -0.5276723504066467,
          -0.5477085113525391,
          -0.5682454705238342,
          -0.5892893671989441,
          -0.6108466982841492,
          -0.632923424243927,
          -0.6555257439613342,
          -0.6786598563194275,
          -0.7023319602012634,
          -0.7265482544898987,
          -0.7513148784637451,
          -0.7766380310058594,
          -0.8025237321853638,
          -0.8289784789085388,
          -0.8560083508491516,
          -0.8836194276809692,
          -0.9118179678916931,
          -0.9406099915504456,
          -0.9700019955635071,
          -1
         ],
         "y": [
          -0.8571429252624512,
          -0.8997727632522583,
          -0.9385132789611816,
          -0.9698294997215271,
          -0.9908618330955505,
          -0.9996868968009949,
          -0.9954918622970581,
          -0.9786486029624939,
          -0.9506788849830627,
          -0.9141159057617188,
          -0.8722724318504333,
          -0.8289390802383423,
          -0.7880379557609558,
          -0.7532652020454407,
          -0.727753758430481,
          -0.7137871384620667,
          -0.7125914096832275,
          -0.7242227792739868,
          -0.7475621700286865,
          -0.7804164886474609,
          -0.8197185397148132,
          -0.8618060350418091,
          -0.9027544856071472,
          -0.9387351870536804,
          -0.966362714767456,
          -0.983004093170166,
          -0.9870175123214722,
          -0.9779019951820374,
          -0.9563423991203308,
          -0.9241467714309692,
          -0.884081244468689,
          -0.8396170139312744,
          -0.7946144938468933,
          -0.7529705762863159,
          -0.7182629704475403,
          -0.6934241652488708,
          -0.680473804473877,
          -0.6803339123725891,
          -0.6927446722984314,
          -0.7162876129150391,
          -0.7485148906707764,
          -0.7861708998680115,
          -0.82548987865448,
          -0.8625379204750061,
          -0.893570601940155,
          -0.9153751134872437,
          -0.9255613684654236,
          -0.9227800369262695,
          -0.9068451523780823,
          -0.8787500858306885,
          -0.8405774235725403,
          -0.7953081727027893,
          -0.7465497255325317,
          -0.6982071399688721,
          -0.654126763343811,
          -0.6177447438240051,
          -0.5917747020721436,
          -0.5779584646224976,
          -0.5769084095954895,
          -0.588050127029419,
          -0.6096754670143127,
          -0.6390970349311829,
          -0.672892153263092,
          -0.7072159051895142,
          -0.7381500005722046,
          -0.7620592713356018,
          -0.7759234309196472,
          -0.7776113152503967,
          -0.7660745978355408,
          -0.7414432764053345,
          -0.7050129175186157,
          -0.6591272950172424,
          -0.6069627404212952,
          -0.5522395372390747,
          -0.4988825023174286,
          -0.45066237449645996,
          -0.4108511209487915,
          -0.38192570209503174,
          -0.36533957719802856,
          -0.3613910973072052,
          -0.36919525265693665,
          -0.38676467537879944,
          -0.4111897647380829,
          -0.4389035701751709,
          -0.4660062789916992,
          -0.4886208772659302,
          -0.5032446980476379,
          -0.5070697665214539,
          -0.4982372224330902,
          -0.4760066568851471,
          -0.4408233165740967,
          -0.39427682757377625,
          -0.33895620703697205,
          -0.2782130837440491,
          -0.21585652232170105,
          -0.155804842710495,
          -0.10172922164201736,
          -0.05671745166182518,
          -0.022992247715592384,
          -0.0017097699455916882
         ]
        },
        {
         "mode": "markers+text",
         "name": "Points queried",
         "text": [
          "1",
          "2",
          "3",
          "4",
          "5",
          "6",
          "7",
          "8",
          "9",
          "10",
          "11",
          "12",
          "13",
          "14",
          "15",
          "16",
          "17",
          "18",
          "19",
          "20",
          "1",
          "2",
          "3",
          "4",
          "5",
          "6",
          "7",
          "8",
          "9",
          "10",
          "11",
          "12",
          "13",
          "14",
          "15",
          "16",
          "17",
          "18",
          "19",
          "20"
         ],
         "textposition": "top right",
         "type": "scatter",
         "x": [
          -0.9862633943557739,
          -0.4919164180755615,
          0,
          -0.8814224004745483,
          -0.43586432933807373,
          -1,
          -0.9288572072982788,
          -0.8364294171333313,
          -0.00043724552961066365,
          -0.04975482076406479,
          -0.19632555544376373,
          -0.46045729517936707,
          -0.4143267571926117,
          -0.8139956593513489,
          -0.8587294816970825,
          -0.904231071472168,
          -0.9550895690917969,
          -0.5043583512306213,
          -0.16865408420562744,
          -0.003716672072187066
         ],
         "y": [
          -0.009832190349698067,
          -0.3639451265335083,
          -0.8571429252624512,
          -0.1603652536869049,
          -0.44792822003364563,
          -0.0017097699455916882,
          -0.07372128963470459,
          -0.2608836889266968,
          -0.9655206799507141,
          -0.6788520216941833,
          -0.5758156180381775,
          -0.3964400887489319,
          -0.5090230107307434,
          -0.3129030168056488,
          -0.20971481502056122,
          -0.11539476364850998,
          -0.03850724175572395,
          -0.3611947298049927,
          -0.6277592182159424,
          -0.7119362950325012
         ]
        }
       ],
       "layout": {
        "height": 500,
        "template": {
         "data": {
          "bar": [
           {
            "error_x": {
             "color": "#2a3f5f"
            },
            "error_y": {
             "color": "#2a3f5f"
            },
            "marker": {
             "line": {
              "color": "#E5ECF6",
              "width": 0.5
             },
             "pattern": {
              "fillmode": "overlay",
              "size": 10,
              "solidity": 0.2
             }
            },
            "type": "bar"
           }
          ],
          "barpolar": [
           {
            "marker": {
             "line": {
              "color": "#E5ECF6",
              "width": 0.5
             },
             "pattern": {
              "fillmode": "overlay",
              "size": 10,
              "solidity": 0.2
             }
            },
            "type": "barpolar"
           }
          ],
          "carpet": [
           {
            "aaxis": {
             "endlinecolor": "#2a3f5f",
             "gridcolor": "white",
             "linecolor": "white",
             "minorgridcolor": "white",
             "startlinecolor": "#2a3f5f"
            },
            "baxis": {
             "endlinecolor": "#2a3f5f",
             "gridcolor": "white",
             "linecolor": "white",
             "minorgridcolor": "white",
             "startlinecolor": "#2a3f5f"
            },
            "type": "carpet"
           }
          ],
          "choropleth": [
           {
            "colorbar": {
             "outlinewidth": 0,
             "ticks": ""
            },
            "type": "choropleth"
           }
          ],
          "contour": [
           {
            "colorbar": {
             "outlinewidth": 0,
             "ticks": ""
            },
            "colorscale": [
             [
              0,
              "#0d0887"
             ],
             [
              0.1111111111111111,
              "#46039f"
             ],
             [
              0.2222222222222222,
              "#7201a8"
             ],
             [
              0.3333333333333333,
              "#9c179e"
             ],
             [
              0.4444444444444444,
              "#bd3786"
             ],
             [
              0.5555555555555556,
              "#d8576b"
             ],
             [
              0.6666666666666666,
              "#ed7953"
             ],
             [
              0.7777777777777778,
              "#fb9f3a"
             ],
             [
              0.8888888888888888,
              "#fdca26"
             ],
             [
              1,
              "#f0f921"
             ]
            ],
            "type": "contour"
           }
          ],
          "contourcarpet": [
           {
            "colorbar": {
             "outlinewidth": 0,
             "ticks": ""
            },
            "type": "contourcarpet"
           }
          ],
          "heatmap": [
           {
            "colorbar": {
             "outlinewidth": 0,
             "ticks": ""
            },
            "colorscale": [
             [
              0,
              "#0d0887"
             ],
             [
              0.1111111111111111,
              "#46039f"
             ],
             [
              0.2222222222222222,
              "#7201a8"
             ],
             [
              0.3333333333333333,
              "#9c179e"
             ],
             [
              0.4444444444444444,
              "#bd3786"
             ],
             [
              0.5555555555555556,
              "#d8576b"
             ],
             [
              0.6666666666666666,
              "#ed7953"
             ],
             [
              0.7777777777777778,
              "#fb9f3a"
             ],
             [
              0.8888888888888888,
              "#fdca26"
             ],
             [
              1,
              "#f0f921"
             ]
            ],
            "type": "heatmap"
           }
          ],
          "heatmapgl": [
           {
            "colorbar": {
             "outlinewidth": 0,
             "ticks": ""
            },
            "colorscale": [
             [
              0,
              "#0d0887"
             ],
             [
              0.1111111111111111,
              "#46039f"
             ],
             [
              0.2222222222222222,
              "#7201a8"
             ],
             [
              0.3333333333333333,
              "#9c179e"
             ],
             [
              0.4444444444444444,
              "#bd3786"
             ],
             [
              0.5555555555555556,
              "#d8576b"
             ],
             [
              0.6666666666666666,
              "#ed7953"
             ],
             [
              0.7777777777777778,
              "#fb9f3a"
             ],
             [
              0.8888888888888888,
              "#fdca26"
             ],
             [
              1,
              "#f0f921"
             ]
            ],
            "type": "heatmapgl"
           }
          ],
          "histogram": [
           {
            "marker": {
             "pattern": {
              "fillmode": "overlay",
              "size": 10,
              "solidity": 0.2
             }
            },
            "type": "histogram"
           }
          ],
          "histogram2d": [
           {
            "colorbar": {
             "outlinewidth": 0,
             "ticks": ""
            },
            "colorscale": [
             [
              0,
              "#0d0887"
             ],
             [
              0.1111111111111111,
              "#46039f"
             ],
             [
              0.2222222222222222,
              "#7201a8"
             ],
             [
              0.3333333333333333,
              "#9c179e"
             ],
             [
              0.4444444444444444,
              "#bd3786"
             ],
             [
              0.5555555555555556,
              "#d8576b"
             ],
             [
              0.6666666666666666,
              "#ed7953"
             ],
             [
              0.7777777777777778,
              "#fb9f3a"
             ],
             [
              0.8888888888888888,
              "#fdca26"
             ],
             [
              1,
              "#f0f921"
             ]
            ],
            "type": "histogram2d"
           }
          ],
          "histogram2dcontour": [
           {
            "colorbar": {
             "outlinewidth": 0,
             "ticks": ""
            },
            "colorscale": [
             [
              0,
              "#0d0887"
             ],
             [
              0.1111111111111111,
              "#46039f"
             ],
             [
              0.2222222222222222,
              "#7201a8"
             ],
             [
              0.3333333333333333,
              "#9c179e"
             ],
             [
              0.4444444444444444,
              "#bd3786"
             ],
             [
              0.5555555555555556,
              "#d8576b"
             ],
             [
              0.6666666666666666,
              "#ed7953"
             ],
             [
              0.7777777777777778,
              "#fb9f3a"
             ],
             [
              0.8888888888888888,
              "#fdca26"
             ],
             [
              1,
              "#f0f921"
             ]
            ],
            "type": "histogram2dcontour"
           }
          ],
          "mesh3d": [
           {
            "colorbar": {
             "outlinewidth": 0,
             "ticks": ""
            },
            "type": "mesh3d"
           }
          ],
          "parcoords": [
           {
            "line": {
             "colorbar": {
              "outlinewidth": 0,
              "ticks": ""
             }
            },
            "type": "parcoords"
           }
          ],
          "pie": [
           {
            "automargin": true,
            "type": "pie"
           }
          ],
          "scatter": [
           {
            "fillpattern": {
             "fillmode": "overlay",
             "size": 10,
             "solidity": 0.2
            },
            "type": "scatter"
           }
          ],
          "scatter3d": [
           {
            "line": {
             "colorbar": {
              "outlinewidth": 0,
              "ticks": ""
             }
            },
            "marker": {
             "colorbar": {
              "outlinewidth": 0,
              "ticks": ""
             }
            },
            "type": "scatter3d"
           }
          ],
          "scattercarpet": [
           {
            "marker": {
             "colorbar": {
              "outlinewidth": 0,
              "ticks": ""
             }
            },
            "type": "scattercarpet"
           }
          ],
          "scattergeo": [
           {
            "marker": {
             "colorbar": {
              "outlinewidth": 0,
              "ticks": ""
             }
            },
            "type": "scattergeo"
           }
          ],
          "scattergl": [
           {
            "marker": {
             "colorbar": {
              "outlinewidth": 0,
              "ticks": ""
             }
            },
            "type": "scattergl"
           }
          ],
          "scattermapbox": [
           {
            "marker": {
             "colorbar": {
              "outlinewidth": 0,
              "ticks": ""
             }
            },
            "type": "scattermapbox"
           }
          ],
          "scatterpolar": [
           {
            "marker": {
             "colorbar": {
              "outlinewidth": 0,
              "ticks": ""
             }
            },
            "type": "scatterpolar"
           }
          ],
          "scatterpolargl": [
           {
            "marker": {
             "colorbar": {
              "outlinewidth": 0,
              "ticks": ""
             }
            },
            "type": "scatterpolargl"
           }
          ],
          "scatterternary": [
           {
            "marker": {
             "colorbar": {
              "outlinewidth": 0,
              "ticks": ""
             }
            },
            "type": "scatterternary"
           }
          ],
          "surface": [
           {
            "colorbar": {
             "outlinewidth": 0,
             "ticks": ""
            },
            "colorscale": [
             [
              0,
              "#0d0887"
             ],
             [
              0.1111111111111111,
              "#46039f"
             ],
             [
              0.2222222222222222,
              "#7201a8"
             ],
             [
              0.3333333333333333,
              "#9c179e"
             ],
             [
              0.4444444444444444,
              "#bd3786"
             ],
             [
              0.5555555555555556,
              "#d8576b"
             ],
             [
              0.6666666666666666,
              "#ed7953"
             ],
             [
              0.7777777777777778,
              "#fb9f3a"
             ],
             [
              0.8888888888888888,
              "#fdca26"
             ],
             [
              1,
              "#f0f921"
             ]
            ],
            "type": "surface"
           }
          ],
          "table": [
           {
            "cells": {
             "fill": {
              "color": "#EBF0F8"
             },
             "line": {
              "color": "white"
             }
            },
            "header": {
             "fill": {
              "color": "#C8D4E3"
             },
             "line": {
              "color": "white"
             }
            },
            "type": "table"
           }
          ]
         },
         "layout": {
          "annotationdefaults": {
           "arrowcolor": "#2a3f5f",
           "arrowhead": 0,
           "arrowwidth": 1
          },
          "autotypenumbers": "strict",
          "coloraxis": {
           "colorbar": {
            "outlinewidth": 0,
            "ticks": ""
           }
          },
          "colorscale": {
           "diverging": [
            [
             0,
             "#8e0152"
            ],
            [
             0.1,
             "#c51b7d"
            ],
            [
             0.2,
             "#de77ae"
            ],
            [
             0.3,
             "#f1b6da"
            ],
            [
             0.4,
             "#fde0ef"
            ],
            [
             0.5,
             "#f7f7f7"
            ],
            [
             0.6,
             "#e6f5d0"
            ],
            [
             0.7,
             "#b8e186"
            ],
            [
             0.8,
             "#7fbc41"
            ],
            [
             0.9,
             "#4d9221"
            ],
            [
             1,
             "#276419"
            ]
           ],
           "sequential": [
            [
             0,
             "#0d0887"
            ],
            [
             0.1111111111111111,
             "#46039f"
            ],
            [
             0.2222222222222222,
             "#7201a8"
            ],
            [
             0.3333333333333333,
             "#9c179e"
            ],
            [
             0.4444444444444444,
             "#bd3786"
            ],
            [
             0.5555555555555556,
             "#d8576b"
            ],
            [
             0.6666666666666666,
             "#ed7953"
            ],
            [
             0.7777777777777778,
             "#fb9f3a"
            ],
            [
             0.8888888888888888,
             "#fdca26"
            ],
            [
             1,
             "#f0f921"
            ]
           ],
           "sequentialminus": [
            [
             0,
             "#0d0887"
            ],
            [
             0.1111111111111111,
             "#46039f"
            ],
            [
             0.2222222222222222,
             "#7201a8"
            ],
            [
             0.3333333333333333,
             "#9c179e"
            ],
            [
             0.4444444444444444,
             "#bd3786"
            ],
            [
             0.5555555555555556,
             "#d8576b"
            ],
            [
             0.6666666666666666,
             "#ed7953"
            ],
            [
             0.7777777777777778,
             "#fb9f3a"
            ],
            [
             0.8888888888888888,
             "#fdca26"
            ],
            [
             1,
             "#f0f921"
            ]
           ]
          },
          "colorway": [
           "#636efa",
           "#EF553B",
           "#00cc96",
           "#ab63fa",
           "#FFA15A",
           "#19d3f3",
           "#FF6692",
           "#B6E880",
           "#FF97FF",
           "#FECB52"
          ],
          "font": {
           "color": "#2a3f5f"
          },
          "geo": {
           "bgcolor": "white",
           "lakecolor": "white",
           "landcolor": "#E5ECF6",
           "showlakes": true,
           "showland": true,
           "subunitcolor": "white"
          },
          "hoverlabel": {
           "align": "left"
          },
          "hovermode": "closest",
          "mapbox": {
           "style": "light"
          },
          "paper_bgcolor": "white",
          "plot_bgcolor": "#E5ECF6",
          "polar": {
           "angularaxis": {
            "gridcolor": "white",
            "linecolor": "white",
            "ticks": ""
           },
           "bgcolor": "#E5ECF6",
           "radialaxis": {
            "gridcolor": "white",
            "linecolor": "white",
            "ticks": ""
           }
          },
          "scene": {
           "xaxis": {
            "backgroundcolor": "#E5ECF6",
            "gridcolor": "white",
            "gridwidth": 2,
            "linecolor": "white",
            "showbackground": true,
            "ticks": "",
            "zerolinecolor": "white"
           },
           "yaxis": {
            "backgroundcolor": "#E5ECF6",
            "gridcolor": "white",
            "gridwidth": 2,
            "linecolor": "white",
            "showbackground": true,
            "ticks": "",
            "zerolinecolor": "white"
           },
           "zaxis": {
            "backgroundcolor": "#E5ECF6",
            "gridcolor": "white",
            "gridwidth": 2,
            "linecolor": "white",
            "showbackground": true,
            "ticks": "",
            "zerolinecolor": "white"
           }
          },
          "shapedefaults": {
           "line": {
            "color": "#2a3f5f"
           }
          },
          "ternary": {
           "aaxis": {
            "gridcolor": "white",
            "linecolor": "white",
            "ticks": ""
           },
           "baxis": {
            "gridcolor": "white",
            "linecolor": "white",
            "ticks": ""
           },
           "bgcolor": "#E5ECF6",
           "caxis": {
            "gridcolor": "white",
            "linecolor": "white",
            "ticks": ""
           }
          },
          "title": {
           "x": 0.05
          },
          "xaxis": {
           "automargin": true,
           "gridcolor": "white",
           "linecolor": "white",
           "ticks": "",
           "title": {
            "standoff": 15
           },
           "zerolinecolor": "white",
           "zerolinewidth": 2
          },
          "yaxis": {
           "automargin": true,
           "gridcolor": "white",
           "linecolor": "white",
           "ticks": "",
           "title": {
            "standoff": 15
           },
           "zerolinecolor": "white",
           "zerolinewidth": 2
          }
         }
        },
        "width": 500,
        "xaxis": {
         "title": {
          "text": "f_0(x)"
         }
        },
        "yaxis": {
         "title": {
          "text": "f_1(x)"
         }
        }
       }
      },
      "text/html": [
       "<div>                            <div id=\"7395f573-b1d7-4207-8d81-4a7d9d1b0cc1\" class=\"plotly-graph-div\" style=\"height:500px; width:500px;\"></div>            <script type=\"text/javascript\">                require([\"plotly\"], function(Plotly) {                    window.PLOTLYENV=window.PLOTLYENV || {};                                    if (document.getElementById(\"7395f573-b1d7-4207-8d81-4a7d9d1b0cc1\")) {                    Plotly.newPlot(                        \"7395f573-b1d7-4207-8d81-4a7d9d1b0cc1\",                        [{\"mode\":\"markers\",\"name\":\"Pareto points\",\"x\":[-0.0,-1.0306101785317878e-06,-8.244881428254303e-06,-2.7826476070913486e-05,-6.595905142603442e-05,-0.00012882625742349774,-0.0002226118085673079,-0.0003534992574714124,-0.0005276724114082754,-0.0007513148593716323,-0.001030610059387982,-0.0013717421097680926,-0.0017808944685384631,-0.0022642503026872873,-0.0028279940597712994,-0.003478309605270624,-0.004221379291266203,-0.0050633870996534824,-0.006010518874973059,-0.007068955339491367,-0.008244880475103855,-0.00954448152333498,-0.010973936878144741,-0.012539433315396309,-0.014247155748307705,-0.016103286296129227,-0.0181140024214983,-0.020285500213503838,-0.022623958066105843,-0.025135550647974014,-0.027826476842164993,-0.03070291131734848,-0.03377103433012962,-0.037037041038274765,-0.04050709679722786,-0.044187407940626144,-0.04808415099978447,-0.05220349133014679,-0.05655164271593094,-0.06113475561141968,-0.06595904380083084,-0.07103068381547928,-0.07635583728551865,-0.08194071799516678,-0.08779149502515793,-0.09391434490680695,-0.10031546652317047,-0.10700104385614395,-0.11397724598646164,-0.12125027179718018,-0.1288262903690338,-0.13671144843101501,-0.1449120193719864,-0.153434157371521,-0.1622840017080307,-0.17146778106689453,-0.18099161982536316,-0.190861776471138,-0.20108440518379211,-0.21166563034057617,-0.22261175513267517,-0.2339288890361786,-0.24562323093414307,-0.25770094990730286,-0.270168274641037,-0.28303131461143494,-0.2962963283061981,-0.309969425201416,-0.3240567743778229,-0.3385646939277649,-0.35349926352500916,-0.3688667118549347,-0.38467320799827576,-0.4009249210357666,-0.41762804985046387,-0.43478864431381226,-0.4524131417274475,-0.47050756216049194,-0.489078164100647,-0.5081310272216797,-0.5276723504066467,-0.5477085113525391,-0.5682454705238342,-0.5892893671989441,-0.6108466982841492,-0.632923424243927,-0.6555257439613342,-0.6786598563194275,-0.7023319602012634,-0.7265482544898987,-0.7513148784637451,-0.7766380310058594,-0.8025237321853638,-0.8289784789085388,-0.8560083508491516,-0.8836194276809692,-0.9118179678916931,-0.9406099915504456,-0.9700019955635071,-1.0],\"y\":[-0.8571429252624512,-0.8997727632522583,-0.9385132789611816,-0.9698294997215271,-0.9908618330955505,-0.9996868968009949,-0.9954918622970581,-0.9786486029624939,-0.9506788849830627,-0.9141159057617188,-0.8722724318504333,-0.8289390802383423,-0.7880379557609558,-0.7532652020454407,-0.727753758430481,-0.7137871384620667,-0.7125914096832275,-0.7242227792739868,-0.7475621700286865,-0.7804164886474609,-0.8197185397148132,-0.8618060350418091,-0.9027544856071472,-0.9387351870536804,-0.966362714767456,-0.983004093170166,-0.9870175123214722,-0.9779019951820374,-0.9563423991203308,-0.9241467714309692,-0.884081244468689,-0.8396170139312744,-0.7946144938468933,-0.7529705762863159,-0.7182629704475403,-0.6934241652488708,-0.680473804473877,-0.6803339123725891,-0.6927446722984314,-0.7162876129150391,-0.7485148906707764,-0.7861708998680115,-0.82548987865448,-0.8625379204750061,-0.893570601940155,-0.9153751134872437,-0.9255613684654236,-0.9227800369262695,-0.9068451523780823,-0.8787500858306885,-0.8405774235725403,-0.7953081727027893,-0.7465497255325317,-0.6982071399688721,-0.654126763343811,-0.6177447438240051,-0.5917747020721436,-0.5779584646224976,-0.5769084095954895,-0.588050127029419,-0.6096754670143127,-0.6390970349311829,-0.672892153263092,-0.7072159051895142,-0.7381500005722046,-0.7620592713356018,-0.7759234309196472,-0.7776113152503967,-0.7660745978355408,-0.7414432764053345,-0.7050129175186157,-0.6591272950172424,-0.6069627404212952,-0.5522395372390747,-0.4988825023174286,-0.45066237449645996,-0.4108511209487915,-0.38192570209503174,-0.36533957719802856,-0.3613910973072052,-0.36919525265693665,-0.38676467537879944,-0.4111897647380829,-0.4389035701751709,-0.4660062789916992,-0.4886208772659302,-0.5032446980476379,-0.5070697665214539,-0.4982372224330902,-0.4760066568851471,-0.4408233165740967,-0.39427682757377625,-0.33895620703697205,-0.2782130837440491,-0.21585652232170105,-0.155804842710495,-0.10172922164201736,-0.05671745166182518,-0.022992247715592384,-0.0017097699455916882],\"type\":\"scatter\"},{\"mode\":\"markers+text\",\"name\":\"Points queried\",\"text\":[\"1\",\"2\",\"3\",\"4\",\"5\",\"6\",\"7\",\"8\",\"9\",\"10\",\"11\",\"12\",\"13\",\"14\",\"15\",\"16\",\"17\",\"18\",\"19\",\"20\",\"1\",\"2\",\"3\",\"4\",\"5\",\"6\",\"7\",\"8\",\"9\",\"10\",\"11\",\"12\",\"13\",\"14\",\"15\",\"16\",\"17\",\"18\",\"19\",\"20\"],\"textposition\":\"top right\",\"x\":[-0.9862633943557739,-0.4919164180755615,-0.0,-0.8814224004745483,-0.43586432933807373,-1.0,-0.9288572072982788,-0.8364294171333313,-0.00043724552961066365,-0.04975482076406479,-0.19632555544376373,-0.46045729517936707,-0.4143267571926117,-0.8139956593513489,-0.8587294816970825,-0.904231071472168,-0.9550895690917969,-0.5043583512306213,-0.16865408420562744,-0.003716672072187066],\"y\":[-0.009832190349698067,-0.3639451265335083,-0.8571429252624512,-0.1603652536869049,-0.44792822003364563,-0.0017097699455916882,-0.07372128963470459,-0.2608836889266968,-0.9655206799507141,-0.6788520216941833,-0.5758156180381775,-0.3964400887489319,-0.5090230107307434,-0.3129030168056488,-0.20971481502056122,-0.11539476364850998,-0.03850724175572395,-0.3611947298049927,-0.6277592182159424,-0.7119362950325012],\"type\":\"scatter\"}],                        {\"template\":{\"data\":{\"histogram2dcontour\":[{\"type\":\"histogram2dcontour\",\"colorbar\":{\"outlinewidth\":0,\"ticks\":\"\"},\"colorscale\":[[0.0,\"#0d0887\"],[0.1111111111111111,\"#46039f\"],[0.2222222222222222,\"#7201a8\"],[0.3333333333333333,\"#9c179e\"],[0.4444444444444444,\"#bd3786\"],[0.5555555555555556,\"#d8576b\"],[0.6666666666666666,\"#ed7953\"],[0.7777777777777778,\"#fb9f3a\"],[0.8888888888888888,\"#fdca26\"],[1.0,\"#f0f921\"]]}],\"choropleth\":[{\"type\":\"choropleth\",\"colorbar\":{\"outlinewidth\":0,\"ticks\":\"\"}}],\"histogram2d\":[{\"type\":\"histogram2d\",\"colorbar\":{\"outlinewidth\":0,\"ticks\":\"\"},\"colorscale\":[[0.0,\"#0d0887\"],[0.1111111111111111,\"#46039f\"],[0.2222222222222222,\"#7201a8\"],[0.3333333333333333,\"#9c179e\"],[0.4444444444444444,\"#bd3786\"],[0.5555555555555556,\"#d8576b\"],[0.6666666666666666,\"#ed7953\"],[0.7777777777777778,\"#fb9f3a\"],[0.8888888888888888,\"#fdca26\"],[1.0,\"#f0f921\"]]}],\"heatmap\":[{\"type\":\"heatmap\",\"colorbar\":{\"outlinewidth\":0,\"ticks\":\"\"},\"colorscale\":[[0.0,\"#0d0887\"],[0.1111111111111111,\"#46039f\"],[0.2222222222222222,\"#7201a8\"],[0.3333333333333333,\"#9c179e\"],[0.4444444444444444,\"#bd3786\"],[0.5555555555555556,\"#d8576b\"],[0.6666666666666666,\"#ed7953\"],[0.7777777777777778,\"#fb9f3a\"],[0.8888888888888888,\"#fdca26\"],[1.0,\"#f0f921\"]]}],\"heatmapgl\":[{\"type\":\"heatmapgl\",\"colorbar\":{\"outlinewidth\":0,\"ticks\":\"\"},\"colorscale\":[[0.0,\"#0d0887\"],[0.1111111111111111,\"#46039f\"],[0.2222222222222222,\"#7201a8\"],[0.3333333333333333,\"#9c179e\"],[0.4444444444444444,\"#bd3786\"],[0.5555555555555556,\"#d8576b\"],[0.6666666666666666,\"#ed7953\"],[0.7777777777777778,\"#fb9f3a\"],[0.8888888888888888,\"#fdca26\"],[1.0,\"#f0f921\"]]}],\"contourcarpet\":[{\"type\":\"contourcarpet\",\"colorbar\":{\"outlinewidth\":0,\"ticks\":\"\"}}],\"contour\":[{\"type\":\"contour\",\"colorbar\":{\"outlinewidth\":0,\"ticks\":\"\"},\"colorscale\":[[0.0,\"#0d0887\"],[0.1111111111111111,\"#46039f\"],[0.2222222222222222,\"#7201a8\"],[0.3333333333333333,\"#9c179e\"],[0.4444444444444444,\"#bd3786\"],[0.5555555555555556,\"#d8576b\"],[0.6666666666666666,\"#ed7953\"],[0.7777777777777778,\"#fb9f3a\"],[0.8888888888888888,\"#fdca26\"],[1.0,\"#f0f921\"]]}],\"surface\":[{\"type\":\"surface\",\"colorbar\":{\"outlinewidth\":0,\"ticks\":\"\"},\"colorscale\":[[0.0,\"#0d0887\"],[0.1111111111111111,\"#46039f\"],[0.2222222222222222,\"#7201a8\"],[0.3333333333333333,\"#9c179e\"],[0.4444444444444444,\"#bd3786\"],[0.5555555555555556,\"#d8576b\"],[0.6666666666666666,\"#ed7953\"],[0.7777777777777778,\"#fb9f3a\"],[0.8888888888888888,\"#fdca26\"],[1.0,\"#f0f921\"]]}],\"mesh3d\":[{\"type\":\"mesh3d\",\"colorbar\":{\"outlinewidth\":0,\"ticks\":\"\"}}],\"scatter\":[{\"fillpattern\":{\"fillmode\":\"overlay\",\"size\":10,\"solidity\":0.2},\"type\":\"scatter\"}],\"parcoords\":[{\"type\":\"parcoords\",\"line\":{\"colorbar\":{\"outlinewidth\":0,\"ticks\":\"\"}}}],\"scatterpolargl\":[{\"type\":\"scatterpolargl\",\"marker\":{\"colorbar\":{\"outlinewidth\":0,\"ticks\":\"\"}}}],\"bar\":[{\"error_x\":{\"color\":\"#2a3f5f\"},\"error_y\":{\"color\":\"#2a3f5f\"},\"marker\":{\"line\":{\"color\":\"#E5ECF6\",\"width\":0.5},\"pattern\":{\"fillmode\":\"overlay\",\"size\":10,\"solidity\":0.2}},\"type\":\"bar\"}],\"scattergeo\":[{\"type\":\"scattergeo\",\"marker\":{\"colorbar\":{\"outlinewidth\":0,\"ticks\":\"\"}}}],\"scatterpolar\":[{\"type\":\"scatterpolar\",\"marker\":{\"colorbar\":{\"outlinewidth\":0,\"ticks\":\"\"}}}],\"histogram\":[{\"marker\":{\"pattern\":{\"fillmode\":\"overlay\",\"size\":10,\"solidity\":0.2}},\"type\":\"histogram\"}],\"scattergl\":[{\"type\":\"scattergl\",\"marker\":{\"colorbar\":{\"outlinewidth\":0,\"ticks\":\"\"}}}],\"scatter3d\":[{\"type\":\"scatter3d\",\"line\":{\"colorbar\":{\"outlinewidth\":0,\"ticks\":\"\"}},\"marker\":{\"colorbar\":{\"outlinewidth\":0,\"ticks\":\"\"}}}],\"scattermapbox\":[{\"type\":\"scattermapbox\",\"marker\":{\"colorbar\":{\"outlinewidth\":0,\"ticks\":\"\"}}}],\"scatterternary\":[{\"type\":\"scatterternary\",\"marker\":{\"colorbar\":{\"outlinewidth\":0,\"ticks\":\"\"}}}],\"scattercarpet\":[{\"type\":\"scattercarpet\",\"marker\":{\"colorbar\":{\"outlinewidth\":0,\"ticks\":\"\"}}}],\"carpet\":[{\"aaxis\":{\"endlinecolor\":\"#2a3f5f\",\"gridcolor\":\"white\",\"linecolor\":\"white\",\"minorgridcolor\":\"white\",\"startlinecolor\":\"#2a3f5f\"},\"baxis\":{\"endlinecolor\":\"#2a3f5f\",\"gridcolor\":\"white\",\"linecolor\":\"white\",\"minorgridcolor\":\"white\",\"startlinecolor\":\"#2a3f5f\"},\"type\":\"carpet\"}],\"table\":[{\"cells\":{\"fill\":{\"color\":\"#EBF0F8\"},\"line\":{\"color\":\"white\"}},\"header\":{\"fill\":{\"color\":\"#C8D4E3\"},\"line\":{\"color\":\"white\"}},\"type\":\"table\"}],\"barpolar\":[{\"marker\":{\"line\":{\"color\":\"#E5ECF6\",\"width\":0.5},\"pattern\":{\"fillmode\":\"overlay\",\"size\":10,\"solidity\":0.2}},\"type\":\"barpolar\"}],\"pie\":[{\"automargin\":true,\"type\":\"pie\"}]},\"layout\":{\"autotypenumbers\":\"strict\",\"colorway\":[\"#636efa\",\"#EF553B\",\"#00cc96\",\"#ab63fa\",\"#FFA15A\",\"#19d3f3\",\"#FF6692\",\"#B6E880\",\"#FF97FF\",\"#FECB52\"],\"font\":{\"color\":\"#2a3f5f\"},\"hovermode\":\"closest\",\"hoverlabel\":{\"align\":\"left\"},\"paper_bgcolor\":\"white\",\"plot_bgcolor\":\"#E5ECF6\",\"polar\":{\"bgcolor\":\"#E5ECF6\",\"angularaxis\":{\"gridcolor\":\"white\",\"linecolor\":\"white\",\"ticks\":\"\"},\"radialaxis\":{\"gridcolor\":\"white\",\"linecolor\":\"white\",\"ticks\":\"\"}},\"ternary\":{\"bgcolor\":\"#E5ECF6\",\"aaxis\":{\"gridcolor\":\"white\",\"linecolor\":\"white\",\"ticks\":\"\"},\"baxis\":{\"gridcolor\":\"white\",\"linecolor\":\"white\",\"ticks\":\"\"},\"caxis\":{\"gridcolor\":\"white\",\"linecolor\":\"white\",\"ticks\":\"\"}},\"coloraxis\":{\"colorbar\":{\"outlinewidth\":0,\"ticks\":\"\"}},\"colorscale\":{\"sequential\":[[0.0,\"#0d0887\"],[0.1111111111111111,\"#46039f\"],[0.2222222222222222,\"#7201a8\"],[0.3333333333333333,\"#9c179e\"],[0.4444444444444444,\"#bd3786\"],[0.5555555555555556,\"#d8576b\"],[0.6666666666666666,\"#ed7953\"],[0.7777777777777778,\"#fb9f3a\"],[0.8888888888888888,\"#fdca26\"],[1.0,\"#f0f921\"]],\"sequentialminus\":[[0.0,\"#0d0887\"],[0.1111111111111111,\"#46039f\"],[0.2222222222222222,\"#7201a8\"],[0.3333333333333333,\"#9c179e\"],[0.4444444444444444,\"#bd3786\"],[0.5555555555555556,\"#d8576b\"],[0.6666666666666666,\"#ed7953\"],[0.7777777777777778,\"#fb9f3a\"],[0.8888888888888888,\"#fdca26\"],[1.0,\"#f0f921\"]],\"diverging\":[[0,\"#8e0152\"],[0.1,\"#c51b7d\"],[0.2,\"#de77ae\"],[0.3,\"#f1b6da\"],[0.4,\"#fde0ef\"],[0.5,\"#f7f7f7\"],[0.6,\"#e6f5d0\"],[0.7,\"#b8e186\"],[0.8,\"#7fbc41\"],[0.9,\"#4d9221\"],[1,\"#276419\"]]},\"xaxis\":{\"gridcolor\":\"white\",\"linecolor\":\"white\",\"ticks\":\"\",\"title\":{\"standoff\":15},\"zerolinecolor\":\"white\",\"automargin\":true,\"zerolinewidth\":2},\"yaxis\":{\"gridcolor\":\"white\",\"linecolor\":\"white\",\"ticks\":\"\",\"title\":{\"standoff\":15},\"zerolinecolor\":\"white\",\"automargin\":true,\"zerolinewidth\":2},\"scene\":{\"xaxis\":{\"backgroundcolor\":\"#E5ECF6\",\"gridcolor\":\"white\",\"linecolor\":\"white\",\"showbackground\":true,\"ticks\":\"\",\"zerolinecolor\":\"white\",\"gridwidth\":2},\"yaxis\":{\"backgroundcolor\":\"#E5ECF6\",\"gridcolor\":\"white\",\"linecolor\":\"white\",\"showbackground\":true,\"ticks\":\"\",\"zerolinecolor\":\"white\",\"gridwidth\":2},\"zaxis\":{\"backgroundcolor\":\"#E5ECF6\",\"gridcolor\":\"white\",\"linecolor\":\"white\",\"showbackground\":true,\"ticks\":\"\",\"zerolinecolor\":\"white\",\"gridwidth\":2}},\"shapedefaults\":{\"line\":{\"color\":\"#2a3f5f\"}},\"annotationdefaults\":{\"arrowcolor\":\"#2a3f5f\",\"arrowhead\":0,\"arrowwidth\":1},\"geo\":{\"bgcolor\":\"white\",\"landcolor\":\"#E5ECF6\",\"subunitcolor\":\"white\",\"showland\":true,\"showlakes\":true,\"lakecolor\":\"white\"},\"title\":{\"x\":0.05},\"mapbox\":{\"style\":\"light\"}}},\"width\":500,\"height\":500,\"xaxis\":{\"title\":{\"text\":\"f_0(x)\"}},\"yaxis\":{\"title\":{\"text\":\"f_1(x)\"}}},                        {\"responsive\": true}                    ).then(function(){\n",
       "                            \n",
       "var gd = document.getElementById('7395f573-b1d7-4207-8d81-4a7d9d1b0cc1');\n",
       "var x = new MutationObserver(function (mutations, observer) {{\n",
       "        var display = window.getComputedStyle(gd).display;\n",
       "        if (!display || display === 'none') {{\n",
       "            console.log([gd, 'removed!']);\n",
       "            Plotly.purge(gd);\n",
       "            observer.disconnect();\n",
       "        }}\n",
       "}});\n",
       "\n",
       "// Listen for the removal of the full notebook cells\n",
       "var notebookContainer = gd.closest('#notebook-container');\n",
       "if (notebookContainer) {{\n",
       "    x.observe(notebookContainer, {childList: true});\n",
       "}}\n",
       "\n",
       "// Listen for the clearing of the current output cell\n",
       "var outputEl = gd.closest('.output');\n",
       "if (outputEl) {{\n",
       "    x.observe(outputEl, {childList: true});\n",
       "}}\n",
       "\n",
       "                        })                };                });            </script>        </div>"
      ]
     },
     "metadata": {},
     "output_type": "display_data"
    }
   ],
   "source": [
    "fig = go.Figure(data=[\n",
    "    go.Scatter(\n",
    "        x=z[:,0], \n",
    "        y=z[:,1], \n",
    "        mode='markers',\n",
    "        name='Pareto points'),\n",
    "    go.Scatter(\n",
    "        x=ys[:,0], \n",
    "        y=ys[:,1], \n",
    "        mode='markers+text', name='Points queried',\n",
    "               text=2*list(range(1, 21)),\n",
    "               textposition=\"top right\")\n",
    "])\n",
    "fig.update_layout(\n",
    "    width=500, height=500,\n",
    "    xaxis_title=\"f_0(x)\",\n",
    "    yaxis_title=\"f_1(x)\",\n",
    ")\n",
    "fig.show()"
   ]
  },
  {
   "attachments": {
    "image.png": {
     "image/png": "[encoded data removed]"
    }
   },
   "cell_type": "markdown",
   "metadata": {},
   "source": [
    "![image.png](attachment:image.png)"
   ]
  },
  {
   "cell_type": "code",
   "execution_count": 14,
   "metadata": {},
   "outputs": [
    {
     "data": {
      "application/vnd.plotly.v1+json": {
       "config": {
        "plotlyServerURL": "https://plot.ly"
       },
       "data": [
        {
         "mode": "markers",
         "type": "scatter",
         "x": [
          0,
          -0.0013717421097680926,
          -0.0017808944685384631,
          -0.0022642503026872873,
          -0.0028279940597712994,
          -0.003478309605270624,
          -0.004221379291266203,
          -0.044187407940626144,
          -0.04808415099978447,
          -0.05220349133014679,
          -0.1622840017080307,
          -0.17146778106689453,
          -0.18099161982536316,
          -0.190861776471138,
          -0.20108440518379211,
          -0.4009249210357666,
          -0.41762804985046387,
          -0.43478864431381226,
          -0.4524131417274475,
          -0.47050756216049194,
          -0.489078164100647,
          -0.5081310272216797,
          -0.8025237321853638,
          -0.8289784789085388,
          -0.8560083508491516,
          -0.8836194276809692,
          -0.9118179678916931,
          -0.9406099915504456,
          -0.9700019955635071,
          -1
         ],
         "y": [
          -0.8571429252624512,
          -0.8289390802383423,
          -0.7880379557609558,
          -0.7532652020454407,
          -0.727753758430481,
          -0.7137871384620667,
          -0.7125914096832275,
          -0.6934241652488708,
          -0.680473804473877,
          -0.6803339123725891,
          -0.654126763343811,
          -0.6177447438240051,
          -0.5917747020721436,
          -0.5779584646224976,
          -0.5769084095954895,
          -0.5522395372390747,
          -0.4988825023174286,
          -0.45066237449645996,
          -0.4108511209487915,
          -0.38192570209503174,
          -0.36533957719802856,
          -0.3613910973072052,
          -0.33895620703697205,
          -0.2782130837440491,
          -0.21585652232170105,
          -0.155804842710495,
          -0.10172922164201736,
          -0.05671745166182518,
          -0.022992247715592384,
          -0.0017097699455916882
         ]
        }
       ],
       "layout": {
        "height": 500,
        "template": {
         "data": {
          "bar": [
           {
            "error_x": {
             "color": "#2a3f5f"
            },
            "error_y": {
             "color": "#2a3f5f"
            },
            "marker": {
             "line": {
              "color": "#E5ECF6",
              "width": 0.5
             },
             "pattern": {
              "fillmode": "overlay",
              "size": 10,
              "solidity": 0.2
             }
            },
            "type": "bar"
           }
          ],
          "barpolar": [
           {
            "marker": {
             "line": {
              "color": "#E5ECF6",
              "width": 0.5
             },
             "pattern": {
              "fillmode": "overlay",
              "size": 10,
              "solidity": 0.2
             }
            },
            "type": "barpolar"
           }
          ],
          "carpet": [
           {
            "aaxis": {
             "endlinecolor": "#2a3f5f",
             "gridcolor": "white",
             "linecolor": "white",
             "minorgridcolor": "white",
             "startlinecolor": "#2a3f5f"
            },
            "baxis": {
             "endlinecolor": "#2a3f5f",
             "gridcolor": "white",
             "linecolor": "white",
             "minorgridcolor": "white",
             "startlinecolor": "#2a3f5f"
            },
            "type": "carpet"
           }
          ],
          "choropleth": [
           {
            "colorbar": {
             "outlinewidth": 0,
             "ticks": ""
            },
            "type": "choropleth"
           }
          ],
          "contour": [
           {
            "colorbar": {
             "outlinewidth": 0,
             "ticks": ""
            },
            "colorscale": [
             [
              0,
              "#0d0887"
             ],
             [
              0.1111111111111111,
              "#46039f"
             ],
             [
              0.2222222222222222,
              "#7201a8"
             ],
             [
              0.3333333333333333,
              "#9c179e"
             ],
             [
              0.4444444444444444,
              "#bd3786"
             ],
             [
              0.5555555555555556,
              "#d8576b"
             ],
             [
              0.6666666666666666,
              "#ed7953"
             ],
             [
              0.7777777777777778,
              "#fb9f3a"
             ],
             [
              0.8888888888888888,
              "#fdca26"
             ],
             [
              1,
              "#f0f921"
             ]
            ],
            "type": "contour"
           }
          ],
          "contourcarpet": [
           {
            "colorbar": {
             "outlinewidth": 0,
             "ticks": ""
            },
            "type": "contourcarpet"
           }
          ],
          "heatmap": [
           {
            "colorbar": {
             "outlinewidth": 0,
             "ticks": ""
            },
            "colorscale": [
             [
              0,
              "#0d0887"
             ],
             [
              0.1111111111111111,
              "#46039f"
             ],
             [
              0.2222222222222222,
              "#7201a8"
             ],
             [
              0.3333333333333333,
              "#9c179e"
             ],
             [
              0.4444444444444444,
              "#bd3786"
             ],
             [
              0.5555555555555556,
              "#d8576b"
             ],
             [
              0.6666666666666666,
              "#ed7953"
             ],
             [
              0.7777777777777778,
              "#fb9f3a"
             ],
             [
              0.8888888888888888,
              "#fdca26"
             ],
             [
              1,
              "#f0f921"
             ]
            ],
            "type": "heatmap"
           }
          ],
          "heatmapgl": [
           {
            "colorbar": {
             "outlinewidth": 0,
             "ticks": ""
            },
            "colorscale": [
             [
              0,
              "#0d0887"
             ],
             [
              0.1111111111111111,
              "#46039f"
             ],
             [
              0.2222222222222222,
              "#7201a8"
             ],
             [
              0.3333333333333333,
              "#9c179e"
             ],
             [
              0.4444444444444444,
              "#bd3786"
             ],
             [
              0.5555555555555556,
              "#d8576b"
             ],
             [
              0.6666666666666666,
              "#ed7953"
             ],
             [
              0.7777777777777778,
              "#fb9f3a"
             ],
             [
              0.8888888888888888,
              "#fdca26"
             ],
             [
              1,
              "#f0f921"
             ]
            ],
            "type": "heatmapgl"
           }
          ],
          "histogram": [
           {
            "marker": {
             "pattern": {
              "fillmode": "overlay",
              "size": 10,
              "solidity": 0.2
             }
            },
            "type": "histogram"
           }
          ],
          "histogram2d": [
           {
            "colorbar": {
             "outlinewidth": 0,
             "ticks": ""
            },
            "colorscale": [
             [
              0,
              "#0d0887"
             ],
             [
              0.1111111111111111,
              "#46039f"
             ],
             [
              0.2222222222222222,
              "#7201a8"
             ],
             [
              0.3333333333333333,
              "#9c179e"
             ],
             [
              0.4444444444444444,
              "#bd3786"
             ],
             [
              0.5555555555555556,
              "#d8576b"
             ],
             [
              0.6666666666666666,
              "#ed7953"
             ],
             [
              0.7777777777777778,
              "#fb9f3a"
             ],
             [
              0.8888888888888888,
              "#fdca26"
             ],
             [
              1,
              "#f0f921"
             ]
            ],
            "type": "histogram2d"
           }
          ],
          "histogram2dcontour": [
           {
            "colorbar": {
             "outlinewidth": 0,
             "ticks": ""
            },
            "colorscale": [
             [
              0,
              "#0d0887"
             ],
             [
              0.1111111111111111,
              "#46039f"
             ],
             [
              0.2222222222222222,
              "#7201a8"
             ],
             [
              0.3333333333333333,
              "#9c179e"
             ],
             [
              0.4444444444444444,
              "#bd3786"
             ],
             [
              0.5555555555555556,
              "#d8576b"
             ],
             [
              0.6666666666666666,
              "#ed7953"
             ],
             [
              0.7777777777777778,
              "#fb9f3a"
             ],
             [
              0.8888888888888888,
              "#fdca26"
             ],
             [
              1,
              "#f0f921"
             ]
            ],
            "type": "histogram2dcontour"
           }
          ],
          "mesh3d": [
           {
            "colorbar": {
             "outlinewidth": 0,
             "ticks": ""
            },
            "type": "mesh3d"
           }
          ],
          "parcoords": [
           {
            "line": {
             "colorbar": {
              "outlinewidth": 0,
              "ticks": ""
             }
            },
            "type": "parcoords"
           }
          ],
          "pie": [
           {
            "automargin": true,
            "type": "pie"
           }
          ],
          "scatter": [
           {
            "fillpattern": {
             "fillmode": "overlay",
             "size": 10,
             "solidity": 0.2
            },
            "type": "scatter"
           }
          ],
          "scatter3d": [
           {
            "line": {
             "colorbar": {
              "outlinewidth": 0,
              "ticks": ""
             }
            },
            "marker": {
             "colorbar": {
              "outlinewidth": 0,
              "ticks": ""
             }
            },
            "type": "scatter3d"
           }
          ],
          "scattercarpet": [
           {
            "marker": {
             "colorbar": {
              "outlinewidth": 0,
              "ticks": ""
             }
            },
            "type": "scattercarpet"
           }
          ],
          "scattergeo": [
           {
            "marker": {
             "colorbar": {
              "outlinewidth": 0,
              "ticks": ""
             }
            },
            "type": "scattergeo"
           }
          ],
          "scattergl": [
           {
            "marker": {
             "colorbar": {
              "outlinewidth": 0,
              "ticks": ""
             }
            },
            "type": "scattergl"
           }
          ],
          "scattermapbox": [
           {
            "marker": {
             "colorbar": {
              "outlinewidth": 0,
              "ticks": ""
             }
            },
            "type": "scattermapbox"
           }
          ],
          "scatterpolar": [
           {
            "marker": {
             "colorbar": {
              "outlinewidth": 0,
              "ticks": ""
             }
            },
            "type": "scatterpolar"
           }
          ],
          "scatterpolargl": [
           {
            "marker": {
             "colorbar": {
              "outlinewidth": 0,
              "ticks": ""
             }
            },
            "type": "scatterpolargl"
           }
          ],
          "scatterternary": [
           {
            "marker": {
             "colorbar": {
              "outlinewidth": 0,
              "ticks": ""
             }
            },
            "type": "scatterternary"
           }
          ],
          "surface": [
           {
            "colorbar": {
             "outlinewidth": 0,
             "ticks": ""
            },
            "colorscale": [
             [
              0,
              "#0d0887"
             ],
             [
              0.1111111111111111,
              "#46039f"
             ],
             [
              0.2222222222222222,
              "#7201a8"
             ],
             [
              0.3333333333333333,
              "#9c179e"
             ],
             [
              0.4444444444444444,
              "#bd3786"
             ],
             [
              0.5555555555555556,
              "#d8576b"
             ],
             [
              0.6666666666666666,
              "#ed7953"
             ],
             [
              0.7777777777777778,
              "#fb9f3a"
             ],
             [
              0.8888888888888888,
              "#fdca26"
             ],
             [
              1,
              "#f0f921"
             ]
            ],
            "type": "surface"
           }
          ],
          "table": [
           {
            "cells": {
             "fill": {
              "color": "#EBF0F8"
             },
             "line": {
              "color": "white"
             }
            },
            "header": {
             "fill": {
              "color": "#C8D4E3"
             },
             "line": {
              "color": "white"
             }
            },
            "type": "table"
           }
          ]
         },
         "layout": {
          "annotationdefaults": {
           "arrowcolor": "#2a3f5f",
           "arrowhead": 0,
           "arrowwidth": 1
          },
          "autotypenumbers": "strict",
          "coloraxis": {
           "colorbar": {
            "outlinewidth": 0,
            "ticks": ""
           }
          },
          "colorscale": {
           "diverging": [
            [
             0,
             "#8e0152"
            ],
            [
             0.1,
             "#c51b7d"
            ],
            [
             0.2,
             "#de77ae"
            ],
            [
             0.3,
             "#f1b6da"
            ],
            [
             0.4,
             "#fde0ef"
            ],
            [
             0.5,
             "#f7f7f7"
            ],
            [
             0.6,
             "#e6f5d0"
            ],
            [
             0.7,
             "#b8e186"
            ],
            [
             0.8,
             "#7fbc41"
            ],
            [
             0.9,
             "#4d9221"
            ],
            [
             1,
             "#276419"
            ]
           ],
           "sequential": [
            [
             0,
             "#0d0887"
            ],
            [
             0.1111111111111111,
             "#46039f"
            ],
            [
             0.2222222222222222,
             "#7201a8"
            ],
            [
             0.3333333333333333,
             "#9c179e"
            ],
            [
             0.4444444444444444,
             "#bd3786"
            ],
            [
             0.5555555555555556,
             "#d8576b"
            ],
            [
             0.6666666666666666,
             "#ed7953"
            ],
            [
             0.7777777777777778,
             "#fb9f3a"
            ],
            [
             0.8888888888888888,
             "#fdca26"
            ],
            [
             1,
             "#f0f921"
            ]
           ],
           "sequentialminus": [
            [
             0,
             "#0d0887"
            ],
            [
             0.1111111111111111,
             "#46039f"
            ],
            [
             0.2222222222222222,
             "#7201a8"
            ],
            [
             0.3333333333333333,
             "#9c179e"
            ],
            [
             0.4444444444444444,
             "#bd3786"
            ],
            [
             0.5555555555555556,
             "#d8576b"
            ],
            [
             0.6666666666666666,
             "#ed7953"
            ],
            [
             0.7777777777777778,
             "#fb9f3a"
            ],
            [
             0.8888888888888888,
             "#fdca26"
            ],
            [
             1,
             "#f0f921"
            ]
           ]
          },
          "colorway": [
           "#636efa",
           "#EF553B",
           "#00cc96",
           "#ab63fa",
           "#FFA15A",
           "#19d3f3",
           "#FF6692",
           "#B6E880",
           "#FF97FF",
           "#FECB52"
          ],
          "font": {
           "color": "#2a3f5f"
          },
          "geo": {
           "bgcolor": "white",
           "lakecolor": "white",
           "landcolor": "#E5ECF6",
           "showlakes": true,
           "showland": true,
           "subunitcolor": "white"
          },
          "hoverlabel": {
           "align": "left"
          },
          "hovermode": "closest",
          "mapbox": {
           "style": "light"
          },
          "paper_bgcolor": "white",
          "plot_bgcolor": "#E5ECF6",
          "polar": {
           "angularaxis": {
            "gridcolor": "white",
            "linecolor": "white",
            "ticks": ""
           },
           "bgcolor": "#E5ECF6",
           "radialaxis": {
            "gridcolor": "white",
            "linecolor": "white",
            "ticks": ""
           }
          },
          "scene": {
           "xaxis": {
            "backgroundcolor": "#E5ECF6",
            "gridcolor": "white",
            "gridwidth": 2,
            "linecolor": "white",
            "showbackground": true,
            "ticks": "",
            "zerolinecolor": "white"
           },
           "yaxis": {
            "backgroundcolor": "#E5ECF6",
            "gridcolor": "white",
            "gridwidth": 2,
            "linecolor": "white",
            "showbackground": true,
            "ticks": "",
            "zerolinecolor": "white"
           },
           "zaxis": {
            "backgroundcolor": "#E5ECF6",
            "gridcolor": "white",
            "gridwidth": 2,
            "linecolor": "white",
            "showbackground": true,
            "ticks": "",
            "zerolinecolor": "white"
           }
          },
          "shapedefaults": {
           "line": {
            "color": "#2a3f5f"
           }
          },
          "ternary": {
           "aaxis": {
            "gridcolor": "white",
            "linecolor": "white",
            "ticks": ""
           },
           "baxis": {
            "gridcolor": "white",
            "linecolor": "white",
            "ticks": ""
           },
           "bgcolor": "#E5ECF6",
           "caxis": {
            "gridcolor": "white",
            "linecolor": "white",
            "ticks": ""
           }
          },
          "title": {
           "x": 0.05
          },
          "xaxis": {
           "automargin": true,
           "gridcolor": "white",
           "linecolor": "white",
           "ticks": "",
           "title": {
            "standoff": 15
           },
           "zerolinecolor": "white",
           "zerolinewidth": 2
          },
          "yaxis": {
           "automargin": true,
           "gridcolor": "white",
           "linecolor": "white",
           "ticks": "",
           "title": {
            "standoff": 15
           },
           "zerolinecolor": "white",
           "zerolinewidth": 2
          }
         }
        },
        "width": 500
       }
      },
      "text/html": [
       "<div>                            <div id=\"1e1a23ac-858c-4c05-a1d8-c87c42952b80\" class=\"plotly-graph-div\" style=\"height:500px; width:500px;\"></div>            <script type=\"text/javascript\">                require([\"plotly\"], function(Plotly) {                    window.PLOTLYENV=window.PLOTLYENV || {};                                    if (document.getElementById(\"1e1a23ac-858c-4c05-a1d8-c87c42952b80\")) {                    Plotly.newPlot(                        \"1e1a23ac-858c-4c05-a1d8-c87c42952b80\",                        [{\"mode\":\"markers\",\"x\":[-0.0,-0.0013717421097680926,-0.0017808944685384631,-0.0022642503026872873,-0.0028279940597712994,-0.003478309605270624,-0.004221379291266203,-0.044187407940626144,-0.04808415099978447,-0.05220349133014679,-0.1622840017080307,-0.17146778106689453,-0.18099161982536316,-0.190861776471138,-0.20108440518379211,-0.4009249210357666,-0.41762804985046387,-0.43478864431381226,-0.4524131417274475,-0.47050756216049194,-0.489078164100647,-0.5081310272216797,-0.8025237321853638,-0.8289784789085388,-0.8560083508491516,-0.8836194276809692,-0.9118179678916931,-0.9406099915504456,-0.9700019955635071,-1.0],\"y\":[-0.8571429252624512,-0.8289390802383423,-0.7880379557609558,-0.7532652020454407,-0.727753758430481,-0.7137871384620667,-0.7125914096832275,-0.6934241652488708,-0.680473804473877,-0.6803339123725891,-0.654126763343811,-0.6177447438240051,-0.5917747020721436,-0.5779584646224976,-0.5769084095954895,-0.5522395372390747,-0.4988825023174286,-0.45066237449645996,-0.4108511209487915,-0.38192570209503174,-0.36533957719802856,-0.3613910973072052,-0.33895620703697205,-0.2782130837440491,-0.21585652232170105,-0.155804842710495,-0.10172922164201736,-0.05671745166182518,-0.022992247715592384,-0.0017097699455916882],\"type\":\"scatter\"}],                        {\"template\":{\"data\":{\"histogram2dcontour\":[{\"type\":\"histogram2dcontour\",\"colorbar\":{\"outlinewidth\":0,\"ticks\":\"\"},\"colorscale\":[[0.0,\"#0d0887\"],[0.1111111111111111,\"#46039f\"],[0.2222222222222222,\"#7201a8\"],[0.3333333333333333,\"#9c179e\"],[0.4444444444444444,\"#bd3786\"],[0.5555555555555556,\"#d8576b\"],[0.6666666666666666,\"#ed7953\"],[0.7777777777777778,\"#fb9f3a\"],[0.8888888888888888,\"#fdca26\"],[1.0,\"#f0f921\"]]}],\"choropleth\":[{\"type\":\"choropleth\",\"colorbar\":{\"outlinewidth\":0,\"ticks\":\"\"}}],\"histogram2d\":[{\"type\":\"histogram2d\",\"colorbar\":{\"outlinewidth\":0,\"ticks\":\"\"},\"colorscale\":[[0.0,\"#0d0887\"],[0.1111111111111111,\"#46039f\"],[0.2222222222222222,\"#7201a8\"],[0.3333333333333333,\"#9c179e\"],[0.4444444444444444,\"#bd3786\"],[0.5555555555555556,\"#d8576b\"],[0.6666666666666666,\"#ed7953\"],[0.7777777777777778,\"#fb9f3a\"],[0.8888888888888888,\"#fdca26\"],[1.0,\"#f0f921\"]]}],\"heatmap\":[{\"type\":\"heatmap\",\"colorbar\":{\"outlinewidth\":0,\"ticks\":\"\"},\"colorscale\":[[0.0,\"#0d0887\"],[0.1111111111111111,\"#46039f\"],[0.2222222222222222,\"#7201a8\"],[0.3333333333333333,\"#9c179e\"],[0.4444444444444444,\"#bd3786\"],[0.5555555555555556,\"#d8576b\"],[0.6666666666666666,\"#ed7953\"],[0.7777777777777778,\"#fb9f3a\"],[0.8888888888888888,\"#fdca26\"],[1.0,\"#f0f921\"]]}],\"heatmapgl\":[{\"type\":\"heatmapgl\",\"colorbar\":{\"outlinewidth\":0,\"ticks\":\"\"},\"colorscale\":[[0.0,\"#0d0887\"],[0.1111111111111111,\"#46039f\"],[0.2222222222222222,\"#7201a8\"],[0.3333333333333333,\"#9c179e\"],[0.4444444444444444,\"#bd3786\"],[0.5555555555555556,\"#d8576b\"],[0.6666666666666666,\"#ed7953\"],[0.7777777777777778,\"#fb9f3a\"],[0.8888888888888888,\"#fdca26\"],[1.0,\"#f0f921\"]]}],\"contourcarpet\":[{\"type\":\"contourcarpet\",\"colorbar\":{\"outlinewidth\":0,\"ticks\":\"\"}}],\"contour\":[{\"type\":\"contour\",\"colorbar\":{\"outlinewidth\":0,\"ticks\":\"\"},\"colorscale\":[[0.0,\"#0d0887\"],[0.1111111111111111,\"#46039f\"],[0.2222222222222222,\"#7201a8\"],[0.3333333333333333,\"#9c179e\"],[0.4444444444444444,\"#bd3786\"],[0.5555555555555556,\"#d8576b\"],[0.6666666666666666,\"#ed7953\"],[0.7777777777777778,\"#fb9f3a\"],[0.8888888888888888,\"#fdca26\"],[1.0,\"#f0f921\"]]}],\"surface\":[{\"type\":\"surface\",\"colorbar\":{\"outlinewidth\":0,\"ticks\":\"\"},\"colorscale\":[[0.0,\"#0d0887\"],[0.1111111111111111,\"#46039f\"],[0.2222222222222222,\"#7201a8\"],[0.3333333333333333,\"#9c179e\"],[0.4444444444444444,\"#bd3786\"],[0.5555555555555556,\"#d8576b\"],[0.6666666666666666,\"#ed7953\"],[0.7777777777777778,\"#fb9f3a\"],[0.8888888888888888,\"#fdca26\"],[1.0,\"#f0f921\"]]}],\"mesh3d\":[{\"type\":\"mesh3d\",\"colorbar\":{\"outlinewidth\":0,\"ticks\":\"\"}}],\"scatter\":[{\"fillpattern\":{\"fillmode\":\"overlay\",\"size\":10,\"solidity\":0.2},\"type\":\"scatter\"}],\"parcoords\":[{\"type\":\"parcoords\",\"line\":{\"colorbar\":{\"outlinewidth\":0,\"ticks\":\"\"}}}],\"scatterpolargl\":[{\"type\":\"scatterpolargl\",\"marker\":{\"colorbar\":{\"outlinewidth\":0,\"ticks\":\"\"}}}],\"bar\":[{\"error_x\":{\"color\":\"#2a3f5f\"},\"error_y\":{\"color\":\"#2a3f5f\"},\"marker\":{\"line\":{\"color\":\"#E5ECF6\",\"width\":0.5},\"pattern\":{\"fillmode\":\"overlay\",\"size\":10,\"solidity\":0.2}},\"type\":\"bar\"}],\"scattergeo\":[{\"type\":\"scattergeo\",\"marker\":{\"colorbar\":{\"outlinewidth\":0,\"ticks\":\"\"}}}],\"scatterpolar\":[{\"type\":\"scatterpolar\",\"marker\":{\"colorbar\":{\"outlinewidth\":0,\"ticks\":\"\"}}}],\"histogram\":[{\"marker\":{\"pattern\":{\"fillmode\":\"overlay\",\"size\":10,\"solidity\":0.2}},\"type\":\"histogram\"}],\"scattergl\":[{\"type\":\"scattergl\",\"marker\":{\"colorbar\":{\"outlinewidth\":0,\"ticks\":\"\"}}}],\"scatter3d\":[{\"type\":\"scatter3d\",\"line\":{\"colorbar\":{\"outlinewidth\":0,\"ticks\":\"\"}},\"marker\":{\"colorbar\":{\"outlinewidth\":0,\"ticks\":\"\"}}}],\"scattermapbox\":[{\"type\":\"scattermapbox\",\"marker\":{\"colorbar\":{\"outlinewidth\":0,\"ticks\":\"\"}}}],\"scatterternary\":[{\"type\":\"scatterternary\",\"marker\":{\"colorbar\":{\"outlinewidth\":0,\"ticks\":\"\"}}}],\"scattercarpet\":[{\"type\":\"scattercarpet\",\"marker\":{\"colorbar\":{\"outlinewidth\":0,\"ticks\":\"\"}}}],\"carpet\":[{\"aaxis\":{\"endlinecolor\":\"#2a3f5f\",\"gridcolor\":\"white\",\"linecolor\":\"white\",\"minorgridcolor\":\"white\",\"startlinecolor\":\"#2a3f5f\"},\"baxis\":{\"endlinecolor\":\"#2a3f5f\",\"gridcolor\":\"white\",\"linecolor\":\"white\",\"minorgridcolor\":\"white\",\"startlinecolor\":\"#2a3f5f\"},\"type\":\"carpet\"}],\"table\":[{\"cells\":{\"fill\":{\"color\":\"#EBF0F8\"},\"line\":{\"color\":\"white\"}},\"header\":{\"fill\":{\"color\":\"#C8D4E3\"},\"line\":{\"color\":\"white\"}},\"type\":\"table\"}],\"barpolar\":[{\"marker\":{\"line\":{\"color\":\"#E5ECF6\",\"width\":0.5},\"pattern\":{\"fillmode\":\"overlay\",\"size\":10,\"solidity\":0.2}},\"type\":\"barpolar\"}],\"pie\":[{\"automargin\":true,\"type\":\"pie\"}]},\"layout\":{\"autotypenumbers\":\"strict\",\"colorway\":[\"#636efa\",\"#EF553B\",\"#00cc96\",\"#ab63fa\",\"#FFA15A\",\"#19d3f3\",\"#FF6692\",\"#B6E880\",\"#FF97FF\",\"#FECB52\"],\"font\":{\"color\":\"#2a3f5f\"},\"hovermode\":\"closest\",\"hoverlabel\":{\"align\":\"left\"},\"paper_bgcolor\":\"white\",\"plot_bgcolor\":\"#E5ECF6\",\"polar\":{\"bgcolor\":\"#E5ECF6\",\"angularaxis\":{\"gridcolor\":\"white\",\"linecolor\":\"white\",\"ticks\":\"\"},\"radialaxis\":{\"gridcolor\":\"white\",\"linecolor\":\"white\",\"ticks\":\"\"}},\"ternary\":{\"bgcolor\":\"#E5ECF6\",\"aaxis\":{\"gridcolor\":\"white\",\"linecolor\":\"white\",\"ticks\":\"\"},\"baxis\":{\"gridcolor\":\"white\",\"linecolor\":\"white\",\"ticks\":\"\"},\"caxis\":{\"gridcolor\":\"white\",\"linecolor\":\"white\",\"ticks\":\"\"}},\"coloraxis\":{\"colorbar\":{\"outlinewidth\":0,\"ticks\":\"\"}},\"colorscale\":{\"sequential\":[[0.0,\"#0d0887\"],[0.1111111111111111,\"#46039f\"],[0.2222222222222222,\"#7201a8\"],[0.3333333333333333,\"#9c179e\"],[0.4444444444444444,\"#bd3786\"],[0.5555555555555556,\"#d8576b\"],[0.6666666666666666,\"#ed7953\"],[0.7777777777777778,\"#fb9f3a\"],[0.8888888888888888,\"#fdca26\"],[1.0,\"#f0f921\"]],\"sequentialminus\":[[0.0,\"#0d0887\"],[0.1111111111111111,\"#46039f\"],[0.2222222222222222,\"#7201a8\"],[0.3333333333333333,\"#9c179e\"],[0.4444444444444444,\"#bd3786\"],[0.5555555555555556,\"#d8576b\"],[0.6666666666666666,\"#ed7953\"],[0.7777777777777778,\"#fb9f3a\"],[0.8888888888888888,\"#fdca26\"],[1.0,\"#f0f921\"]],\"diverging\":[[0,\"#8e0152\"],[0.1,\"#c51b7d\"],[0.2,\"#de77ae\"],[0.3,\"#f1b6da\"],[0.4,\"#fde0ef\"],[0.5,\"#f7f7f7\"],[0.6,\"#e6f5d0\"],[0.7,\"#b8e186\"],[0.8,\"#7fbc41\"],[0.9,\"#4d9221\"],[1,\"#276419\"]]},\"xaxis\":{\"gridcolor\":\"white\",\"linecolor\":\"white\",\"ticks\":\"\",\"title\":{\"standoff\":15},\"zerolinecolor\":\"white\",\"automargin\":true,\"zerolinewidth\":2},\"yaxis\":{\"gridcolor\":\"white\",\"linecolor\":\"white\",\"ticks\":\"\",\"title\":{\"standoff\":15},\"zerolinecolor\":\"white\",\"automargin\":true,\"zerolinewidth\":2},\"scene\":{\"xaxis\":{\"backgroundcolor\":\"#E5ECF6\",\"gridcolor\":\"white\",\"linecolor\":\"white\",\"showbackground\":true,\"ticks\":\"\",\"zerolinecolor\":\"white\",\"gridwidth\":2},\"yaxis\":{\"backgroundcolor\":\"#E5ECF6\",\"gridcolor\":\"white\",\"linecolor\":\"white\",\"showbackground\":true,\"ticks\":\"\",\"zerolinecolor\":\"white\",\"gridwidth\":2},\"zaxis\":{\"backgroundcolor\":\"#E5ECF6\",\"gridcolor\":\"white\",\"linecolor\":\"white\",\"showbackground\":true,\"ticks\":\"\",\"zerolinecolor\":\"white\",\"gridwidth\":2}},\"shapedefaults\":{\"line\":{\"color\":\"#2a3f5f\"}},\"annotationdefaults\":{\"arrowcolor\":\"#2a3f5f\",\"arrowhead\":0,\"arrowwidth\":1},\"geo\":{\"bgcolor\":\"white\",\"landcolor\":\"#E5ECF6\",\"subunitcolor\":\"white\",\"showland\":true,\"showlakes\":true,\"lakecolor\":\"white\"},\"title\":{\"x\":0.05},\"mapbox\":{\"style\":\"light\"}}},\"width\":500,\"height\":500},                        {\"responsive\": true}                    ).then(function(){\n",
       "                            \n",
       "var gd = document.getElementById('1e1a23ac-858c-4c05-a1d8-c87c42952b80');\n",
       "var x = new MutationObserver(function (mutations, observer) {{\n",
       "        var display = window.getComputedStyle(gd).display;\n",
       "        if (!display || display === 'none') {{\n",
       "            console.log([gd, 'removed!']);\n",
       "            Plotly.purge(gd);\n",
       "            observer.disconnect();\n",
       "        }}\n",
       "}});\n",
       "\n",
       "// Listen for the removal of the full notebook cells\n",
       "var notebookContainer = gd.closest('#notebook-container');\n",
       "if (notebookContainer) {{\n",
       "    x.observe(notebookContainer, {childList: true});\n",
       "}}\n",
       "\n",
       "// Listen for the clearing of the current output cell\n",
       "var outputEl = gd.closest('.output');\n",
       "if (outputEl) {{\n",
       "    x.observe(outputEl, {childList: true});\n",
       "}}\n",
       "\n",
       "                        })                };                });            </script>        </div>"
      ]
     },
     "metadata": {},
     "output_type": "display_data"
    }
   ],
   "source": [
    "fig = go.Figure(data=[\n",
    "    go.Scatter(\n",
    "        x=z[a, 0], \n",
    "        y=z[a, 1], \n",
    "        mode='markers')\n",
    "])\n",
    "fig.update_layout(width=500, height=500,)\n",
    "fig.show()"
   ]
  },
  {
   "cell_type": "code",
   "execution_count": 15,
   "metadata": {},
   "outputs": [
    {
     "data": {
      "text/plain": [
       "tensor([-2., -2.], dtype=torch.float64)"
      ]
     },
     "execution_count": 15,
     "metadata": {},
     "output_type": "execute_result"
    }
   ],
   "source": [
    "problem.ref_point"
   ]
  },
  {
   "cell_type": "code",
   "execution_count": 16,
   "metadata": {},
   "outputs": [
    {
     "ename": "NameError",
     "evalue": "name 'DominatedPartitioning' is not defined",
     "output_type": "error",
     "traceback": [
      "\u001b[0;31m---------------------------------------------------------------------------\u001b[0m",
      "\u001b[0;31mNameError\u001b[0m                                 Traceback (most recent call last)",
      "\u001b[0;32m/var/folders/9y/5_ksvdjj6sg9f39m2rsdqz_17rn_b7/T/ipykernel_2309/2531305472.py\u001b[0m in \u001b[0;36m<module>\u001b[0;34m\u001b[0m\n\u001b[0;32m----> 1\u001b[0;31m \u001b[0mbd\u001b[0m \u001b[0;34m=\u001b[0m \u001b[0mDominatedPartitioning\u001b[0m\u001b[0;34m(\u001b[0m\u001b[0mref_point\u001b[0m\u001b[0;34m=\u001b[0m\u001b[0mproblem\u001b[0m\u001b[0;34m.\u001b[0m\u001b[0mref_point\u001b[0m\u001b[0;34m,\u001b[0m \u001b[0mY\u001b[0m\u001b[0;34m=\u001b[0m\u001b[0mz\u001b[0m\u001b[0;34m)\u001b[0m\u001b[0;34m\u001b[0m\u001b[0;34m\u001b[0m\u001b[0m\n\u001b[0m\u001b[1;32m      2\u001b[0m \u001b[0mbd\u001b[0m\u001b[0;34m.\u001b[0m\u001b[0mcompute_hypervolume\u001b[0m\u001b[0;34m(\u001b[0m\u001b[0;34m)\u001b[0m\u001b[0;34m.\u001b[0m\u001b[0mitem\u001b[0m\u001b[0;34m(\u001b[0m\u001b[0;34m)\u001b[0m\u001b[0;34m\u001b[0m\u001b[0;34m\u001b[0m\u001b[0m\n",
      "\u001b[0;31mNameError\u001b[0m: name 'DominatedPartitioning' is not defined"
     ]
    }
   ],
   "source": [
    "bd = DominatedPartitioning(ref_point=problem.ref_point, Y=z)\n",
    "bd.compute_hypervolume().item()"
   ]
  },
  {
   "cell_type": "markdown",
   "metadata": {},
   "source": [
    "## 2d input example"
   ]
  },
  {
   "cell_type": "code",
   "execution_count": 773,
   "metadata": {},
   "outputs": [],
   "source": [
    "# from typing import Dict, Optional, List, Union, Iterable, Sequence, Sized\n",
    "\n",
    "# from botorch.test_functions import Branin\n",
    "# from botorch.test_functions.base import MultiObjectiveTestProblem\n",
    "\n",
    "# from torch import Tensor\n",
    "# from torch.nn import Module\n",
    "\n",
    "# class BraninDeterministicallyTransformed(MultiObjectiveTestProblem):\n",
    "#     r\"\"\"Two objective problem composed of the Branin and Currin functions.\n",
    "#     \"\"\"\n",
    "\n",
    "#     dim = 2\n",
    "#     num_objectives = 2\n",
    "#     _bounds = [(0.0, 1.0), (0.0, 1.0)]\n",
    "#     _ref_point = [18.0, 6.0]\n",
    "#     # _max_hv = 59.36011874867746  # this is approximated using NSGA-II\n",
    "\n",
    "#     def __init__(self, noise_std: Optional[float] = None, negate: bool = False) -> None:\n",
    "#         r\"\"\"Constructor for Branin-Currin.\n",
    "\n",
    "#         Args:\n",
    "#             noise_std: Standard deviation of the observation noise.\n",
    "#             negate: If True, negate the objectives.\n",
    "#         \"\"\"\n",
    "#         super().__init__(noise_std=noise_std, negate=negate)\n",
    "#         self._branin = Branin()\n",
    "\n",
    "#     def _rescaled_branin(self, X: Tensor) -> Tensor:\n",
    "#         # return to Branin bounds\n",
    "# #         x_0 = 15 * X[..., 0] - 5\n",
    "# #         x_1 = 15 * X[..., 1]\n",
    "# #         y_0 = self._branin(torch.stack([x_0, x_1], dim=-1))\n",
    "# # #         y_1 = y_0 * (np.sin(8. * np.pi * X[..., 1]) + 1.1)/2. * (np.cos(8. * np.pi * X[..., 0]) + 1.1)/2. \n",
    "# #         y_1 = y_0 * (X[..., 1]+1.) \n",
    "# #     (np.sin(2. * np.pi * X[..., 1]) + 1.2) * (np.cos(2. * np.pi * X[..., 0]) + 1.2)\n",
    "# #         y_1 = -y_0 * (np.sin(4. * np.pi * X[..., 1]) + 1.1)/2. * (np.cos(4. * np.pi * X[..., 0]) + 1.1)/2. \n",
    "# #         y_1 = -y_0\n",
    "#         y_0 = X[..., 0] * X[..., 0] * X[..., 0]\n",
    "# #         y_1 = y_0 * (np.sin(8. * np.pi * X[..., 1]) + 1.1)/2. * (np.cos(8. * np.pi * X[..., 0]) + 1.1)/2. \n",
    "#         y_1 = -y_0 * (1/(X[..., 0]+0.5))\n",
    "#         return torch.stack([y_0, y_1], dim=-1)\n",
    "\n",
    "#     def evaluate_true(self, X: Tensor) -> Tensor:\n",
    "#         return self._rescaled_branin(X=X)"
   ]
  },
  {
   "cell_type": "markdown",
   "metadata": {
    "originalKey": "8d895a93-397c-4d2c-b6f5-96f589312538"
   },
   "source": [
    "### Problem setup\n"
   ]
  },
  {
   "cell_type": "code",
   "execution_count": 774,
   "metadata": {
    "executionStartTime": 1648572875784,
    "executionStopTime": 1648572876793,
    "originalKey": "a8741d41-72b7-42e8-bd5d-3972be9995f7",
    "requestMsgId": "a8741d41-72b7-42e8-bd5d-3972be9995f7"
   },
   "outputs": [],
   "source": [
    "# from botorch.test_functions.multi_objective import BraninCurrin\n",
    "\n",
    "# # problem = BraninCurrin(negate=True).to(**tkwargs)\n",
    "# problem = BraninDeterministicallyTransformed(negate=True).to(**tkwargs)"
   ]
  },
  {
   "cell_type": "markdown",
   "metadata": {},
   "source": [
    "### Plot the loss landscape"
   ]
  },
  {
   "cell_type": "code",
   "execution_count": 775,
   "metadata": {},
   "outputs": [],
   "source": [
    "# import plotly.graph_objects as go\n",
    "# import pandas as pd\n",
    "# import numpy as np\n",
    "# from botorch.utils.multi_objective.box_decompositions.non_dominated import FastNondominatedPartitioning\n",
    "\n",
    "# # Read data from a csv\n",
    "# # z_data = pd.read_csv('https://raw.githubusercontent.com/plotly/datasets/master/api_docs/mt_bruno_elevation.csv')\n",
    "# N = 100\n",
    "# x = torch.linspace(0., 1., N)\n",
    "# y = torch.linspace(0., 1., N)\n",
    "# xy = torch.cartesian_prod(x, y)\n",
    "# z = problem(xy)"
   ]
  },
  {
   "cell_type": "code",
   "execution_count": 776,
   "metadata": {},
   "outputs": [],
   "source": [
    "# partitioning = FastNondominatedPartitioning(\n",
    "#         ref_point=Tensor([-600., -600.]), \n",
    "#         Y=z,\n",
    "#     )\n",
    "# pareto_Y = partitioning.pareto_Y"
   ]
  },
  {
   "cell_type": "code",
   "execution_count": 777,
   "metadata": {},
   "outputs": [],
   "source": [
    "# pareto_Y.ge"
   ]
  },
  {
   "cell_type": "code",
   "execution_count": 778,
   "metadata": {},
   "outputs": [],
   "source": [
    "# a = is_pareto_efficient(-np.array(z), return_mask = True)"
   ]
  },
  {
   "cell_type": "code",
   "execution_count": 779,
   "metadata": {},
   "outputs": [],
   "source": [
    "# a.sum()"
   ]
  },
  {
   "cell_type": "code",
   "execution_count": 780,
   "metadata": {},
   "outputs": [],
   "source": [
    "# fig = go.Figure(data=[\n",
    "#     go.Surface(z=z[:, 0].reshape(N, N), x=x, y=y),\n",
    "#     go.Scatter3d(z=np.zeros_like(pareto_Y[:,0]), \n",
    "#                  x=xy[a, 1], \n",
    "#                  y=xy[a, 0], mode='markers')\n",
    "# ])\n",
    "# fig.update_layout(width=500, height=500,\n",
    "#                   margin=dict(l=65, r=50, b=65, t=90))\n",
    "# fig.show()"
   ]
  },
  {
   "cell_type": "code",
   "execution_count": 781,
   "metadata": {},
   "outputs": [],
   "source": [
    "# fig = go.Figure(data=[\n",
    "#     go.Surface(z=z[:, 1].reshape(N, N), x=x, y=y),\n",
    "#     go.Scatter3d(z=np.zeros_like(pareto_Y[:,0]), x=xy[a, 1], y=xy[a, 0], mode='markers')\n",
    "# ])\n",
    "# fig.update_layout(width=500, height=500,\n",
    "#                   margin=dict(l=65, r=50, b=65, t=90))\n",
    "# fig.show()"
   ]
  },
  {
   "cell_type": "code",
   "execution_count": 782,
   "metadata": {},
   "outputs": [],
   "source": [
    "# fig = go.Figure(data=[\n",
    "#     go.Scatter(\n",
    "#         x=z[a, 0], \n",
    "#         y=z[a, 1], \n",
    "#         mode='markers')\n",
    "# ])\n",
    "# fig.update_layout(width=500, height=500,)\n",
    "# fig.show()"
   ]
  },
  {
   "cell_type": "markdown",
   "metadata": {
    "originalKey": "fc047039-c2a9-4ea8-920e-c057547cfb11"
   },
   "source": [
    "#### Model initialization\n",
    "\n",
    "We use a list of `FixedNoiseGP`s to model the two objectives with known noise variances. Homoskedastic noise levels can be inferred by using `SingleTaskGP`s instead of `FixedNoiseGP`s.\n",
    "\n",
    "The models are initialized with $2(d+1)=6$ points drawn randomly from $[0,1]^2$."
   ]
  },
  {
   "cell_type": "code",
   "execution_count": 783,
   "metadata": {
    "executionStartTime": 1648572876821,
    "executionStopTime": 1648572877059,
    "originalKey": "47170c31-65e4-4f2d-949c-d91544e065fc",
    "requestMsgId": "47170c31-65e4-4f2d-949c-d91544e065fc"
   },
   "outputs": [],
   "source": [
    "from botorch.models.gp_regression import FixedNoiseGP, SingleTaskGP\n",
    "from botorch.models.model_list_gp_regression import ModelListGP\n",
    "from botorch.models.transforms.outcome import Standardize\n",
    "from gpytorch.mlls.sum_marginal_log_likelihood import SumMarginalLogLikelihood\n",
    "from botorch.utils.transforms import unnormalize, normalize\n",
    "from botorch.utils.sampling import draw_sobol_samples\n",
    "\n",
    "# NOISE_SE = torch.tensor([15.19, 0.63], **tkwargs)\n",
    "\n",
    "def generate_initial_data(n=6):\n",
    "    # generate training data\n",
    "    train_x = draw_sobol_samples(bounds=problem.bounds,n=n, q=1).squeeze(1)\n",
    "    train_obj_true = problem(train_x)\n",
    "    train_obj = train_obj_true + torch.randn_like(train_obj_true) * NOISE_SE\n",
    "    return train_x, train_obj, train_obj_true\n",
    "\n",
    "\n",
    "def initialize_model(train_x, train_obj):\n",
    "    # define models for objective and constraint\n",
    "    train_x = normalize(train_x, problem.bounds)\n",
    "    models = []\n",
    "    for i in range(train_obj.shape[-1]):\n",
    "        train_y = train_obj[..., i:i+1]\n",
    "#         train_yvar = torch.full_like(train_y, NOISE_SE[i] ** 2)\n",
    "        models.append(\n",
    "            SingleTaskGP(train_x, train_y, outcome_transform=Standardize(m=1))\n",
    "        )\n",
    "    model = ModelListGP(*models)\n",
    "    mll = SumMarginalLogLikelihood(model.likelihood, model)\n",
    "    return mll, model"
   ]
  },
  {
   "cell_type": "markdown",
   "metadata": {
    "originalKey": "6bfaef9a-3f34-4d51-9700-fbddc79eccf1"
   },
   "source": [
    "#### Define a helper functions that performs the essential BO step for $q$EHVI and $q$NEHVI\n",
    "The helper function below initializes the $q$EHVI acquisition function, optimizes it, and returns the batch $\\{x_1, x_2, \\ldots x_q\\}$ along with the observed function values. \n",
    "\n",
    "For this example, we'll use a relatively small batch of optimization ($q=4$). For batch optimization ($q>1$), passing the keyword argument `sequential=True` to the function `optimize_acqf`specifies that candidates should be optimized in a sequential greedy fashion (see [1] for details why this is important). A simple initialization heuristic is used to select the 10 restart initial locations from a set of 512 random points. Multi-start optimization of the acquisition function is performed using LBFGS-B with exact gradients computed via auto-differentiation.\n",
    "\n",
    "**Reference Point**\n",
    "\n",
    "$q$EHVI requires specifying a reference point, which is the lower bound on the objectives used for computing hypervolume. In this tutorial, we assume the reference point is known. In practice the reference point can be set 1) using domain knowledge to be slightly worse than the lower bound of objective values, where the lower bound is the minimum acceptable value of interest for each objective, or 2) using a dynamic reference point selection strategy.\n",
    "\n",
    "**Partitioning the Non-dominated Space into disjoint rectangles**\n",
    "\n",
    "$q$EHVI requires partitioning the non-dominated space into disjoint rectangles (see [1] for details). \n",
    "\n",
    "*Note:* `FastNondominatedPartitioning` *will be very slow when 1) there are a lot of points on the pareto frontier and 2) there are >5 objectives.*"
   ]
  },
  {
   "cell_type": "code",
   "execution_count": 784,
   "metadata": {
    "executionStartTime": 1648572877103,
    "executionStopTime": 1648572877433,
    "originalKey": "b7effe94-1327-405d-9148-c8e93470b846",
    "requestMsgId": "b7effe94-1327-405d-9148-c8e93470b846"
   },
   "outputs": [],
   "source": [
    "from botorch.optim.optimize import optimize_acqf, optimize_acqf_list\n",
    "from botorch.acquisition.objective import GenericMCObjective\n",
    "from botorch.utils.multi_objective.scalarization import get_chebyshev_scalarization\n",
    "from botorch.utils.multi_objective.box_decompositions.non_dominated import FastNondominatedPartitioning\n",
    "from botorch.acquisition.multi_objective.monte_carlo import qExpectedHypervolumeImprovement, qNoisyExpectedHypervolumeImprovement\n",
    "from botorch.utils.sampling import sample_simplex\n",
    "\n",
    "\n",
    "BATCH_SIZE = 1\n",
    "NUM_RESTARTS = 10 if not SMOKE_TEST else 2\n",
    "RAW_SAMPLES = 512 if not SMOKE_TEST else 4\n",
    "\n",
    "standard_bounds = torch.zeros(2, problem.dim, **tkwargs)\n",
    "standard_bounds[1] = 1\n",
    "\n",
    "\n",
    "def optimize_qehvi_and_get_observation(model, train_x, train_obj, sampler):\n",
    "    \"\"\"Optimizes the qEHVI acquisition function, and returns a new candidate and observation.\"\"\"\n",
    "    # partition non-dominated space into disjoint rectangles\n",
    "    with torch.no_grad():\n",
    "        pred = model.posterior(normalize(train_x, problem.bounds)).mean\n",
    "    partitioning = FastNondominatedPartitioning(\n",
    "        ref_point=problem.ref_point, \n",
    "        Y=pred,\n",
    "    )\n",
    "    acq_func = qExpectedHypervolumeImprovement(\n",
    "        model=model,\n",
    "        ref_point=problem.ref_point,\n",
    "        partitioning=partitioning,\n",
    "        sampler=sampler,\n",
    "    )\n",
    "    # optimize\n",
    "    candidates, _ = optimize_acqf(\n",
    "        acq_function=acq_func,\n",
    "        bounds=standard_bounds,\n",
    "        q=BATCH_SIZE,\n",
    "        num_restarts=NUM_RESTARTS,\n",
    "        raw_samples=RAW_SAMPLES,  # used for intialization heuristic\n",
    "        options={\"batch_limit\": 5, \"maxiter\": 200},\n",
    "        sequential=True,\n",
    "    )\n",
    "    # observe new values \n",
    "    new_x =  unnormalize(candidates.detach(), bounds=problem.bounds)\n",
    "    new_obj_true = problem(new_x)\n",
    "    new_obj = new_obj_true + torch.randn_like(new_obj_true) * NOISE_SE\n",
    "    return new_x, new_obj, new_obj_true"
   ]
  },
  {
   "cell_type": "markdown",
   "metadata": {
    "originalKey": "ccaf56e2-f0e0-4d1c-bf07-247d984535a5"
   },
   "source": [
    "**Integrating over function values at in-sample designs**\n",
    "\n",
    "$q$NEHVI integrates over the unknown function values at the previously evaluated designs (see [2] for details). Therefore, we need to provide the previously evaluated designs (`train_x`, *normalized* to be within $[0,1]^d$) to the acquisition function.\n",
    "\n",
    "**Efficient batch generation with Cached Box Decomposition (CBD)**\n",
    "\n",
    "$q$NEHVI leveraged CBD to efficiently generate large batches of candidates. CBD scales polynomially with respect to the batch size where as the inclusion-exclusion principle used by qEHVI scales exponentially with the batch size.\n",
    "\n",
    "**Pruning baseline designs**\n",
    "To speed up integration over the function values at the previously evaluated designs, we prune the set of previously evaluated designs (by setting `prune_baseline=True`) to only include those which have positive probability of being on the current in-sample Pareto frontier."
   ]
  },
  {
   "cell_type": "code",
   "execution_count": 786,
   "metadata": {},
   "outputs": [],
   "source": [
    "from botorch.acquisition.multi_objective import MCMultiOutputObjective\n",
    "\n",
    "def det_transform(y_0, X):\n",
    "    return (-y_0 + 1 + 0.2*np.sin(30 * X[..., 0]) + 0.2)/1.4\n",
    "    \n",
    "\n",
    "class MyMCObj(MCMultiOutputObjective):\n",
    "    def __init__(self, y):\n",
    "        super().__init__()\n",
    "        stddim = -1 if y.dim() < 2 else -2\n",
    "        y_std = y.std(dim=stddim, keepdim=True)\n",
    "        self.y_std = y_std.where(y_std >= 1e-9, torch.full_like(y_std, 1.0))\n",
    "        self.y_mean = y.mean(dim=stddim, keepdim=True)\n",
    "\n",
    "    def forward(self, samples: Tensor, X: Optional[Tensor] = None, **kwargs) -> Tensor:\n",
    "        X_clone = X.clone().detach()\n",
    "\n",
    "        # samples are from single output GP, so batch x q x 1, repeat to make batch x q x 2\n",
    "        samples = samples.repeat(*((samples.dim() - 1) * [1]), 2)\n",
    "\n",
    "        y0_unnorm = samples[..., 0] * self.y_std[0, 0] + self.y_mean[0, 0]\n",
    "        \n",
    "        y1_unnorm = det_transform(y_0, X)\n",
    "        y1_norm = standardize(y1_unnorm)\n",
    "        # y1_norm = (y1_unnorm - self.y_mean[0, 1]) / self.y_std[0, 1]\n",
    "        samples[..., 1] = y1_norm\n",
    "\n",
    "        # if y1_unnorm.shape[-1] == len(self.mobo_object.y):\n",
    "        # #     y0_true = np.array(self.mobo_object.y)[:, 0]\n",
    "        #     y1_true = np.array(self.mobo_object.y)[:, 1]\n",
    "        #     mask = (y1_true != 1.)\n",
    "        #     assert np.allclose(\n",
    "        #         mask * y0_unnorm.mean(dim=0).numpy() * (-1. if self.mobo_object.mode == 'min' else 1.),\n",
    "        #         mask * y0_true,\n",
    "        #         rtol=0.2)\n",
    "        #     assert np.allclose(\n",
    "        #         mask * y1_unnorm.mean(dim=0).numpy() * (-1. if self.mobo_object.mode == 'min' else 1.),\n",
    "        #         mask * y1_true,\n",
    "        #         rtol=0.2)\n",
    "\n",
    "        return samples\n"
   ]
  },
  {
   "cell_type": "code",
   "execution_count": 787,
   "metadata": {},
   "outputs": [],
   "source": [
    "def optimize_deterministic_and_get_observation(model, train_x, train_obj, sampler):\n",
    "    # partition non-dominated space into disjoint rectangles\n",
    "    acq_func = qNoisyExpectedHypervolumeImprovement(\n",
    "        model=model,\n",
    "        objective=MyMCObj(y=train_obj),\n",
    "        ref_point=problem.ref_point.tolist(),  # use known reference point\n",
    "        X_baseline=normalize(train_x, problem.bounds),\n",
    "        prune_baseline=True,  # prune baseline points that have estimated zero probability of being Pareto optimal\n",
    "        sampler=sampler,\n",
    "    )\n",
    "    # optimize\n",
    "    candidates, _ = optimize_acqf(\n",
    "        acq_function=acq_func,\n",
    "        bounds=standard_bounds,\n",
    "        q=BATCH_SIZE,\n",
    "        num_restarts=NUM_RESTARTS,\n",
    "        raw_samples=RAW_SAMPLES,  # used for intialization heuristic\n",
    "        options={\"batch_limit\": 5, \"maxiter\": 200},\n",
    "        sequential=True,\n",
    "    )\n",
    "    # observe new values\n",
    "    new_x = unnormalize(candidates.detach(), bounds=problem.bounds)\n",
    "    new_obj_true = problem(new_x)\n",
    "    new_obj = new_obj_true\n",
    "    return new_x, new_obj, new_obj_true"
   ]
  },
  {
   "cell_type": "code",
   "execution_count": 788,
   "metadata": {
    "executionStartTime": 1648572877461,
    "executionStopTime": 1648572877840,
    "originalKey": "f2749e5f-eb94-4150-8f52-057f90e08b39",
    "requestMsgId": "f2749e5f-eb94-4150-8f52-057f90e08b39"
   },
   "outputs": [],
   "source": [
    "def optimize_qnehvi_and_get_observation(model, train_x, train_obj, sampler):\n",
    "    \"\"\"Optimizes the qEHVI acquisition function, and returns a new candidate and observation.\"\"\"\n",
    "    # partition non-dominated space into disjoint rectangles\n",
    "    acq_func = qNoisyExpectedHypervolumeImprovement(\n",
    "        model=model,\n",
    "        ref_point=problem.ref_point.tolist(),  # use known reference point \n",
    "        X_baseline=normalize(train_x, problem.bounds),\n",
    "        prune_baseline=True,  # prune baseline points that have estimated zero probability of being Pareto optimal\n",
    "        sampler=sampler,\n",
    "    )\n",
    "    # optimize\n",
    "    candidates, _ = optimize_acqf(\n",
    "        acq_function=acq_func,\n",
    "        bounds=standard_bounds,\n",
    "        q=BATCH_SIZE,\n",
    "        num_restarts=NUM_RESTARTS,\n",
    "        raw_samples=RAW_SAMPLES,  # used for intialization heuristic\n",
    "        options={\"batch_limit\": 5, \"maxiter\": 200},\n",
    "        sequential=True,\n",
    "    )\n",
    "    # observe new values \n",
    "    new_x =  unnormalize(candidates.detach(), bounds=problem.bounds)\n",
    "    new_obj_true = problem(new_x)\n",
    "    new_obj = new_obj_true + torch.randn_like(new_obj_true) * NOISE_SE\n",
    "    return new_x, new_obj, new_obj_true"
   ]
  },
  {
   "cell_type": "markdown",
   "metadata": {
    "originalKey": "ad78607d-d910-441c-903b-b15dc77a432f"
   },
   "source": [
    "#### Define a helper function that performs the essential BO step for $q$NParEGO\n",
    "The helper function below similarly initializes $q$NParEGO, optimizes it, and returns the batch $\\{x_1, x_2, \\ldots x_q\\}$ along with the observed function values. \n",
    "\n",
    "$q$NParEGO uses random augmented chebyshev scalarization with the `qNoisyExpectedImprovement` acquisition function. In the parallel setting ($q>1$), each candidate is optimized in sequential greedy fashion using a different random scalarization (see [1] for details).\n",
    "\n",
    "To do this, we create a list of `qNoisyExpectedImprovement` acquisition functions, each with different random scalarization weights. The `optimize_acqf_list` method sequentially generates one candidate per acquisition function and conditions the next candidate (and acquisition function) on the previously selected pending candidates."
   ]
  },
  {
   "cell_type": "code",
   "execution_count": 789,
   "metadata": {
    "executionStartTime": 1648572877848,
    "executionStopTime": 1648572877855,
    "originalKey": "806b115f-a15f-44df-b7f9-d2f098969e02",
    "requestMsgId": "806b115f-a15f-44df-b7f9-d2f098969e02"
   },
   "outputs": [],
   "source": [
    "from botorch.acquisition.monte_carlo import qNoisyExpectedImprovement\n",
    "\n",
    "\n",
    "def optimize_qnparego_and_get_observation(model, train_x, train_obj, sampler):\n",
    "    \"\"\"Samples a set of random weights for each candidate in the batch, performs sequential greedy optimization \n",
    "    of the qNParEGO acquisition function, and returns a new candidate and observation.\"\"\"\n",
    "    train_x = normalize(train_x, problem.bounds)\n",
    "    with torch.no_grad():\n",
    "        pred = model.posterior(train_x).mean\n",
    "    acq_func_list = []\n",
    "    for _ in range(BATCH_SIZE):\n",
    "        weights = sample_simplex(problem.num_objectives, **tkwargs).squeeze()\n",
    "        objective = GenericMCObjective(get_chebyshev_scalarization(weights=weights, Y=pred))\n",
    "        acq_func = qNoisyExpectedImprovement(  # pyre-ignore: [28]\n",
    "            model=model,\n",
    "            objective=objective,\n",
    "            X_baseline=train_x,\n",
    "            sampler=sampler,\n",
    "            prune_baseline=True,\n",
    "        )\n",
    "        acq_func_list.append(acq_func)\n",
    "    # optimize\n",
    "    candidates, _ = optimize_acqf_list(\n",
    "        acq_function_list=acq_func_list,\n",
    "        bounds=standard_bounds,\n",
    "        num_restarts=NUM_RESTARTS,\n",
    "        raw_samples=RAW_SAMPLES,  # used for intialization heuristic\n",
    "        options={\"batch_limit\": 5, \"maxiter\": 200},\n",
    "    )\n",
    "    # observe new values \n",
    "    new_x =  unnormalize(candidates.detach(), bounds=problem.bounds)\n",
    "    new_obj_true = problem(new_x)\n",
    "    new_obj = new_obj_true + torch.randn_like(new_obj_true) * NOISE_SE\n",
    "    return new_x, new_obj, new_obj_true"
   ]
  },
  {
   "cell_type": "markdown",
   "metadata": {
    "originalKey": "f8ffd86a-f4bb-4984-9330-04ff4d62f189"
   },
   "source": [
    "### Perform Bayesian Optimization loop with $q$NEHVI, $q$EHVI, and $q$NParEGO\n",
    "The Bayesian optimization \"loop\" for a batch size of $q$ simply iterates the following steps:\n",
    "1. given a surrogate model, choose a batch of points $\\{x_1, x_2, \\ldots x_q\\}$\n",
    "2. observe $f(x)$ for each $x$ in the batch \n",
    "3. update the surrogate model. \n",
    "\n",
    "\n",
    "Just for illustration purposes, we run one trial with `N_BATCH=20` rounds of optimization. The acquisition function is approximated using `MC_SAMPLES=128` samples.\n",
    "\n",
    "*Note*: Running this may take a little while."
   ]
  },
  {
   "cell_type": "code",
   "execution_count": 790,
   "metadata": {
    "executionStartTime": 1648572877899,
    "executionStopTime": 1648573343202,
    "originalKey": "c29b731a-64e7-401d-a5b2-3879d8d39327",
    "requestMsgId": "c29b731a-64e7-401d-a5b2-3879d8d39327",
    "scrolled": false
   },
   "outputs": [
    {
     "name": "stderr",
     "output_type": "stream",
     "text": [
      "  5%|███████▏                                                                                                                                       | 1/20 [00:02<00:51,  2.72s/it]"
     ]
    },
    {
     "name": "stdout",
     "output_type": "stream",
     "text": [
      "\n",
      "Batch  1: Hypervolume (random, qNParEGO, qEHVI, qNEHVI) = (3.13, 3.09, 3.09, 3.09), time = 2.72."
     ]
    },
    {
     "name": "stderr",
     "output_type": "stream",
     "text": [
      "\r",
      " 10%|██████████████▎                                                                                                                                | 2/20 [00:05<00:48,  2.71s/it]"
     ]
    },
    {
     "name": "stdout",
     "output_type": "stream",
     "text": [
      "\n",
      "Batch  2: Hypervolume (random, qNParEGO, qEHVI, qNEHVI) = (3.19, 3.40, 3.09, 3.40), time = 2.70."
     ]
    },
    {
     "name": "stderr",
     "output_type": "stream",
     "text": [
      " 10%|██████████████▎                                                                                                                                | 2/20 [00:05<00:53,  2.97s/it]\n"
     ]
    },
    {
     "ename": "KeyboardInterrupt",
     "evalue": "",
     "output_type": "error",
     "traceback": [
      "\u001b[0;31m---------------------------------------------------------------------------\u001b[0m",
      "\u001b[0;31mKeyboardInterrupt\u001b[0m                         Traceback (most recent call last)",
      "\u001b[0;32m/var/folders/9y/5_ksvdjj6sg9f39m2rsdqz_17rn_b7/T/ipykernel_13535/3348007069.py\u001b[0m in \u001b[0;36m<module>\u001b[0;34m\u001b[0m\n\u001b[1;32m     57\u001b[0m     \u001b[0;31m# optimize acquisition functions and get new observations\u001b[0m\u001b[0;34m\u001b[0m\u001b[0;34m\u001b[0m\u001b[0;34m\u001b[0m\u001b[0m\n\u001b[1;32m     58\u001b[0m     new_x_qparego, new_obj_qparego, new_obj_true_qparego = optimize_qnparego_and_get_observation(\n\u001b[0;32m---> 59\u001b[0;31m         \u001b[0mmodel_qparego\u001b[0m\u001b[0;34m,\u001b[0m \u001b[0mtrain_x_qparego\u001b[0m\u001b[0;34m,\u001b[0m \u001b[0mtrain_obj_qparego\u001b[0m\u001b[0;34m,\u001b[0m \u001b[0mqparego_sampler\u001b[0m\u001b[0;34m\u001b[0m\u001b[0;34m\u001b[0m\u001b[0m\n\u001b[0m\u001b[1;32m     60\u001b[0m     )\n\u001b[1;32m     61\u001b[0m     new_x_qehvi, new_obj_qehvi, new_obj_true_qehvi = optimize_qehvi_and_get_observation(\n",
      "\u001b[0;32m/var/folders/9y/5_ksvdjj6sg9f39m2rsdqz_17rn_b7/T/ipykernel_13535/3539493381.py\u001b[0m in \u001b[0;36moptimize_qnparego_and_get_observation\u001b[0;34m(model, train_x, train_obj, sampler)\u001b[0m\n\u001b[1;32m     26\u001b[0m         \u001b[0mnum_restarts\u001b[0m\u001b[0;34m=\u001b[0m\u001b[0mNUM_RESTARTS\u001b[0m\u001b[0;34m,\u001b[0m\u001b[0;34m\u001b[0m\u001b[0;34m\u001b[0m\u001b[0m\n\u001b[1;32m     27\u001b[0m         \u001b[0mraw_samples\u001b[0m\u001b[0;34m=\u001b[0m\u001b[0mRAW_SAMPLES\u001b[0m\u001b[0;34m,\u001b[0m  \u001b[0;31m# used for intialization heuristic\u001b[0m\u001b[0;34m\u001b[0m\u001b[0;34m\u001b[0m\u001b[0m\n\u001b[0;32m---> 28\u001b[0;31m         \u001b[0moptions\u001b[0m\u001b[0;34m=\u001b[0m\u001b[0;34m{\u001b[0m\u001b[0;34m\"batch_limit\"\u001b[0m\u001b[0;34m:\u001b[0m \u001b[0;36m5\u001b[0m\u001b[0;34m,\u001b[0m \u001b[0;34m\"maxiter\"\u001b[0m\u001b[0;34m:\u001b[0m \u001b[0;36m200\u001b[0m\u001b[0;34m}\u001b[0m\u001b[0;34m,\u001b[0m\u001b[0;34m\u001b[0m\u001b[0;34m\u001b[0m\u001b[0m\n\u001b[0m\u001b[1;32m     29\u001b[0m     )\n\u001b[1;32m     30\u001b[0m     \u001b[0;31m# observe new values\u001b[0m\u001b[0;34m\u001b[0m\u001b[0;34m\u001b[0m\u001b[0;34m\u001b[0m\u001b[0m\n",
      "\u001b[0;32m~/libs/miniconda3/envs/aws1/lib/python3.7/site-packages/botorch/optim/optimize.py\u001b[0m in \u001b[0;36moptimize_acqf_list\u001b[0;34m(acq_function_list, bounds, num_restarts, raw_samples, options, inequality_constraints, equality_constraints, fixed_features, post_processing_func)\u001b[0m\n\u001b[1;32m    417\u001b[0m             \u001b[0mpost_processing_func\u001b[0m\u001b[0;34m=\u001b[0m\u001b[0mpost_processing_func\u001b[0m\u001b[0;34m,\u001b[0m\u001b[0;34m\u001b[0m\u001b[0;34m\u001b[0m\u001b[0m\n\u001b[1;32m    418\u001b[0m             \u001b[0mreturn_best_only\u001b[0m\u001b[0;34m=\u001b[0m\u001b[0;32mTrue\u001b[0m\u001b[0;34m,\u001b[0m\u001b[0;34m\u001b[0m\u001b[0;34m\u001b[0m\u001b[0m\n\u001b[0;32m--> 419\u001b[0;31m             \u001b[0msequential\u001b[0m\u001b[0;34m=\u001b[0m\u001b[0;32mFalse\u001b[0m\u001b[0;34m,\u001b[0m\u001b[0;34m\u001b[0m\u001b[0;34m\u001b[0m\u001b[0m\n\u001b[0m\u001b[1;32m    420\u001b[0m         )\n\u001b[1;32m    421\u001b[0m         \u001b[0mcandidate_list\u001b[0m\u001b[0;34m.\u001b[0m\u001b[0mappend\u001b[0m\u001b[0;34m(\u001b[0m\u001b[0mcandidate\u001b[0m\u001b[0;34m)\u001b[0m\u001b[0;34m\u001b[0m\u001b[0;34m\u001b[0m\u001b[0m\n",
      "\u001b[0;32m~/libs/miniconda3/envs/aws1/lib/python3.7/site-packages/botorch/optim/optimize.py\u001b[0m in \u001b[0;36moptimize_acqf\u001b[0;34m(acq_function, bounds, q, num_restarts, raw_samples, options, inequality_constraints, equality_constraints, fixed_features, post_processing_func, batch_initial_conditions, return_best_only, sequential, **kwargs)\u001b[0m\n\u001b[1;32m    196\u001b[0m             \u001b[0moptions\u001b[0m\u001b[0;34m=\u001b[0m\u001b[0moptions\u001b[0m\u001b[0;34m,\u001b[0m\u001b[0;34m\u001b[0m\u001b[0;34m\u001b[0m\u001b[0m\n\u001b[1;32m    197\u001b[0m             \u001b[0minequality_constraints\u001b[0m\u001b[0;34m=\u001b[0m\u001b[0minequality_constraints\u001b[0m\u001b[0;34m,\u001b[0m\u001b[0;34m\u001b[0m\u001b[0;34m\u001b[0m\u001b[0m\n\u001b[0;32m--> 198\u001b[0;31m             \u001b[0mequality_constraints\u001b[0m\u001b[0;34m=\u001b[0m\u001b[0mequality_constraints\u001b[0m\u001b[0;34m,\u001b[0m\u001b[0;34m\u001b[0m\u001b[0;34m\u001b[0m\u001b[0m\n\u001b[0m\u001b[1;32m    199\u001b[0m         )\n\u001b[1;32m    200\u001b[0m \u001b[0;34m\u001b[0m\u001b[0m\n",
      "\u001b[0;32m~/libs/miniconda3/envs/aws1/lib/python3.7/site-packages/botorch/optim/initializers.py\u001b[0m in \u001b[0;36mgen_batch_initial_conditions\u001b[0;34m(acq_function, bounds, q, num_restarts, raw_samples, fixed_features, options, inequality_constraints, equality_constraints)\u001b[0m\n\u001b[1;32m    182\u001b[0m                     \u001b[0mend_idx\u001b[0m \u001b[0;34m=\u001b[0m \u001b[0mmin\u001b[0m\u001b[0;34m(\u001b[0m\u001b[0mstart_idx\u001b[0m \u001b[0;34m+\u001b[0m \u001b[0mbatch_limit\u001b[0m\u001b[0;34m,\u001b[0m \u001b[0mX_rnd\u001b[0m\u001b[0;34m.\u001b[0m\u001b[0mshape\u001b[0m\u001b[0;34m[\u001b[0m\u001b[0;36m0\u001b[0m\u001b[0;34m]\u001b[0m\u001b[0;34m)\u001b[0m\u001b[0;34m\u001b[0m\u001b[0;34m\u001b[0m\u001b[0m\n\u001b[1;32m    183\u001b[0m                     Y_rnd_curr = acq_function(\n\u001b[0;32m--> 184\u001b[0;31m                         \u001b[0mX_rnd\u001b[0m\u001b[0;34m[\u001b[0m\u001b[0mstart_idx\u001b[0m\u001b[0;34m:\u001b[0m\u001b[0mend_idx\u001b[0m\u001b[0;34m]\u001b[0m\u001b[0;34m.\u001b[0m\u001b[0mto\u001b[0m\u001b[0;34m(\u001b[0m\u001b[0mdevice\u001b[0m\u001b[0;34m=\u001b[0m\u001b[0mdevice\u001b[0m\u001b[0;34m)\u001b[0m\u001b[0;34m\u001b[0m\u001b[0;34m\u001b[0m\u001b[0m\n\u001b[0m\u001b[1;32m    185\u001b[0m                     ).cpu()\n\u001b[1;32m    186\u001b[0m                     \u001b[0mY_rnd_list\u001b[0m\u001b[0;34m.\u001b[0m\u001b[0mappend\u001b[0m\u001b[0;34m(\u001b[0m\u001b[0mY_rnd_curr\u001b[0m\u001b[0;34m)\u001b[0m\u001b[0;34m\u001b[0m\u001b[0;34m\u001b[0m\u001b[0m\n",
      "\u001b[0;32m~/libs/miniconda3/envs/aws1/lib/python3.7/site-packages/torch/nn/modules/module.py\u001b[0m in \u001b[0;36m_call_impl\u001b[0;34m(self, *input, **kwargs)\u001b[0m\n\u001b[1;32m   1100\u001b[0m         if not (self._backward_hooks or self._forward_hooks or self._forward_pre_hooks or _global_backward_hooks\n\u001b[1;32m   1101\u001b[0m                 or _global_forward_hooks or _global_forward_pre_hooks):\n\u001b[0;32m-> 1102\u001b[0;31m             \u001b[0;32mreturn\u001b[0m \u001b[0mforward_call\u001b[0m\u001b[0;34m(\u001b[0m\u001b[0;34m*\u001b[0m\u001b[0minput\u001b[0m\u001b[0;34m,\u001b[0m \u001b[0;34m**\u001b[0m\u001b[0mkwargs\u001b[0m\u001b[0;34m)\u001b[0m\u001b[0;34m\u001b[0m\u001b[0;34m\u001b[0m\u001b[0m\n\u001b[0m\u001b[1;32m   1103\u001b[0m         \u001b[0;31m# Do not call functions when jit is used\u001b[0m\u001b[0;34m\u001b[0m\u001b[0;34m\u001b[0m\u001b[0;34m\u001b[0m\u001b[0m\n\u001b[1;32m   1104\u001b[0m         \u001b[0mfull_backward_hooks\u001b[0m\u001b[0;34m,\u001b[0m \u001b[0mnon_full_backward_hooks\u001b[0m \u001b[0;34m=\u001b[0m \u001b[0;34m[\u001b[0m\u001b[0;34m]\u001b[0m\u001b[0;34m,\u001b[0m \u001b[0;34m[\u001b[0m\u001b[0;34m]\u001b[0m\u001b[0;34m\u001b[0m\u001b[0;34m\u001b[0m\u001b[0m\n",
      "\u001b[0;32m~/libs/miniconda3/envs/aws1/lib/python3.7/site-packages/botorch/utils/transforms.py\u001b[0m in \u001b[0;36mdecorated\u001b[0;34m(cls, X, **kwargs)\u001b[0m\n\u001b[1;32m    268\u001b[0m         \u001b[0;32mif\u001b[0m \u001b[0mcls\u001b[0m\u001b[0;34m.\u001b[0m\u001b[0mX_pending\u001b[0m \u001b[0;32mis\u001b[0m \u001b[0;32mnot\u001b[0m \u001b[0;32mNone\u001b[0m\u001b[0;34m:\u001b[0m\u001b[0;34m\u001b[0m\u001b[0;34m\u001b[0m\u001b[0m\n\u001b[1;32m    269\u001b[0m             \u001b[0mX\u001b[0m \u001b[0;34m=\u001b[0m \u001b[0mtorch\u001b[0m\u001b[0;34m.\u001b[0m\u001b[0mcat\u001b[0m\u001b[0;34m(\u001b[0m\u001b[0;34m[\u001b[0m\u001b[0mX\u001b[0m\u001b[0;34m,\u001b[0m \u001b[0mmatch_batch_shape\u001b[0m\u001b[0;34m(\u001b[0m\u001b[0mcls\u001b[0m\u001b[0;34m.\u001b[0m\u001b[0mX_pending\u001b[0m\u001b[0;34m,\u001b[0m \u001b[0mX\u001b[0m\u001b[0;34m)\u001b[0m\u001b[0;34m]\u001b[0m\u001b[0;34m,\u001b[0m \u001b[0mdim\u001b[0m\u001b[0;34m=\u001b[0m\u001b[0;34m-\u001b[0m\u001b[0;36m2\u001b[0m\u001b[0;34m)\u001b[0m\u001b[0;34m\u001b[0m\u001b[0;34m\u001b[0m\u001b[0m\n\u001b[0;32m--> 270\u001b[0;31m         \u001b[0;32mreturn\u001b[0m \u001b[0mmethod\u001b[0m\u001b[0;34m(\u001b[0m\u001b[0mcls\u001b[0m\u001b[0;34m,\u001b[0m \u001b[0mX\u001b[0m\u001b[0;34m,\u001b[0m \u001b[0;34m**\u001b[0m\u001b[0mkwargs\u001b[0m\u001b[0;34m)\u001b[0m\u001b[0;34m\u001b[0m\u001b[0;34m\u001b[0m\u001b[0m\n\u001b[0m\u001b[1;32m    271\u001b[0m \u001b[0;34m\u001b[0m\u001b[0m\n\u001b[1;32m    272\u001b[0m     \u001b[0;32mreturn\u001b[0m \u001b[0mdecorated\u001b[0m\u001b[0;34m\u001b[0m\u001b[0;34m\u001b[0m\u001b[0m\n",
      "\u001b[0;32m~/libs/miniconda3/envs/aws1/lib/python3.7/site-packages/botorch/utils/transforms.py\u001b[0m in \u001b[0;36mdecorated\u001b[0;34m(acqf, X, *args, **kwargs)\u001b[0m\n\u001b[1;32m    227\u001b[0m             \u001b[0;31m# add t-batch dim\u001b[0m\u001b[0;34m\u001b[0m\u001b[0;34m\u001b[0m\u001b[0;34m\u001b[0m\u001b[0m\n\u001b[1;32m    228\u001b[0m             \u001b[0mX\u001b[0m \u001b[0;34m=\u001b[0m \u001b[0mX\u001b[0m \u001b[0;32mif\u001b[0m \u001b[0mX\u001b[0m\u001b[0;34m.\u001b[0m\u001b[0mdim\u001b[0m\u001b[0;34m(\u001b[0m\u001b[0;34m)\u001b[0m \u001b[0;34m>\u001b[0m \u001b[0;36m2\u001b[0m \u001b[0;32melse\u001b[0m \u001b[0mX\u001b[0m\u001b[0;34m.\u001b[0m\u001b[0munsqueeze\u001b[0m\u001b[0;34m(\u001b[0m\u001b[0;36m0\u001b[0m\u001b[0;34m)\u001b[0m\u001b[0;34m\u001b[0m\u001b[0;34m\u001b[0m\u001b[0m\n\u001b[0;32m--> 229\u001b[0;31m             \u001b[0moutput\u001b[0m \u001b[0;34m=\u001b[0m \u001b[0mmethod\u001b[0m\u001b[0;34m(\u001b[0m\u001b[0macqf\u001b[0m\u001b[0;34m,\u001b[0m \u001b[0mX\u001b[0m\u001b[0;34m,\u001b[0m \u001b[0;34m*\u001b[0m\u001b[0margs\u001b[0m\u001b[0;34m,\u001b[0m \u001b[0;34m**\u001b[0m\u001b[0mkwargs\u001b[0m\u001b[0;34m)\u001b[0m\u001b[0;34m\u001b[0m\u001b[0;34m\u001b[0m\u001b[0m\n\u001b[0m\u001b[1;32m    230\u001b[0m             if assert_output_shape and not _verify_output_shape(\n\u001b[1;32m    231\u001b[0m                 \u001b[0macqf\u001b[0m\u001b[0;34m=\u001b[0m\u001b[0macqf\u001b[0m\u001b[0;34m,\u001b[0m\u001b[0;34m\u001b[0m\u001b[0;34m\u001b[0m\u001b[0m\n",
      "\u001b[0;32m~/libs/miniconda3/envs/aws1/lib/python3.7/site-packages/botorch/acquisition/monte_carlo.py\u001b[0m in \u001b[0;36mforward\u001b[0;34m(self, X)\u001b[0m\n\u001b[1;32m    242\u001b[0m         \u001b[0;31m# TODO: Implement more efficient way to compute posterior over both training and\u001b[0m\u001b[0;34m\u001b[0m\u001b[0;34m\u001b[0m\u001b[0;34m\u001b[0m\u001b[0m\n\u001b[1;32m    243\u001b[0m         \u001b[0;31m# test points in GPyTorch (https://github.com/cornellius-gp/gpytorch/issues/567)\u001b[0m\u001b[0;34m\u001b[0m\u001b[0;34m\u001b[0m\u001b[0;34m\u001b[0m\u001b[0m\n\u001b[0;32m--> 244\u001b[0;31m         \u001b[0mposterior\u001b[0m \u001b[0;34m=\u001b[0m \u001b[0mself\u001b[0m\u001b[0;34m.\u001b[0m\u001b[0mmodel\u001b[0m\u001b[0;34m.\u001b[0m\u001b[0mposterior\u001b[0m\u001b[0;34m(\u001b[0m\u001b[0mX_full\u001b[0m\u001b[0;34m)\u001b[0m\u001b[0;34m\u001b[0m\u001b[0;34m\u001b[0m\u001b[0m\n\u001b[0m\u001b[1;32m    245\u001b[0m         \u001b[0msamples\u001b[0m \u001b[0;34m=\u001b[0m \u001b[0mself\u001b[0m\u001b[0;34m.\u001b[0m\u001b[0msampler\u001b[0m\u001b[0;34m(\u001b[0m\u001b[0mposterior\u001b[0m\u001b[0;34m)\u001b[0m\u001b[0;34m\u001b[0m\u001b[0;34m\u001b[0m\u001b[0m\n\u001b[1;32m    246\u001b[0m         \u001b[0mobj\u001b[0m \u001b[0;34m=\u001b[0m \u001b[0mself\u001b[0m\u001b[0;34m.\u001b[0m\u001b[0mobjective\u001b[0m\u001b[0;34m(\u001b[0m\u001b[0msamples\u001b[0m\u001b[0;34m,\u001b[0m \u001b[0mX\u001b[0m\u001b[0;34m=\u001b[0m\u001b[0mX_full\u001b[0m\u001b[0;34m)\u001b[0m\u001b[0;34m\u001b[0m\u001b[0;34m\u001b[0m\u001b[0m\n",
      "\u001b[0;32m~/libs/miniconda3/envs/aws1/lib/python3.7/site-packages/botorch/models/gpytorch.py\u001b[0m in \u001b[0;36mposterior\u001b[0;34m(self, X, output_indices, observation_noise, **kwargs)\u001b[0m\n\u001b[1;32m    564\u001b[0m                 \u001b[0mmvn_gen\u001b[0m \u001b[0;34m=\u001b[0m \u001b[0mzip\u001b[0m\u001b[0;34m(\u001b[0m\u001b[0moutput_indices\u001b[0m\u001b[0;34m,\u001b[0m \u001b[0mmvns\u001b[0m\u001b[0;34m)\u001b[0m\u001b[0;34m\u001b[0m\u001b[0;34m\u001b[0m\u001b[0m\n\u001b[1;32m    565\u001b[0m             \u001b[0;32melse\u001b[0m\u001b[0;34m:\u001b[0m\u001b[0;34m\u001b[0m\u001b[0;34m\u001b[0m\u001b[0m\n\u001b[0;32m--> 566\u001b[0;31m                 \u001b[0mmvns\u001b[0m \u001b[0;34m=\u001b[0m \u001b[0mself\u001b[0m\u001b[0;34m(\u001b[0m\u001b[0;34m*\u001b[0m\u001b[0mtransformed_X\u001b[0m\u001b[0;34m)\u001b[0m\u001b[0;34m\u001b[0m\u001b[0;34m\u001b[0m\u001b[0m\n\u001b[0m\u001b[1;32m    567\u001b[0m                 \u001b[0;32mif\u001b[0m \u001b[0mobservation_noise\u001b[0m \u001b[0;32mis\u001b[0m \u001b[0;32mnot\u001b[0m \u001b[0;32mFalse\u001b[0m\u001b[0;34m:\u001b[0m\u001b[0;34m\u001b[0m\u001b[0;34m\u001b[0m\u001b[0m\n\u001b[1;32m    568\u001b[0m                     \u001b[0mmvnX\u001b[0m \u001b[0;34m=\u001b[0m \u001b[0;34m[\u001b[0m\u001b[0;34m(\u001b[0m\u001b[0mmvn\u001b[0m\u001b[0;34m,\u001b[0m \u001b[0mtransformed_X\u001b[0m\u001b[0;34m[\u001b[0m\u001b[0mi\u001b[0m\u001b[0;34m]\u001b[0m\u001b[0;34m)\u001b[0m \u001b[0;32mfor\u001b[0m \u001b[0mi\u001b[0m\u001b[0;34m,\u001b[0m \u001b[0mmvn\u001b[0m \u001b[0;32min\u001b[0m \u001b[0menumerate\u001b[0m\u001b[0;34m(\u001b[0m\u001b[0mmvns\u001b[0m\u001b[0;34m)\u001b[0m\u001b[0;34m]\u001b[0m\u001b[0;34m\u001b[0m\u001b[0;34m\u001b[0m\u001b[0m\n",
      "\u001b[0;32m~/libs/miniconda3/envs/aws1/lib/python3.7/site-packages/gpytorch/models/model_list.py\u001b[0m in \u001b[0;36m__call__\u001b[0;34m(self, *args, **kwargs)\u001b[0m\n\u001b[1;32m     81\u001b[0m \u001b[0;34m\u001b[0m\u001b[0m\n\u001b[1;32m     82\u001b[0m     \u001b[0;32mdef\u001b[0m \u001b[0m__call__\u001b[0m\u001b[0;34m(\u001b[0m\u001b[0mself\u001b[0m\u001b[0;34m,\u001b[0m \u001b[0;34m*\u001b[0m\u001b[0margs\u001b[0m\u001b[0;34m,\u001b[0m \u001b[0;34m**\u001b[0m\u001b[0mkwargs\u001b[0m\u001b[0;34m)\u001b[0m\u001b[0;34m:\u001b[0m\u001b[0;34m\u001b[0m\u001b[0;34m\u001b[0m\u001b[0m\n\u001b[0;32m---> 83\u001b[0;31m         \u001b[0;32mreturn\u001b[0m \u001b[0;34m[\u001b[0m\u001b[0mmodel\u001b[0m\u001b[0;34m.\u001b[0m\u001b[0m__call__\u001b[0m\u001b[0;34m(\u001b[0m\u001b[0;34m*\u001b[0m\u001b[0margs_\u001b[0m\u001b[0;34m,\u001b[0m \u001b[0;34m**\u001b[0m\u001b[0mkwargs\u001b[0m\u001b[0;34m)\u001b[0m \u001b[0;32mfor\u001b[0m \u001b[0mmodel\u001b[0m\u001b[0;34m,\u001b[0m \u001b[0margs_\u001b[0m \u001b[0;32min\u001b[0m \u001b[0mzip\u001b[0m\u001b[0;34m(\u001b[0m\u001b[0mself\u001b[0m\u001b[0;34m.\u001b[0m\u001b[0mmodels\u001b[0m\u001b[0;34m,\u001b[0m \u001b[0m_get_tensor_args\u001b[0m\u001b[0;34m(\u001b[0m\u001b[0;34m*\u001b[0m\u001b[0margs\u001b[0m\u001b[0;34m)\u001b[0m\u001b[0;34m)\u001b[0m\u001b[0;34m]\u001b[0m\u001b[0;34m\u001b[0m\u001b[0;34m\u001b[0m\u001b[0m\n\u001b[0m\u001b[1;32m     84\u001b[0m \u001b[0;34m\u001b[0m\u001b[0m\n\u001b[1;32m     85\u001b[0m     \u001b[0;34m@\u001b[0m\u001b[0mproperty\u001b[0m\u001b[0;34m\u001b[0m\u001b[0;34m\u001b[0m\u001b[0m\n",
      "\u001b[0;32m~/libs/miniconda3/envs/aws1/lib/python3.7/site-packages/gpytorch/models/model_list.py\u001b[0m in \u001b[0;36m<listcomp>\u001b[0;34m(.0)\u001b[0m\n\u001b[1;32m     81\u001b[0m \u001b[0;34m\u001b[0m\u001b[0m\n\u001b[1;32m     82\u001b[0m     \u001b[0;32mdef\u001b[0m \u001b[0m__call__\u001b[0m\u001b[0;34m(\u001b[0m\u001b[0mself\u001b[0m\u001b[0;34m,\u001b[0m \u001b[0;34m*\u001b[0m\u001b[0margs\u001b[0m\u001b[0;34m,\u001b[0m \u001b[0;34m**\u001b[0m\u001b[0mkwargs\u001b[0m\u001b[0;34m)\u001b[0m\u001b[0;34m:\u001b[0m\u001b[0;34m\u001b[0m\u001b[0;34m\u001b[0m\u001b[0m\n\u001b[0;32m---> 83\u001b[0;31m         \u001b[0;32mreturn\u001b[0m \u001b[0;34m[\u001b[0m\u001b[0mmodel\u001b[0m\u001b[0;34m.\u001b[0m\u001b[0m__call__\u001b[0m\u001b[0;34m(\u001b[0m\u001b[0;34m*\u001b[0m\u001b[0margs_\u001b[0m\u001b[0;34m,\u001b[0m \u001b[0;34m**\u001b[0m\u001b[0mkwargs\u001b[0m\u001b[0;34m)\u001b[0m \u001b[0;32mfor\u001b[0m \u001b[0mmodel\u001b[0m\u001b[0;34m,\u001b[0m \u001b[0margs_\u001b[0m \u001b[0;32min\u001b[0m \u001b[0mzip\u001b[0m\u001b[0;34m(\u001b[0m\u001b[0mself\u001b[0m\u001b[0;34m.\u001b[0m\u001b[0mmodels\u001b[0m\u001b[0;34m,\u001b[0m \u001b[0m_get_tensor_args\u001b[0m\u001b[0;34m(\u001b[0m\u001b[0;34m*\u001b[0m\u001b[0margs\u001b[0m\u001b[0;34m)\u001b[0m\u001b[0;34m)\u001b[0m\u001b[0;34m]\u001b[0m\u001b[0;34m\u001b[0m\u001b[0;34m\u001b[0m\u001b[0m\n\u001b[0m\u001b[1;32m     84\u001b[0m \u001b[0;34m\u001b[0m\u001b[0m\n\u001b[1;32m     85\u001b[0m     \u001b[0;34m@\u001b[0m\u001b[0mproperty\u001b[0m\u001b[0;34m\u001b[0m\u001b[0;34m\u001b[0m\u001b[0m\n",
      "\u001b[0;32m~/libs/miniconda3/envs/aws1/lib/python3.7/site-packages/gpytorch/models/exact_gp.py\u001b[0m in \u001b[0;36m__call__\u001b[0;34m(self, *args, **kwargs)\u001b[0m\n\u001b[1;32m    317\u001b[0m             \u001b[0;31m# Make the prediction\u001b[0m\u001b[0;34m\u001b[0m\u001b[0;34m\u001b[0m\u001b[0;34m\u001b[0m\u001b[0m\n\u001b[1;32m    318\u001b[0m             \u001b[0;32mwith\u001b[0m \u001b[0msettings\u001b[0m\u001b[0;34m.\u001b[0m\u001b[0m_use_eval_tolerance\u001b[0m\u001b[0;34m(\u001b[0m\u001b[0;34m)\u001b[0m\u001b[0;34m:\u001b[0m\u001b[0;34m\u001b[0m\u001b[0;34m\u001b[0m\u001b[0m\n\u001b[0;32m--> 319\u001b[0;31m                 \u001b[0mpredictive_mean\u001b[0m\u001b[0;34m,\u001b[0m \u001b[0mpredictive_covar\u001b[0m \u001b[0;34m=\u001b[0m \u001b[0mself\u001b[0m\u001b[0;34m.\u001b[0m\u001b[0mprediction_strategy\u001b[0m\u001b[0;34m.\u001b[0m\u001b[0mexact_prediction\u001b[0m\u001b[0;34m(\u001b[0m\u001b[0mfull_mean\u001b[0m\u001b[0;34m,\u001b[0m \u001b[0mfull_covar\u001b[0m\u001b[0;34m)\u001b[0m\u001b[0;34m\u001b[0m\u001b[0;34m\u001b[0m\u001b[0m\n\u001b[0m\u001b[1;32m    320\u001b[0m \u001b[0;34m\u001b[0m\u001b[0m\n\u001b[1;32m    321\u001b[0m             \u001b[0;31m# Reshape predictive mean to match the appropriate event shape\u001b[0m\u001b[0;34m\u001b[0m\u001b[0;34m\u001b[0m\u001b[0;34m\u001b[0m\u001b[0m\n",
      "\u001b[0;32m~/libs/miniconda3/envs/aws1/lib/python3.7/site-packages/gpytorch/models/exact_prediction_strategies.py\u001b[0m in \u001b[0;36mexact_prediction\u001b[0;34m(self, joint_mean, joint_covar)\u001b[0m\n\u001b[1;32m    260\u001b[0m \u001b[0;34m\u001b[0m\u001b[0m\n\u001b[1;32m    261\u001b[0m         return (\n\u001b[0;32m--> 262\u001b[0;31m             \u001b[0mself\u001b[0m\u001b[0;34m.\u001b[0m\u001b[0mexact_predictive_mean\u001b[0m\u001b[0;34m(\u001b[0m\u001b[0mtest_mean\u001b[0m\u001b[0;34m,\u001b[0m \u001b[0mtest_train_covar\u001b[0m\u001b[0;34m)\u001b[0m\u001b[0;34m,\u001b[0m\u001b[0;34m\u001b[0m\u001b[0;34m\u001b[0m\u001b[0m\n\u001b[0m\u001b[1;32m    263\u001b[0m             \u001b[0mself\u001b[0m\u001b[0;34m.\u001b[0m\u001b[0mexact_predictive_covar\u001b[0m\u001b[0;34m(\u001b[0m\u001b[0mtest_test_covar\u001b[0m\u001b[0;34m,\u001b[0m \u001b[0mtest_train_covar\u001b[0m\u001b[0;34m)\u001b[0m\u001b[0;34m,\u001b[0m\u001b[0;34m\u001b[0m\u001b[0;34m\u001b[0m\u001b[0m\n\u001b[1;32m    264\u001b[0m         )\n",
      "\u001b[0;32m~/libs/miniconda3/envs/aws1/lib/python3.7/site-packages/gpytorch/models/exact_prediction_strategies.py\u001b[0m in \u001b[0;36mexact_predictive_mean\u001b[0;34m(self, test_mean, test_train_covar)\u001b[0m\n\u001b[1;32m    278\u001b[0m         \u001b[0;31m# You **cannot* use addmv here, because test_train_covar may not actually be a non lazy tensor even for an exact\u001b[0m\u001b[0;34m\u001b[0m\u001b[0;34m\u001b[0m\u001b[0;34m\u001b[0m\u001b[0m\n\u001b[1;32m    279\u001b[0m         \u001b[0;31m# GP, and using addmv requires you to delazify test_train_covar, which is obviously a huge no-no!\u001b[0m\u001b[0;34m\u001b[0m\u001b[0;34m\u001b[0m\u001b[0;34m\u001b[0m\u001b[0m\n\u001b[0;32m--> 280\u001b[0;31m         \u001b[0mres\u001b[0m \u001b[0;34m=\u001b[0m \u001b[0;34m(\u001b[0m\u001b[0mtest_train_covar\u001b[0m \u001b[0;34m@\u001b[0m \u001b[0mself\u001b[0m\u001b[0;34m.\u001b[0m\u001b[0mmean_cache\u001b[0m\u001b[0;34m.\u001b[0m\u001b[0munsqueeze\u001b[0m\u001b[0;34m(\u001b[0m\u001b[0;34m-\u001b[0m\u001b[0;36m1\u001b[0m\u001b[0;34m)\u001b[0m\u001b[0;34m)\u001b[0m\u001b[0;34m.\u001b[0m\u001b[0msqueeze\u001b[0m\u001b[0;34m(\u001b[0m\u001b[0;34m-\u001b[0m\u001b[0;36m1\u001b[0m\u001b[0;34m)\u001b[0m\u001b[0;34m\u001b[0m\u001b[0;34m\u001b[0m\u001b[0m\n\u001b[0m\u001b[1;32m    281\u001b[0m         \u001b[0mres\u001b[0m \u001b[0;34m=\u001b[0m \u001b[0mres\u001b[0m \u001b[0;34m+\u001b[0m \u001b[0mtest_mean\u001b[0m\u001b[0;34m\u001b[0m\u001b[0;34m\u001b[0m\u001b[0m\n\u001b[1;32m    282\u001b[0m \u001b[0;34m\u001b[0m\u001b[0m\n",
      "\u001b[0;32m~/libs/miniconda3/envs/aws1/lib/python3.7/site-packages/gpytorch/utils/memoize.py\u001b[0m in \u001b[0;36mg\u001b[0;34m(self, *args, **kwargs)\u001b[0m\n\u001b[1;32m     56\u001b[0m         \u001b[0mcache_name\u001b[0m \u001b[0;34m=\u001b[0m \u001b[0mname\u001b[0m \u001b[0;32mif\u001b[0m \u001b[0mname\u001b[0m \u001b[0;32mis\u001b[0m \u001b[0;32mnot\u001b[0m \u001b[0;32mNone\u001b[0m \u001b[0;32melse\u001b[0m \u001b[0mmethod\u001b[0m\u001b[0;34m\u001b[0m\u001b[0;34m\u001b[0m\u001b[0m\n\u001b[1;32m     57\u001b[0m         \u001b[0mkwargs_pkl\u001b[0m \u001b[0;34m=\u001b[0m \u001b[0mpickle\u001b[0m\u001b[0;34m.\u001b[0m\u001b[0mdumps\u001b[0m\u001b[0;34m(\u001b[0m\u001b[0mkwargs\u001b[0m\u001b[0;34m)\u001b[0m\u001b[0;34m\u001b[0m\u001b[0;34m\u001b[0m\u001b[0m\n\u001b[0;32m---> 58\u001b[0;31m         \u001b[0;32mif\u001b[0m \u001b[0;32mnot\u001b[0m \u001b[0m_is_in_cache\u001b[0m\u001b[0;34m(\u001b[0m\u001b[0mself\u001b[0m\u001b[0;34m,\u001b[0m \u001b[0mcache_name\u001b[0m\u001b[0;34m,\u001b[0m \u001b[0;34m*\u001b[0m\u001b[0margs\u001b[0m\u001b[0;34m,\u001b[0m \u001b[0mkwargs_pkl\u001b[0m\u001b[0;34m=\u001b[0m\u001b[0mkwargs_pkl\u001b[0m\u001b[0;34m)\u001b[0m\u001b[0;34m:\u001b[0m\u001b[0;34m\u001b[0m\u001b[0;34m\u001b[0m\u001b[0m\n\u001b[0m\u001b[1;32m     59\u001b[0m             \u001b[0;32mreturn\u001b[0m \u001b[0m_add_to_cache\u001b[0m\u001b[0;34m(\u001b[0m\u001b[0mself\u001b[0m\u001b[0;34m,\u001b[0m \u001b[0mcache_name\u001b[0m\u001b[0;34m,\u001b[0m \u001b[0mmethod\u001b[0m\u001b[0;34m(\u001b[0m\u001b[0mself\u001b[0m\u001b[0;34m,\u001b[0m \u001b[0;34m*\u001b[0m\u001b[0margs\u001b[0m\u001b[0;34m,\u001b[0m \u001b[0;34m**\u001b[0m\u001b[0mkwargs\u001b[0m\u001b[0;34m)\u001b[0m\u001b[0;34m,\u001b[0m \u001b[0;34m*\u001b[0m\u001b[0margs\u001b[0m\u001b[0;34m,\u001b[0m \u001b[0mkwargs_pkl\u001b[0m\u001b[0;34m=\u001b[0m\u001b[0mkwargs_pkl\u001b[0m\u001b[0;34m)\u001b[0m\u001b[0;34m\u001b[0m\u001b[0;34m\u001b[0m\u001b[0m\n\u001b[1;32m     60\u001b[0m         \u001b[0;32mreturn\u001b[0m \u001b[0m_get_from_cache\u001b[0m\u001b[0;34m(\u001b[0m\u001b[0mself\u001b[0m\u001b[0;34m,\u001b[0m \u001b[0mcache_name\u001b[0m\u001b[0;34m,\u001b[0m \u001b[0;34m*\u001b[0m\u001b[0margs\u001b[0m\u001b[0;34m,\u001b[0m \u001b[0mkwargs_pkl\u001b[0m\u001b[0;34m=\u001b[0m\u001b[0mkwargs_pkl\u001b[0m\u001b[0;34m)\u001b[0m\u001b[0;34m\u001b[0m\u001b[0;34m\u001b[0m\u001b[0m\n",
      "\u001b[0;32m~/libs/miniconda3/envs/aws1/lib/python3.7/site-packages/gpytorch/utils/memoize.py\u001b[0m in \u001b[0;36m_is_in_cache\u001b[0;34m(obj, name, kwargs_pkl, *args)\u001b[0m\n\u001b[1;32m     96\u001b[0m \u001b[0;34m\u001b[0m\u001b[0m\n\u001b[1;32m     97\u001b[0m \u001b[0;34m\u001b[0m\u001b[0m\n\u001b[0;32m---> 98\u001b[0;31m \u001b[0;32mdef\u001b[0m \u001b[0m_is_in_cache\u001b[0m\u001b[0;34m(\u001b[0m\u001b[0mobj\u001b[0m\u001b[0;34m,\u001b[0m \u001b[0mname\u001b[0m\u001b[0;34m,\u001b[0m \u001b[0;34m*\u001b[0m\u001b[0margs\u001b[0m\u001b[0;34m,\u001b[0m \u001b[0mkwargs_pkl\u001b[0m\u001b[0;34m)\u001b[0m\u001b[0;34m:\u001b[0m\u001b[0;34m\u001b[0m\u001b[0;34m\u001b[0m\u001b[0m\n\u001b[0m\u001b[1;32m     99\u001b[0m     \u001b[0;32mreturn\u001b[0m \u001b[0mhasattr\u001b[0m\u001b[0;34m(\u001b[0m\u001b[0mobj\u001b[0m\u001b[0;34m,\u001b[0m \u001b[0;34m\"_memoize_cache\"\u001b[0m\u001b[0;34m)\u001b[0m \u001b[0;32mand\u001b[0m \u001b[0;34m(\u001b[0m\u001b[0mname\u001b[0m\u001b[0;34m,\u001b[0m \u001b[0margs\u001b[0m\u001b[0;34m,\u001b[0m \u001b[0mkwargs_pkl\u001b[0m\u001b[0;34m)\u001b[0m \u001b[0;32min\u001b[0m \u001b[0mobj\u001b[0m\u001b[0;34m.\u001b[0m\u001b[0m_memoize_cache\u001b[0m\u001b[0;34m\u001b[0m\u001b[0;34m\u001b[0m\u001b[0m\n\u001b[1;32m    100\u001b[0m \u001b[0;34m\u001b[0m\u001b[0m\n",
      "\u001b[0;31mKeyboardInterrupt\u001b[0m: "
     ]
    }
   ],
   "source": [
    "from botorch import fit_gpytorch_model\n",
    "from botorch.sampling.samplers import SobolQMCNormalSampler\n",
    "from botorch.exceptions import BadInitialCandidatesWarning\n",
    "from botorch.utils.multi_objective.pareto import is_non_dominated\n",
    "from botorch.utils.multi_objective.box_decompositions.dominated import DominatedPartitioning\n",
    "\n",
    "import time\n",
    "import warnings\n",
    "\n",
    "import tqdm\n",
    "\n",
    "\n",
    "warnings.filterwarnings('ignore', category=BadInitialCandidatesWarning)\n",
    "warnings.filterwarnings('ignore', category=RuntimeWarning)\n",
    "\n",
    "N_BATCH = 20 if not SMOKE_TEST else 10\n",
    "MC_SAMPLES = 128  if not SMOKE_TEST else 16\n",
    "\n",
    "verbose = True\n",
    "\n",
    "hvs_qparego, hvs_qehvi, hvs_qnehvi, hvs_random = [], [], [], []\n",
    "\n",
    "# call helper functions to generate initial training data and initialize model\n",
    "train_x_qparego, train_obj_qparego, train_obj_true_qparego = generate_initial_data(n=2*(problem.dim+1))\n",
    "mll_qparego, model_qparego = initialize_model(train_x_qparego, train_obj_qparego)\n",
    "\n",
    "train_x_qehvi, train_obj_qehvi, train_obj_true_qehvi = train_x_qparego, train_obj_qparego, train_obj_true_qparego\n",
    "train_x_qnehvi, train_obj_qnehvi, train_obj_true_qnehvi = train_x_qparego, train_obj_qparego, train_obj_true_qparego\n",
    "train_x_random, train_obj_random, train_obj_true_random = train_x_qparego, train_obj_qparego, train_obj_true_qparego\n",
    "mll_qehvi, model_qehvi = initialize_model(train_x_qehvi, train_obj_qehvi)\n",
    "mll_qnehvi, model_qnehvi = initialize_model(train_x_qnehvi, train_obj_qnehvi)\n",
    "\n",
    "# compute hypervolume\n",
    "bd = DominatedPartitioning(ref_point=problem.ref_point, Y=train_obj_true_qparego)\n",
    "volume = bd.compute_hypervolume().item()\n",
    "\n",
    "hvs_qparego.append(volume)\n",
    "hvs_qehvi.append(volume)\n",
    "hvs_qnehvi.append(volume)\n",
    "hvs_random.append(volume)\n",
    "\n",
    "# run N_BATCH rounds of BayesOpt after the initial random batch\n",
    "for iteration in tqdm.trange(1, N_BATCH + 1):    \n",
    "    \n",
    "    t0 = time.time()\n",
    "    \n",
    "    # fit the models\n",
    "    fit_gpytorch_model(mll_qparego)\n",
    "    fit_gpytorch_model(mll_qehvi)\n",
    "    fit_gpytorch_model(mll_qnehvi)\n",
    "    \n",
    "    # define the qEI and qNEI acquisition modules using a QMC sampler\n",
    "    qparego_sampler = SobolQMCNormalSampler(num_samples=MC_SAMPLES)\n",
    "    qehvi_sampler = SobolQMCNormalSampler(num_samples=MC_SAMPLES)\n",
    "    qnehvi_sampler = SobolQMCNormalSampler(num_samples=MC_SAMPLES)\n",
    "    \n",
    "    # optimize acquisition functions and get new observations\n",
    "    new_x_qparego, new_obj_qparego, new_obj_true_qparego = optimize_qnparego_and_get_observation(\n",
    "        model_qparego, train_x_qparego, train_obj_qparego, qparego_sampler\n",
    "    )\n",
    "    new_x_qehvi, new_obj_qehvi, new_obj_true_qehvi = optimize_qehvi_and_get_observation(\n",
    "        model_qehvi, train_x_qehvi, train_obj_qehvi, qehvi_sampler\n",
    "    )\n",
    "    new_x_qnehvi, new_obj_qnehvi, new_obj_true_qnehvi = optimize_qnehvi_and_get_observation(\n",
    "        model_qnehvi, train_x_qnehvi, train_obj_qnehvi, qnehvi_sampler\n",
    "    )\n",
    "    new_x_random, new_obj_random, new_obj_true_random = generate_initial_data(n=BATCH_SIZE)\n",
    "            \n",
    "    # update training points\n",
    "    train_x_qparego = torch.cat([train_x_qparego, new_x_qparego])\n",
    "    train_obj_qparego = torch.cat([train_obj_qparego, new_obj_qparego])\n",
    "    train_obj_true_qparego = torch.cat([train_obj_true_qparego, new_obj_true_qparego])\n",
    "\n",
    "    train_x_qehvi = torch.cat([train_x_qehvi, new_x_qehvi])\n",
    "    train_obj_qehvi = torch.cat([train_obj_qehvi, new_obj_qehvi])\n",
    "    train_obj_true_qehvi = torch.cat([train_obj_true_qehvi, new_obj_true_qehvi])\n",
    "    \n",
    "    train_x_qnehvi = torch.cat([train_x_qnehvi, new_x_qnehvi])\n",
    "    train_obj_qnehvi = torch.cat([train_obj_qnehvi, new_obj_qnehvi])\n",
    "    train_obj_true_qnehvi = torch.cat([train_obj_true_qnehvi, new_obj_true_qnehvi])\n",
    "\n",
    "    train_x_random = torch.cat([train_x_random, new_x_random])\n",
    "    train_obj_random = torch.cat([train_obj_random, new_obj_random])\n",
    "    train_obj_true_random = torch.cat([train_obj_true_random, new_obj_true_random])\n",
    "    \n",
    "\n",
    "    # update progress\n",
    "    for hvs_list, train_obj in zip(\n",
    "        (hvs_random, hvs_qparego, hvs_qehvi, hvs_qnehvi), \n",
    "        (train_obj_true_random, train_obj_true_qparego, train_obj_true_qehvi, train_obj_true_qnehvi),\n",
    "    ):\n",
    "        # compute hypervolume\n",
    "        bd = DominatedPartitioning(ref_point=problem.ref_point, Y=train_obj)\n",
    "        volume = bd.compute_hypervolume().item()\n",
    "        hvs_list.append(volume)\n",
    "\n",
    "    # reinitialize the models so they are ready for fitting on next iteration\n",
    "    # Note: we find improved performance from not warm starting the model hyperparameters\n",
    "    # using the hyperparameters from the previous iteration\n",
    "    mll_qparego, model_qparego = initialize_model(train_x_qparego, train_obj_qparego)\n",
    "    mll_qehvi, model_qehvi = initialize_model(train_x_qehvi, train_obj_qehvi)\n",
    "    mll_qnehvi, model_qnehvi = initialize_model(train_x_qnehvi, train_obj_qnehvi)\n",
    "    \n",
    "    t1 = time.time()\n",
    "    \n",
    "    if verbose:\n",
    "        print(\n",
    "            f\"\\nBatch {iteration:>2}: Hypervolume (random, qNParEGO, qEHVI, qNEHVI) = \"\n",
    "            f\"({hvs_random[-1]:>4.2f}, {hvs_qparego[-1]:>4.2f}, {hvs_qehvi[-1]:>4.2f}, {hvs_qnehvi[-1]:>4.2f}), \"\n",
    "            f\"time = {t1-t0:>4.2f}.\", end=\"\"\n",
    "        )\n",
    "    else:\n",
    "        print(\".\", end=\"\")"
   ]
  },
  {
   "cell_type": "markdown",
   "metadata": {
    "originalKey": "72232578-0908-4292-aca4-d52197890dd6"
   },
   "source": [
    "#### Plot the results\n",
    "The plot below shows the a common metric of multi-objective optimization performance, the log hypervolume difference: the log difference between the hypervolume of the true pareto front and the hypervolume of the approximate pareto front identified by each algorithm. The log hypervolume difference is plotted at each step of the optimization for each of the algorithms.\n",
    "\n",
    "The plot shows that $q$NEHVI outperforms $q$EHVI, $q$ParEGO, and Sobol."
   ]
  },
  {
   "cell_type": "code",
   "execution_count": 747,
   "metadata": {
    "executionStartTime": 1648573343240,
    "executionStopTime": 1648573345704,
    "originalKey": "c9560130-5c74-4b2b-b24a-fd7618ee7822",
    "requestMsgId": "c9560130-5c74-4b2b-b24a-fd7618ee7822"
   },
   "outputs": [
    {
     "data": {
      "text/plain": [
       "<matplotlib.legend.Legend at 0x7fec4f78e310>"
      ]
     },
     "execution_count": 747,
     "metadata": {},
     "output_type": "execute_result"
    },
    {
     "data": {
      "image/png": "[encoded data removed]",
      "text/plain": [
       "<Figure size 576x432 with 1 Axes>"
      ]
     },
     "metadata": {
      "needs_background": "light"
     },
     "output_type": "display_data"
    }
   ],
   "source": [
    "import numpy as np\n",
    "from matplotlib import pyplot as plt\n",
    "\n",
    "%matplotlib inline\n",
    "\n",
    "\n",
    "iters = np.arange(N_BATCH + 1) * BATCH_SIZE\n",
    "log_hv_difference_qparego = np.log10(problem.max_hv - np.asarray(hvs_qparego))\n",
    "log_hv_difference_qehvi = np.log10(problem.max_hv - np.asarray(hvs_qehvi))\n",
    "log_hv_difference_qnehvi = np.log10(problem.max_hv - np.asarray(hvs_qnehvi))\n",
    "log_hv_difference_rnd = np.log10(problem.max_hv - np.asarray(hvs_random))\n",
    "\n",
    "fig, ax = plt.subplots(1, 1, figsize=(8, 6))\n",
    "ax.errorbar(\n",
    "    iters, log_hv_difference_rnd, label=\"Sobol\", linewidth=1.5,\n",
    ")\n",
    "ax.errorbar(\n",
    "    iters, log_hv_difference_qparego, label=\"qNParEGO\", linewidth=1.5,\n",
    ")\n",
    "ax.errorbar(\n",
    "    iters, log_hv_difference_qehvi, label=\"qEHVI\", linewidth=1.5,\n",
    ")\n",
    "ax.errorbar(\n",
    "    iters, log_hv_difference_qnehvi, label=\"qNEHVI\", linewidth=1.5,\n",
    ")\n",
    "ax.set(xlabel='number of observations (beyond initial points)', ylabel='Log Hypervolume Difference')\n",
    "ax.legend(loc=\"lower left\")"
   ]
  },
  {
   "cell_type": "code",
   "execution_count": 748,
   "metadata": {},
   "outputs": [
    {
     "data": {
      "text/plain": [
       "<matplotlib.legend.Legend at 0x7fec4f7a6a10>"
      ]
     },
     "execution_count": 748,
     "metadata": {},
     "output_type": "execute_result"
    },
    {
     "data": {
      "image/png": "[encoded data removed]",
      "text/plain": [
       "<Figure size 576x432 with 1 Axes>"
      ]
     },
     "metadata": {
      "needs_background": "light"
     },
     "output_type": "display_data"
    }
   ],
   "source": [
    "import numpy as np\n",
    "from matplotlib import pyplot as plt\n",
    "\n",
    "%matplotlib inline\n",
    "\n",
    "\n",
    "iters = np.arange(N_BATCH + 1) * BATCH_SIZE\n",
    "log_hv_difference_qparego = np.log10(np.asarray(hvs_qparego))\n",
    "log_hv_difference_qehvi = np.log10(np.asarray(hvs_qehvi))\n",
    "log_hv_difference_qnehvi = np.log10(np.asarray(hvs_qnehvi))\n",
    "log_hv_difference_rnd = np.log10(np.asarray(hvs_random))\n",
    "\n",
    "fig, ax = plt.subplots(1, 1, figsize=(8, 6))\n",
    "ax.errorbar(\n",
    "    iters, log_hv_difference_rnd, label=\"Sobol\", linewidth=1.5,\n",
    ")\n",
    "ax.errorbar(\n",
    "    iters, log_hv_difference_qparego, label=\"qNParEGO\", linewidth=1.5,\n",
    ")\n",
    "ax.errorbar(\n",
    "    iters, log_hv_difference_qehvi, label=\"qEHVI\", linewidth=1.5,\n",
    ")\n",
    "ax.errorbar(\n",
    "    iters, log_hv_difference_qnehvi, label=\"qNEHVI\", linewidth=1.5,\n",
    ")\n",
    "ax.set(xlabel='number of observations (beyond initial points)', ylabel='Log Hypervolume Difference')\n",
    "ax.legend(loc=\"lower left\")"
   ]
  },
  {
   "cell_type": "markdown",
   "metadata": {
    "collapsed": true,
    "originalKey": "824c329c-6c02-4f67-bce0-a4c57ea655d8"
   },
   "source": [
    "#### Plot the true objectives at the evaluated designs colored by iteration\n",
    "\n",
    "To examine optimization process from another perspective, we plot the true function values at the designs selected under each algorithm where the color corresponds to the BO iteration at which the point was collected. The plot on the right for $q$NEHVI shows that the $q$NEHVI quickly identifies the pareto front and most of its evaluations are very close to the pareto front. $q$NParEGO also identifies has many observations close to the pareto front, but relies on optimizing random scalarizations, which is a less principled way of optimizing the pareto front compared to $q$NEHVI, which explicitly attempts focuses on improving the pareto front. $q$EHVI uses the posterior mean as a plug-in estimator for the true function values at the in-sample points, whereas $q$NEHVI than integrating over the uncertainty at the in-sample designs Sobol generates random points and has few points close to the Pareto front."
   ]
  },
  {
   "cell_type": "code",
   "execution_count": 750,
   "metadata": {
    "executionStartTime": 1648573345708,
    "executionStopTime": 1648573346746,
    "originalKey": "cf610a77-3e82-4c30-ac7b-f7a97fa91fa5",
    "requestMsgId": "cf610a77-3e82-4c30-ac7b-f7a97fa91fa5"
   },
   "outputs": [
    {
     "data": {
      "text/plain": [
       "Text(0.5, 1.0, 'Iteration')"
      ]
     },
     "execution_count": 750,
     "metadata": {},
     "output_type": "execute_result"
    },
    {
     "data": {
      "image/png": "[encoded data removed]",
      "text/plain": [
       "<Figure size 1656x504 with 5 Axes>"
      ]
     },
     "metadata": {
      "needs_background": "light"
     },
     "output_type": "display_data"
    }
   ],
   "source": [
    "from matplotlib.cm import ScalarMappable\n",
    "\n",
    "\n",
    "fig, axes = plt.subplots(1, 4, figsize=(23, 7), sharex=True, sharey=True)\n",
    "algos = [\"Sobol\", \"qNParEGO\", \"qEHVI\", \"qNEHVI\"]\n",
    "cm = plt.cm.get_cmap('viridis')\n",
    "\n",
    "batch_number = torch.cat(\n",
    "    [torch.zeros(2*(problem.dim+1)), torch.arange(1, N_BATCH+1).repeat(BATCH_SIZE, 1).t().reshape(-1)]\n",
    ").numpy()\n",
    "for i, train_obj in enumerate((train_obj_true_random, train_obj_true_qparego, train_obj_true_qehvi, train_obj_true_qnehvi)):\n",
    "    sc = axes[i].scatter(\n",
    "        train_obj[:, 0].cpu().numpy(), train_obj[:,1].cpu().numpy(), c=batch_number, alpha=0.8,\n",
    "    )\n",
    "    axes[i].set_title(algos[i])\n",
    "    axes[i].set_xlabel(\"Objective 1\")\n",
    "axes[0].set_ylabel(\"Objective 2\")\n",
    "norm = plt.Normalize(batch_number.min(), batch_number.max())\n",
    "sm =  ScalarMappable(norm=norm, cmap=cm)\n",
    "sm.set_array([])\n",
    "fig.subplots_adjust(right=0.9)\n",
    "cbar_ax = fig.add_axes([0.93, 0.15, 0.01, 0.7])\n",
    "cbar = fig.colorbar(sm, cax=cbar_ax)\n",
    "cbar.ax.set_title(\"Iteration\")"
   ]
  },
  {
   "cell_type": "code",
   "execution_count": null,
   "metadata": {},
   "outputs": [],
   "source": []
  }
 ],
 "metadata": {
  "kernelspec": {
   "display_name": "Python 3 (ipykernel)",
   "language": "python",
   "name": "python3"
  },
  "language_info": {
   "codemirror_mode": {
    "name": "ipython",
    "version": 3
   },
   "file_extension": ".py",
   "mimetype": "text/x-python",
   "name": "python",
   "nbconvert_exporter": "python",
   "pygments_lexer": "ipython3",
   "version": "3.7.12"
  },
  "last_base_url": "https://37017.od.fbinfra.net:443/",
  "last_kernel_id": "95b6806e-cf1e-47b9-9190-a88107d67edf",
  "last_msg_id": "30f1000a-d5cac795fc70a3915125555a_28",
  "last_server_session_id": "41b87250-20be-4786-8eea-6b05f3be1c71",
  "outputWidgetContext": {}
 },
 "nbformat": 4,
 "nbformat_minor": 2
}
